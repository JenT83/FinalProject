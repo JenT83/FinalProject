{
 "cells": [
  {
   "cell_type": "markdown",
   "metadata": {
    "nbpresent": {
     "id": "f1c699bc-6717-4eb9-8e6d-66d433ba4618"
    },
    "slideshow": {
     "slide_type": "slide"
    }
   },
   "source": [
    "## Evaluate Models \n",
    "\n",
    "Try the various types of models to determine which is the best\n"
   ]
  },
  {
   "cell_type": "code",
   "execution_count": 1,
   "metadata": {
    "nbpresent": {
     "id": "828c2e12-b1c6-4994-8f55-ce86373b6c97"
    },
    "slideshow": {
     "slide_type": "fragment"
    }
   },
   "outputs": [],
   "source": [
    "# import dependencies\n",
    "%matplotlib inline\n",
    "import matplotlib.pyplot as plt\n",
    "import numpy as np\n",
    "import pandas as pd\n",
    "from sklearn.linear_model import LinearRegression\n",
    "from sklearn.model_selection import train_test_split\n",
    "from sklearn.metrics import classification_report"
   ]
  },
  {
   "cell_type": "code",
   "execution_count": 2,
   "metadata": {},
   "outputs": [
    {
     "data": {
      "text/html": [
       "<div>\n",
       "<style scoped>\n",
       "    .dataframe tbody tr th:only-of-type {\n",
       "        vertical-align: middle;\n",
       "    }\n",
       "\n",
       "    .dataframe tbody tr th {\n",
       "        vertical-align: top;\n",
       "    }\n",
       "\n",
       "    .dataframe thead th {\n",
       "        text-align: right;\n",
       "    }\n",
       "</style>\n",
       "<table border=\"1\" class=\"dataframe\">\n",
       "  <thead>\n",
       "    <tr style=\"text-align: right;\">\n",
       "      <th></th>\n",
       "      <th>Amount</th>\n",
       "      <th>Date_of_Spend</th>\n",
       "      <th>Distance</th>\n",
       "      <th>Latitude_Recipient</th>\n",
       "      <th>Latitude_Vendor</th>\n",
       "      <th>Longitude_Recipient</th>\n",
       "      <th>Longitude_Vendor</th>\n",
       "      <th>Recipient_NUMBER</th>\n",
       "      <th>Vendor_NUMBER</th>\n",
       "      <th>FRAUD_INDICATOR</th>\n",
       "    </tr>\n",
       "  </thead>\n",
       "  <tbody>\n",
       "    <tr>\n",
       "      <th>0</th>\n",
       "      <td>197</td>\n",
       "      <td>01/24/2018</td>\n",
       "      <td>9.547736</td>\n",
       "      <td>36.081448</td>\n",
       "      <td>36.097426</td>\n",
       "      <td>-79.267657</td>\n",
       "      <td>-79.437501</td>\n",
       "      <td>13</td>\n",
       "      <td>10</td>\n",
       "      <td>0</td>\n",
       "    </tr>\n",
       "    <tr>\n",
       "      <th>1</th>\n",
       "      <td>44</td>\n",
       "      <td>01/07/2018</td>\n",
       "      <td>1.374235</td>\n",
       "      <td>36.091285</td>\n",
       "      <td>36.084506</td>\n",
       "      <td>-79.518872</td>\n",
       "      <td>-79.495735</td>\n",
       "      <td>14</td>\n",
       "      <td>4</td>\n",
       "      <td>0</td>\n",
       "    </tr>\n",
       "    <tr>\n",
       "      <th>2</th>\n",
       "      <td>318</td>\n",
       "      <td>01/23/2018</td>\n",
       "      <td>105.631561</td>\n",
       "      <td>36.018797</td>\n",
       "      <td>36.050240</td>\n",
       "      <td>-79.433974</td>\n",
       "      <td>-81.324046</td>\n",
       "      <td>15</td>\n",
       "      <td>3</td>\n",
       "      <td>1</td>\n",
       "    </tr>\n",
       "    <tr>\n",
       "      <th>3</th>\n",
       "      <td>334</td>\n",
       "      <td>01/15/2018</td>\n",
       "      <td>100.859056</td>\n",
       "      <td>36.091285</td>\n",
       "      <td>36.050240</td>\n",
       "      <td>-79.518872</td>\n",
       "      <td>-81.324046</td>\n",
       "      <td>16</td>\n",
       "      <td>3</td>\n",
       "      <td>1</td>\n",
       "    </tr>\n",
       "    <tr>\n",
       "      <th>4</th>\n",
       "      <td>333</td>\n",
       "      <td>01/04/2018</td>\n",
       "      <td>30.104216</td>\n",
       "      <td>36.125949</td>\n",
       "      <td>35.830217</td>\n",
       "      <td>-79.437330</td>\n",
       "      <td>-79.041980</td>\n",
       "      <td>17</td>\n",
       "      <td>2</td>\n",
       "      <td>1</td>\n",
       "    </tr>\n",
       "  </tbody>\n",
       "</table>\n",
       "</div>"
      ],
      "text/plain": [
       "   Amount Date_of_Spend    Distance  Latitude_Recipient  Latitude_Vendor  \\\n",
       "0     197    01/24/2018    9.547736           36.081448        36.097426   \n",
       "1      44    01/07/2018    1.374235           36.091285        36.084506   \n",
       "2     318    01/23/2018  105.631561           36.018797        36.050240   \n",
       "3     334    01/15/2018  100.859056           36.091285        36.050240   \n",
       "4     333    01/04/2018   30.104216           36.125949        35.830217   \n",
       "\n",
       "   Longitude_Recipient  Longitude_Vendor  Recipient_NUMBER  Vendor_NUMBER  \\\n",
       "0           -79.267657        -79.437501                13             10   \n",
       "1           -79.518872        -79.495735                14              4   \n",
       "2           -79.433974        -81.324046                15              3   \n",
       "3           -79.518872        -81.324046                16              3   \n",
       "4           -79.437330        -79.041980                17              2   \n",
       "\n",
       "   FRAUD_INDICATOR  \n",
       "0                0  \n",
       "1                0  \n",
       "2                1  \n",
       "3                1  \n",
       "4                1  "
      ]
     },
     "execution_count": 2,
     "metadata": {},
     "output_type": "execute_result"
    }
   ],
   "source": [
    "# read in csv files into pd df\n",
    "month1 = pd.read_csv('Output/Vendor_M1_D.del')\n",
    "month2 = pd.read_csv('Output/Vendor_M2_D.del')\n",
    "# month3 = pd.read_csv('Output/Vendor_M3_D.del')\n",
    "# month4 = pd.read_csv('Output/Vendor_M4_D.del')\n",
    "# month5 = pd.read_csv('Output/Vendor_M5_D.del')\n",
    "# month6 = pd.read_csv('Output/Vendor_M6_D.del')\n",
    "# month7 = pd.read_csv('Output/Vendor_M7_D.del')\n",
    "# month8 = pd.read_csv('Output/Vendor_M8_D.del')\n",
    "# month9 = pd.read_csv('Output/Vendor_M9_D.del')\n",
    "# month10 = pd.read_csv('Output/Vendor_M10_D.del')\n",
    "# month11 = pd.read_csv('Output/Vendor_M11_D.del')\n",
    "# month12 = pd.read_csv('Output/Vendor_M12_D.del')\n",
    "month1.head()"
   ]
  },
  {
   "cell_type": "markdown",
   "metadata": {
    "nbpresent": {
     "id": "f1c699bc-6717-4eb9-8e6d-66d433ba4618"
    },
    "slideshow": {
     "slide_type": "slide"
    }
   },
   "source": [
    "## Linear Regression \n"
   ]
  },
  {
   "cell_type": "code",
   "execution_count": 9,
   "metadata": {
    "nbpresent": {
     "id": "3810c2af-fdbe-4f01-bc9f-2bb1a8ae70c6"
    },
    "slideshow": {
     "slide_type": "fragment"
    }
   },
   "outputs": [
    {
     "data": {
      "text/plain": [
       "(8409, 10)"
      ]
     },
     "execution_count": 9,
     "metadata": {},
     "output_type": "execute_result"
    }
   ],
   "source": [
    "# create linear model \n",
    "model = LinearRegression()\n",
    "model\n",
    "\n",
    "# x,y\n",
    "X = month1[\"Distance\"].values.reshape(-1,1)\n",
    "y = month1[\"Amount\"].values.reshape(-1,1)\n",
    "\n",
    "month1.shape\n",
    "# print(X)"
   ]
  },
  {
   "cell_type": "code",
   "execution_count": 10,
   "metadata": {
    "nbpresent": {
     "id": "aeeeb44d-7825-4050-b7ba-70813bd3396b"
    },
    "slideshow": {
     "slide_type": "fragment"
    }
   },
   "outputs": [
    {
     "name": "stdout",
     "output_type": "stream",
     "text": [
      "LinearRegression(copy_X=True, fit_intercept=True, n_jobs=1, normalize=False)\n"
     ]
    }
   ],
   "source": [
    "# fit the model to our data\n",
    "model.fit(X, y)\n",
    "print(model)"
   ]
  },
  {
   "cell_type": "code",
   "execution_count": 11,
   "metadata": {
    "nbpresent": {
     "id": "9bfbb27b-cae0-4feb-809a-77718bb2e6a3"
    },
    "slideshow": {
     "slide_type": "fragment"
    }
   },
   "outputs": [
    {
     "name": "stdout",
     "output_type": "stream",
     "text": [
      "Weight coefficients:  [[1.43890339]]\n",
      "y-axis intercept:  [133.73347271]\n"
     ]
    }
   ],
   "source": [
    "# view the linear model (y =mx + b)\n",
    "print('Weight coefficients: ', model.coef_)\n",
    "print('y-axis intercept: ', model.intercept_) "
   ]
  },
  {
   "cell_type": "code",
   "execution_count": 12,
   "metadata": {
    "nbpresent": {
     "id": "3d860568-b048-40f2-a64d-f585211d6c1c"
    },
    "slideshow": {
     "slide_type": "fragment"
    }
   },
   "outputs": [
    {
     "name": "stdout",
     "output_type": "stream",
     "text": [
      "True output: [197]\n",
      "Predicted output: [147.47174296]\n",
      "Prediction Error: [-49.52825704]\n"
     ]
    }
   ],
   "source": [
    "# use our model to make predictions\n",
    "predictions = model.predict(X)\n",
    "print(f\"True output: {y[0]}\")\n",
    "print(f\"Predicted output: {predictions[0]}\")\n",
    "print(f\"Prediction Error: {predictions[0]-y[0]}\")"
   ]
  },
  {
   "cell_type": "code",
   "execution_count": 13,
   "metadata": {
    "nbpresent": {
     "id": "a6d0bdff-9bba-472e-b354-da47b8761dbe"
    },
    "slideshow": {
     "slide_type": "subslide"
    }
   },
   "outputs": [
    {
     "name": "stderr",
     "output_type": "stream",
     "text": [
      "C:\\Users\\DAbootcamp1\\Anaconda3\\envs\\PythonData\\lib\\site-packages\\pandas\\core\\dtypes\\dtypes.py:271: FutureWarning: elementwise comparison failed; returning scalar instead, but in the future will perform elementwise comparison\n",
      "  if string == 'category':\n"
     ]
    },
    {
     "data": {
      "text/html": [
       "<div>\n",
       "<style scoped>\n",
       "    .dataframe tbody tr th:only-of-type {\n",
       "        vertical-align: middle;\n",
       "    }\n",
       "\n",
       "    .dataframe tbody tr th {\n",
       "        vertical-align: top;\n",
       "    }\n",
       "\n",
       "    .dataframe thead th {\n",
       "        text-align: right;\n",
       "    }\n",
       "</style>\n",
       "<table border=\"1\" class=\"dataframe\">\n",
       "  <thead>\n",
       "    <tr style=\"text-align: right;\">\n",
       "      <th></th>\n",
       "      <th>Predicted</th>\n",
       "      <th>Actual</th>\n",
       "      <th>Error</th>\n",
       "    </tr>\n",
       "  </thead>\n",
       "  <tbody>\n",
       "    <tr>\n",
       "      <th>0</th>\n",
       "      <td>147.471743</td>\n",
       "      <td>197</td>\n",
       "      <td>-49.528257</td>\n",
       "    </tr>\n",
       "    <tr>\n",
       "      <th>1</th>\n",
       "      <td>135.710864</td>\n",
       "      <td>44</td>\n",
       "      <td>91.710864</td>\n",
       "    </tr>\n",
       "    <tr>\n",
       "      <th>2</th>\n",
       "      <td>285.727085</td>\n",
       "      <td>318</td>\n",
       "      <td>-32.272915</td>\n",
       "    </tr>\n",
       "    <tr>\n",
       "      <th>3</th>\n",
       "      <td>278.859910</td>\n",
       "      <td>334</td>\n",
       "      <td>-55.140090</td>\n",
       "    </tr>\n",
       "    <tr>\n",
       "      <th>4</th>\n",
       "      <td>177.050531</td>\n",
       "      <td>333</td>\n",
       "      <td>-155.949469</td>\n",
       "    </tr>\n",
       "    <tr>\n",
       "      <th>5</th>\n",
       "      <td>137.195995</td>\n",
       "      <td>109</td>\n",
       "      <td>28.195995</td>\n",
       "    </tr>\n",
       "    <tr>\n",
       "      <th>6</th>\n",
       "      <td>176.485812</td>\n",
       "      <td>108</td>\n",
       "      <td>68.485812</td>\n",
       "    </tr>\n",
       "    <tr>\n",
       "      <th>7</th>\n",
       "      <td>146.995661</td>\n",
       "      <td>150</td>\n",
       "      <td>-3.004339</td>\n",
       "    </tr>\n",
       "    <tr>\n",
       "      <th>8</th>\n",
       "      <td>138.470612</td>\n",
       "      <td>188</td>\n",
       "      <td>-49.529388</td>\n",
       "    </tr>\n",
       "    <tr>\n",
       "      <th>9</th>\n",
       "      <td>137.098931</td>\n",
       "      <td>34</td>\n",
       "      <td>103.098931</td>\n",
       "    </tr>\n",
       "    <tr>\n",
       "      <th>10</th>\n",
       "      <td>163.372935</td>\n",
       "      <td>52</td>\n",
       "      <td>111.372935</td>\n",
       "    </tr>\n",
       "    <tr>\n",
       "      <th>11</th>\n",
       "      <td>144.432515</td>\n",
       "      <td>136</td>\n",
       "      <td>8.432515</td>\n",
       "    </tr>\n",
       "    <tr>\n",
       "      <th>12</th>\n",
       "      <td>142.127983</td>\n",
       "      <td>40</td>\n",
       "      <td>102.127983</td>\n",
       "    </tr>\n",
       "    <tr>\n",
       "      <th>13</th>\n",
       "      <td>142.203998</td>\n",
       "      <td>93</td>\n",
       "      <td>49.203998</td>\n",
       "    </tr>\n",
       "    <tr>\n",
       "      <th>14</th>\n",
       "      <td>139.864954</td>\n",
       "      <td>104</td>\n",
       "      <td>35.864954</td>\n",
       "    </tr>\n",
       "    <tr>\n",
       "      <th>15</th>\n",
       "      <td>151.345499</td>\n",
       "      <td>105</td>\n",
       "      <td>46.345499</td>\n",
       "    </tr>\n",
       "    <tr>\n",
       "      <th>16</th>\n",
       "      <td>150.818815</td>\n",
       "      <td>118</td>\n",
       "      <td>32.818815</td>\n",
       "    </tr>\n",
       "    <tr>\n",
       "      <th>17</th>\n",
       "      <td>140.457926</td>\n",
       "      <td>140</td>\n",
       "      <td>0.457926</td>\n",
       "    </tr>\n",
       "    <tr>\n",
       "      <th>18</th>\n",
       "      <td>178.949910</td>\n",
       "      <td>221</td>\n",
       "      <td>-42.050090</td>\n",
       "    </tr>\n",
       "    <tr>\n",
       "      <th>19</th>\n",
       "      <td>136.714373</td>\n",
       "      <td>35</td>\n",
       "      <td>101.714373</td>\n",
       "    </tr>\n",
       "    <tr>\n",
       "      <th>20</th>\n",
       "      <td>142.483200</td>\n",
       "      <td>39</td>\n",
       "      <td>103.483200</td>\n",
       "    </tr>\n",
       "    <tr>\n",
       "      <th>21</th>\n",
       "      <td>144.770009</td>\n",
       "      <td>103</td>\n",
       "      <td>41.770009</td>\n",
       "    </tr>\n",
       "    <tr>\n",
       "      <th>22</th>\n",
       "      <td>140.457926</td>\n",
       "      <td>194</td>\n",
       "      <td>-53.542074</td>\n",
       "    </tr>\n",
       "    <tr>\n",
       "      <th>23</th>\n",
       "      <td>162.829162</td>\n",
       "      <td>46</td>\n",
       "      <td>116.829162</td>\n",
       "    </tr>\n",
       "    <tr>\n",
       "      <th>24</th>\n",
       "      <td>136.113881</td>\n",
       "      <td>190</td>\n",
       "      <td>-53.886119</td>\n",
       "    </tr>\n",
       "    <tr>\n",
       "      <th>25</th>\n",
       "      <td>134.929212</td>\n",
       "      <td>79</td>\n",
       "      <td>55.929212</td>\n",
       "    </tr>\n",
       "    <tr>\n",
       "      <th>26</th>\n",
       "      <td>278.411406</td>\n",
       "      <td>54</td>\n",
       "      <td>224.411406</td>\n",
       "    </tr>\n",
       "    <tr>\n",
       "      <th>27</th>\n",
       "      <td>181.000568</td>\n",
       "      <td>241</td>\n",
       "      <td>-59.999432</td>\n",
       "    </tr>\n",
       "    <tr>\n",
       "      <th>28</th>\n",
       "      <td>163.031926</td>\n",
       "      <td>160</td>\n",
       "      <td>3.031926</td>\n",
       "    </tr>\n",
       "    <tr>\n",
       "      <th>29</th>\n",
       "      <td>139.174697</td>\n",
       "      <td>58</td>\n",
       "      <td>81.174697</td>\n",
       "    </tr>\n",
       "    <tr>\n",
       "      <th>...</th>\n",
       "      <td>...</td>\n",
       "      <td>...</td>\n",
       "      <td>...</td>\n",
       "    </tr>\n",
       "    <tr>\n",
       "      <th>8379</th>\n",
       "      <td>147.645765</td>\n",
       "      <td>110</td>\n",
       "      <td>37.645765</td>\n",
       "    </tr>\n",
       "    <tr>\n",
       "      <th>8380</th>\n",
       "      <td>141.126965</td>\n",
       "      <td>176</td>\n",
       "      <td>-34.873035</td>\n",
       "    </tr>\n",
       "    <tr>\n",
       "      <th>8381</th>\n",
       "      <td>146.653329</td>\n",
       "      <td>181</td>\n",
       "      <td>-34.346671</td>\n",
       "    </tr>\n",
       "    <tr>\n",
       "      <th>8382</th>\n",
       "      <td>140.374756</td>\n",
       "      <td>80</td>\n",
       "      <td>60.374756</td>\n",
       "    </tr>\n",
       "    <tr>\n",
       "      <th>8383</th>\n",
       "      <td>138.808315</td>\n",
       "      <td>202</td>\n",
       "      <td>-63.191685</td>\n",
       "    </tr>\n",
       "    <tr>\n",
       "      <th>8384</th>\n",
       "      <td>139.005054</td>\n",
       "      <td>166</td>\n",
       "      <td>-26.994946</td>\n",
       "    </tr>\n",
       "    <tr>\n",
       "      <th>8385</th>\n",
       "      <td>140.766324</td>\n",
       "      <td>221</td>\n",
       "      <td>-80.233676</td>\n",
       "    </tr>\n",
       "    <tr>\n",
       "      <th>8386</th>\n",
       "      <td>135.074712</td>\n",
       "      <td>186</td>\n",
       "      <td>-50.925288</td>\n",
       "    </tr>\n",
       "    <tr>\n",
       "      <th>8387</th>\n",
       "      <td>140.757822</td>\n",
       "      <td>146</td>\n",
       "      <td>-5.242178</td>\n",
       "    </tr>\n",
       "    <tr>\n",
       "      <th>8388</th>\n",
       "      <td>144.730464</td>\n",
       "      <td>167</td>\n",
       "      <td>-22.269536</td>\n",
       "    </tr>\n",
       "    <tr>\n",
       "      <th>8389</th>\n",
       "      <td>139.215080</td>\n",
       "      <td>30</td>\n",
       "      <td>109.215080</td>\n",
       "    </tr>\n",
       "    <tr>\n",
       "      <th>8390</th>\n",
       "      <td>140.913375</td>\n",
       "      <td>36</td>\n",
       "      <td>104.913375</td>\n",
       "    </tr>\n",
       "    <tr>\n",
       "      <th>8391</th>\n",
       "      <td>137.350213</td>\n",
       "      <td>140</td>\n",
       "      <td>-2.649787</td>\n",
       "    </tr>\n",
       "    <tr>\n",
       "      <th>8392</th>\n",
       "      <td>134.406543</td>\n",
       "      <td>168</td>\n",
       "      <td>-33.593457</td>\n",
       "    </tr>\n",
       "    <tr>\n",
       "      <th>8393</th>\n",
       "      <td>137.399284</td>\n",
       "      <td>85</td>\n",
       "      <td>52.399284</td>\n",
       "    </tr>\n",
       "    <tr>\n",
       "      <th>8394</th>\n",
       "      <td>133.968779</td>\n",
       "      <td>187</td>\n",
       "      <td>-53.031221</td>\n",
       "    </tr>\n",
       "    <tr>\n",
       "      <th>8395</th>\n",
       "      <td>144.233629</td>\n",
       "      <td>91</td>\n",
       "      <td>53.233629</td>\n",
       "    </tr>\n",
       "    <tr>\n",
       "      <th>8396</th>\n",
       "      <td>134.985996</td>\n",
       "      <td>60</td>\n",
       "      <td>74.985996</td>\n",
       "    </tr>\n",
       "    <tr>\n",
       "      <th>8397</th>\n",
       "      <td>134.523910</td>\n",
       "      <td>26</td>\n",
       "      <td>108.523910</td>\n",
       "    </tr>\n",
       "    <tr>\n",
       "      <th>8398</th>\n",
       "      <td>145.312939</td>\n",
       "      <td>230</td>\n",
       "      <td>-84.687061</td>\n",
       "    </tr>\n",
       "    <tr>\n",
       "      <th>8399</th>\n",
       "      <td>137.525485</td>\n",
       "      <td>206</td>\n",
       "      <td>-68.474515</td>\n",
       "    </tr>\n",
       "    <tr>\n",
       "      <th>8400</th>\n",
       "      <td>148.008097</td>\n",
       "      <td>147</td>\n",
       "      <td>1.008097</td>\n",
       "    </tr>\n",
       "    <tr>\n",
       "      <th>8401</th>\n",
       "      <td>141.864005</td>\n",
       "      <td>115</td>\n",
       "      <td>26.864005</td>\n",
       "    </tr>\n",
       "    <tr>\n",
       "      <th>8402</th>\n",
       "      <td>147.726686</td>\n",
       "      <td>80</td>\n",
       "      <td>67.726686</td>\n",
       "    </tr>\n",
       "    <tr>\n",
       "      <th>8403</th>\n",
       "      <td>141.730648</td>\n",
       "      <td>134</td>\n",
       "      <td>7.730648</td>\n",
       "    </tr>\n",
       "    <tr>\n",
       "      <th>8404</th>\n",
       "      <td>140.448671</td>\n",
       "      <td>125</td>\n",
       "      <td>15.448671</td>\n",
       "    </tr>\n",
       "    <tr>\n",
       "      <th>8405</th>\n",
       "      <td>144.434247</td>\n",
       "      <td>60</td>\n",
       "      <td>84.434247</td>\n",
       "    </tr>\n",
       "    <tr>\n",
       "      <th>8406</th>\n",
       "      <td>142.317334</td>\n",
       "      <td>168</td>\n",
       "      <td>-25.682666</td>\n",
       "    </tr>\n",
       "    <tr>\n",
       "      <th>8407</th>\n",
       "      <td>149.518180</td>\n",
       "      <td>30</td>\n",
       "      <td>119.518180</td>\n",
       "    </tr>\n",
       "    <tr>\n",
       "      <th>8408</th>\n",
       "      <td>147.827615</td>\n",
       "      <td>25</td>\n",
       "      <td>122.827615</td>\n",
       "    </tr>\n",
       "  </tbody>\n",
       "</table>\n",
       "<p>8409 rows × 3 columns</p>\n",
       "</div>"
      ],
      "text/plain": [
       "       Predicted  Actual       Error\n",
       "0     147.471743     197  -49.528257\n",
       "1     135.710864      44   91.710864\n",
       "2     285.727085     318  -32.272915\n",
       "3     278.859910     334  -55.140090\n",
       "4     177.050531     333 -155.949469\n",
       "5     137.195995     109   28.195995\n",
       "6     176.485812     108   68.485812\n",
       "7     146.995661     150   -3.004339\n",
       "8     138.470612     188  -49.529388\n",
       "9     137.098931      34  103.098931\n",
       "10    163.372935      52  111.372935\n",
       "11    144.432515     136    8.432515\n",
       "12    142.127983      40  102.127983\n",
       "13    142.203998      93   49.203998\n",
       "14    139.864954     104   35.864954\n",
       "15    151.345499     105   46.345499\n",
       "16    150.818815     118   32.818815\n",
       "17    140.457926     140    0.457926\n",
       "18    178.949910     221  -42.050090\n",
       "19    136.714373      35  101.714373\n",
       "20    142.483200      39  103.483200\n",
       "21    144.770009     103   41.770009\n",
       "22    140.457926     194  -53.542074\n",
       "23    162.829162      46  116.829162\n",
       "24    136.113881     190  -53.886119\n",
       "25    134.929212      79   55.929212\n",
       "26    278.411406      54  224.411406\n",
       "27    181.000568     241  -59.999432\n",
       "28    163.031926     160    3.031926\n",
       "29    139.174697      58   81.174697\n",
       "...          ...     ...         ...\n",
       "8379  147.645765     110   37.645765\n",
       "8380  141.126965     176  -34.873035\n",
       "8381  146.653329     181  -34.346671\n",
       "8382  140.374756      80   60.374756\n",
       "8383  138.808315     202  -63.191685\n",
       "8384  139.005054     166  -26.994946\n",
       "8385  140.766324     221  -80.233676\n",
       "8386  135.074712     186  -50.925288\n",
       "8387  140.757822     146   -5.242178\n",
       "8388  144.730464     167  -22.269536\n",
       "8389  139.215080      30  109.215080\n",
       "8390  140.913375      36  104.913375\n",
       "8391  137.350213     140   -2.649787\n",
       "8392  134.406543     168  -33.593457\n",
       "8393  137.399284      85   52.399284\n",
       "8394  133.968779     187  -53.031221\n",
       "8395  144.233629      91   53.233629\n",
       "8396  134.985996      60   74.985996\n",
       "8397  134.523910      26  108.523910\n",
       "8398  145.312939     230  -84.687061\n",
       "8399  137.525485     206  -68.474515\n",
       "8400  148.008097     147    1.008097\n",
       "8401  141.864005     115   26.864005\n",
       "8402  147.726686      80   67.726686\n",
       "8403  141.730648     134    7.730648\n",
       "8404  140.448671     125   15.448671\n",
       "8405  144.434247      60   84.434247\n",
       "8406  142.317334     168  -25.682666\n",
       "8407  149.518180      30  119.518180\n",
       "8408  147.827615      25  122.827615\n",
       "\n",
       "[8409 rows x 3 columns]"
      ]
     },
     "execution_count": 13,
     "metadata": {},
     "output_type": "execute_result"
    }
   ],
   "source": [
    "predictions1 = predictions.flat\n",
    "# print(predictions1)\n",
    "y1 = month1[\"Amount\"]\n",
    "# print(y1)\n",
    "pd.DataFrame({\"Predicted\": predictions1, \"Actual\": y1, \"Error\": predictions1 - y1})[[\"Predicted\", \"Actual\", \"Error\"]]"
   ]
  },
  {
   "cell_type": "code",
   "execution_count": 14,
   "metadata": {
    "nbpresent": {
     "id": "28aaab45-1e14-4db5-9d2c-63b239cafe13"
    },
    "slideshow": {
     "slide_type": "fragment"
    }
   },
   "outputs": [],
   "source": [
    "# calculate the output response for the minimum and maximum input values\n",
    "x_min = X.min()\n",
    "x_max = X.max()"
   ]
  },
  {
   "cell_type": "code",
   "execution_count": 15,
   "metadata": {
    "nbpresent": {
     "id": "5e425283-82de-4c48-b2ae-31a1d6983849"
    },
    "slideshow": {
     "slide_type": "fragment"
    }
   },
   "outputs": [],
   "source": [
    "y_min_actual = y.min()\n",
    "y_max_actual = y.max()"
   ]
  },
  {
   "cell_type": "code",
   "execution_count": 16,
   "metadata": {
    "nbpresent": {
     "id": "4a5226b5-d431-4cbe-86a6-291952a45a37"
    },
    "slideshow": {
     "slide_type": "fragment"
    }
   },
   "outputs": [
    {
     "name": "stdout",
     "output_type": "stream",
     "text": [
      "Actual Min Value: 25\n",
      "Calculated Min Value: 101.896225057\n",
      "Actual Max Value: 500\n",
      "Calculated Max Value: 1538.6440111198322\n"
     ]
    }
   ],
   "source": [
    "y_min = 101.896225057 + 12.44002424 * x_min\n",
    "y_max = 101.896225057 + 12.44002424 * x_max\n",
    "print(f\"Actual Min Value: {y_min_actual}\")\n",
    "print(f\"Calculated Min Value: {y_min}\")\n",
    "print(f\"Actual Max Value: {y_max_actual}\")\n",
    "print(f\"Calculated Max Value: {y_max}\")"
   ]
  },
  {
   "cell_type": "code",
   "execution_count": 17,
   "metadata": {
    "nbpresent": {
     "id": "2b83c32a-d7e2-4db6-b45f-afbbf028fe90"
    },
    "slideshow": {
     "slide_type": "fragment"
    }
   },
   "outputs": [
    {
     "name": "stdout",
     "output_type": "stream",
     "text": [
      "Actual Min Value: 25\n",
      "Predicted Min Value: [[133.73347271]]\n",
      "Actual Max Value: 500\n",
      "Predicted Max Value: [[299.91813805]]\n"
     ]
    }
   ],
   "source": [
    "# use predict function to calculate predicted values\n",
    "y_min_predicted = model.predict(x_min)\n",
    "y_max_predicted = model.predict(x_max)\n",
    "print(f\"Actual Min Value: {y_min_actual}\")\n",
    "print(f\"Predicted Min Value: {y_min_predicted}\")\n",
    "print(f\"Actual Max Value: {y_max_actual}\")\n",
    "print(f\"Predicted Max Value: {y_max_predicted}\")"
   ]
  },
  {
   "cell_type": "code",
   "execution_count": 18,
   "metadata": {
    "nbpresent": {
     "id": "8bb35ef7-00cc-4ad9-9dd4-6fac480df38e"
    },
    "slideshow": {
     "slide_type": "fragment"
    }
   },
   "outputs": [
    {
     "data": {
      "text/plain": [
       "[<matplotlib.lines.Line2D at 0x2a4c9f1cba8>]"
      ]
     },
     "execution_count": 18,
     "metadata": {},
     "output_type": "execute_result"
    },
    {
     "data": {
      "image/png": "[encoded data removed]",
      "text/plain": [
       "<Figure size 432x288 with 1 Axes>"
      ]
     },
     "metadata": {
      "needs_background": "light"
     },
     "output_type": "display_data"
    }
   ],
   "source": [
    "# show the model fit by plotting the predicted values against the original data\n",
    "plt.scatter(X, y, c='blue')\n",
    "plt.plot([x_min, x_max], [y_min, y_max], c='red')"
   ]
  },
  {
   "cell_type": "code",
   "execution_count": 19,
   "metadata": {},
   "outputs": [
    {
     "name": "stdout",
     "output_type": "stream",
     "text": [
      "Mean Squared Error (MSE): 7033.267850519345\n",
      "R-squared (R2 ): 0.21601046601073348\n"
     ]
    },
    {
     "data": {
      "text/plain": [
       "0.21601046601073348"
      ]
     },
     "execution_count": 19,
     "metadata": {},
     "output_type": "execute_result"
    }
   ],
   "source": [
    "# quantify model\n",
    "from sklearn.metrics import mean_squared_error, r2_score\n",
    "\n",
    "# Use our model to predict a value\n",
    "predicted = model.predict(X)\n",
    "\n",
    "# Score the prediction with mse and r2\n",
    "mse = mean_squared_error(y, predictions)\n",
    "r2 = r2_score(y, predicted)\n",
    "\n",
    "print(f\"Mean Squared Error (MSE): {mse}\")\n",
    "print(f\"R-squared (R2 ): {r2}\")\n",
    "\n",
    "# Overall Score for the model\n",
    "model.score(X, y)"
   ]
  },
  {
   "cell_type": "code",
   "execution_count": 20,
   "metadata": {},
   "outputs": [
    {
     "data": {
      "text/plain": [
       "0.2089224206992819"
      ]
     },
     "execution_count": 20,
     "metadata": {},
     "output_type": "execute_result"
    }
   ],
   "source": [
    "# test and train data\n",
    "X_train, X_test, y_train, y_test = train_test_split(X, y)\n",
    "model.fit(X_train, y_train)\n",
    "model.score(X_test, y_test)"
   ]
  },
  {
   "cell_type": "markdown",
   "metadata": {
    "nbpresent": {
     "id": "f1c699bc-6717-4eb9-8e6d-66d433ba4618"
    },
    "slideshow": {
     "slide_type": "slide"
    }
   },
   "source": [
    "## Multiple Linear Regression \n"
   ]
  },
  {
   "cell_type": "code",
   "execution_count": 3,
   "metadata": {},
   "outputs": [
    {
     "name": "stdout",
     "output_type": "stream",
     "text": [
      "(8409, 2)\n",
      "(8409, 1)\n",
      "Training Score: 0.6604439764496223\n",
      "Testing Score: 0.6811098040125543\n",
      "R2 Score: 0.6656073503174238\n"
     ]
    },
    {
     "data": {
      "text/plain": [
       "Text(0.5, 1.0, 'Residual Plot')"
      ]
     },
     "execution_count": 3,
     "metadata": {},
     "output_type": "execute_result"
    },
    {
     "data": {
      "image/png": "[encoded data removed]",
      "text/plain": [
       "<Figure size 432x288 with 1 Axes>"
      ]
     },
     "metadata": {
      "needs_background": "light"
     },
     "output_type": "display_data"
    }
   ],
   "source": [
    "# import linear dataset with features\n",
    "n_features = 3\n",
    "X = month1[[\"Distance\", \"Amount\"]]\n",
    "y = month1[\"FRAUD_INDICATOR\"].values.reshape(-1,1)\n",
    "print(X.shape)\n",
    "print(y.shape)\n",
    "\n",
    "X_train, X_test, y_train, y_test = train_test_split(X, y, random_state=0)\n",
    "\n",
    "# model\n",
    "model = LinearRegression()\n",
    "\n",
    "model.fit(X_train, y_train)\n",
    "training_score = model.score(X_train, y_train)\n",
    "testing_score = model.score(X_test, y_test)\n",
    "print(f\"Training Score: {training_score}\")\n",
    "print(f\"Testing Score: {testing_score}\")\n",
    "\n",
    "score = model.score(X, y)\n",
    "print(f\"R2 Score: {score}\")\n",
    "\n",
    "plt.scatter(model.predict(X_train), model.predict(X_train) - y_train, c=\"blue\", label=\"Training Data\")\n",
    "plt.scatter(model.predict(X_test), model.predict(X_test) - y_test, c=\"orange\", label=\"Testing Data\")\n",
    "plt.legend()\n",
    "plt.hlines(y=0, xmin=y.min(), xmax=y.max())\n",
    "plt.title(\"Residual Plot\")"
   ]
  },
  {
   "cell_type": "code",
   "execution_count": 4,
   "metadata": {},
   "outputs": [
    {
     "data": {
      "image/png": "[encoded data removed]",
      "text/plain": [
       "<Figure size 432x288 with 1 Axes>"
      ]
     },
     "metadata": {
      "needs_background": "light"
     },
     "output_type": "display_data"
    }
   ],
   "source": [
    "# residuals\n",
    "predictions = model.predict(X)\n",
    "# Plot Residuals\n",
    "plt.scatter(predictions, predictions - y)\n",
    "plt.hlines(y=0, xmin=predictions.min(), xmax=predictions.max())\n",
    "plt.show()"
   ]
  },
  {
   "cell_type": "markdown",
   "metadata": {
    "nbpresent": {
     "id": "f1c699bc-6717-4eb9-8e6d-66d433ba4618"
    },
    "slideshow": {
     "slide_type": "slide"
    }
   },
   "source": [
    "## Logistic Regression\n",
    "\n",
    "Logistic Regression is a statistical method for predicting binary outcomes from data (Y/N).\n",
    "\n",
    "We can calculate logistic regression by adding an activation function as the final step to our linear model.\n",
    "\n",
    "This converts the linear regression output to a probability."
   ]
  },
  {
   "cell_type": "code",
   "execution_count": 23,
   "metadata": {},
   "outputs": [],
   "source": [
    "X = month1[\"Distance\"].values.reshape(-1,1)\n",
    "y = month1[\"Amount\"].values.reshape(-1,1)"
   ]
  },
  {
   "cell_type": "code",
   "execution_count": 24,
   "metadata": {},
   "outputs": [
    {
     "data": {
      "text/plain": [
       "<matplotlib.collections.PathCollection at 0x2a4ca3b3b70>"
      ]
     },
     "execution_count": 24,
     "metadata": {},
     "output_type": "execute_result"
    },
    {
     "data": {
      "image/png": "[encoded data removed]",
      "text/plain": [
       "<Figure size 432x288 with 1 Axes>"
      ]
     },
     "metadata": {
      "needs_background": "light"
     },
     "output_type": "display_data"
    }
   ],
   "source": [
    "# Visualizing both classes\n",
    "# plt.scatter(X[:, 0], X[:, 1], c=y)\n",
    "plt.scatter(X[:, 0], y[:, 0])"
   ]
  },
  {
   "cell_type": "code",
   "execution_count": 27,
   "metadata": {},
   "outputs": [],
   "source": [
    "# split our data into training and testing\n",
    "X_train, X_test, y_train, y_test = train_test_split(X, y)"
   ]
  },
  {
   "cell_type": "code",
   "execution_count": 28,
   "metadata": {},
   "outputs": [
    {
     "data": {
      "text/plain": [
       "LogisticRegression(C=1.0, class_weight=None, dual=False, fit_intercept=True,\n",
       "          intercept_scaling=1, max_iter=100, multi_class='ovr', n_jobs=1,\n",
       "          penalty='l2', random_state=None, solver='liblinear', tol=0.0001,\n",
       "          verbose=0, warm_start=False)"
      ]
     },
     "execution_count": 28,
     "metadata": {},
     "output_type": "execute_result"
    }
   ],
   "source": [
    "# create a Logistic Regression Model\n",
    "from sklearn.linear_model import LogisticRegression\n",
    "classifier = LogisticRegression()\n",
    "classifier"
   ]
  },
  {
   "cell_type": "code",
   "execution_count": 29,
   "metadata": {},
   "outputs": [
    {
     "name": "stderr",
     "output_type": "stream",
     "text": [
      "C:\\Users\\DAbootcamp1\\Anaconda3\\envs\\PythonData\\lib\\site-packages\\sklearn\\utils\\validation.py:578: DataConversionWarning: A column-vector y was passed when a 1d array was expected. Please change the shape of y to (n_samples, ), for example using ravel().\n",
      "  y = column_or_1d(y, warn=True)\n"
     ]
    },
    {
     "name": "stdout",
     "output_type": "stream",
     "text": [
      "Training Data Score: 0.00792895654931811\n",
      "Testing Data Score: 0.008083689966714217\n"
     ]
    },
    {
     "ename": "Exception",
     "evalue": "Data must be 1-dimensional",
     "output_type": "error",
     "traceback": [
      "\u001b[1;31m---------------------------------------------------------------------------\u001b[0m",
      "\u001b[1;31mException\u001b[0m                                 Traceback (most recent call last)",
      "\u001b[1;32m<ipython-input-29-0c717834969d>\u001b[0m in \u001b[0;36m<module>\u001b[1;34m()\u001b[0m\n\u001b[0;32m     12\u001b[0m \u001b[0mplt\u001b[0m\u001b[1;33m.\u001b[0m\u001b[0mscatter\u001b[0m\u001b[1;33m(\u001b[0m\u001b[0mnewX\u001b[0m\u001b[1;33m[\u001b[0m\u001b[1;33m:\u001b[0m\u001b[1;33m,\u001b[0m \u001b[1;36m0\u001b[0m\u001b[1;33m]\u001b[0m\u001b[1;33m,\u001b[0m \u001b[0mnewY\u001b[0m\u001b[1;33m[\u001b[0m\u001b[1;33m:\u001b[0m\u001b[1;33m,\u001b[0m \u001b[1;36m0\u001b[0m\u001b[1;33m]\u001b[0m\u001b[1;33m,\u001b[0m \u001b[0mc\u001b[0m\u001b[1;33m=\u001b[0m\u001b[1;34m\"r\"\u001b[0m\u001b[1;33m,\u001b[0m \u001b[0mmarker\u001b[0m\u001b[1;33m=\u001b[0m\u001b[1;34m\"o\"\u001b[0m\u001b[1;33m,\u001b[0m \u001b[0ms\u001b[0m\u001b[1;33m=\u001b[0m\u001b[1;36m100\u001b[0m\u001b[1;33m)\u001b[0m\u001b[1;33m\u001b[0m\u001b[0m\n\u001b[0;32m     13\u001b[0m \u001b[0mpredictions\u001b[0m \u001b[1;33m=\u001b[0m \u001b[0mclassifier\u001b[0m\u001b[1;33m.\u001b[0m\u001b[0mpredict\u001b[0m\u001b[1;33m(\u001b[0m\u001b[0mX_test\u001b[0m\u001b[1;33m)\u001b[0m\u001b[1;33m\u001b[0m\u001b[0m\n\u001b[1;32m---> 14\u001b[1;33m \u001b[0mpd\u001b[0m\u001b[1;33m.\u001b[0m\u001b[0mDataFrame\u001b[0m\u001b[1;33m(\u001b[0m\u001b[1;33m{\u001b[0m\u001b[1;34m\"Prediction\"\u001b[0m\u001b[1;33m:\u001b[0m \u001b[0mpredictions\u001b[0m\u001b[1;33m,\u001b[0m \u001b[1;34m\"Actual\"\u001b[0m\u001b[1;33m:\u001b[0m \u001b[0my_test\u001b[0m\u001b[1;33m}\u001b[0m\u001b[1;33m)\u001b[0m\u001b[1;33m\u001b[0m\u001b[0m\n\u001b[0m",
      "\u001b[1;32m~\\Anaconda3\\envs\\PythonData\\lib\\site-packages\\pandas\\core\\frame.py\u001b[0m in \u001b[0;36m__init__\u001b[1;34m(self, data, index, columns, dtype, copy)\u001b[0m\n\u001b[0;32m    346\u001b[0m                                  dtype=dtype, copy=copy)\n\u001b[0;32m    347\u001b[0m         \u001b[1;32melif\u001b[0m \u001b[0misinstance\u001b[0m\u001b[1;33m(\u001b[0m\u001b[0mdata\u001b[0m\u001b[1;33m,\u001b[0m \u001b[0mdict\u001b[0m\u001b[1;33m)\u001b[0m\u001b[1;33m:\u001b[0m\u001b[1;33m\u001b[0m\u001b[0m\n\u001b[1;32m--> 348\u001b[1;33m             \u001b[0mmgr\u001b[0m \u001b[1;33m=\u001b[0m \u001b[0mself\u001b[0m\u001b[1;33m.\u001b[0m\u001b[0m_init_dict\u001b[0m\u001b[1;33m(\u001b[0m\u001b[0mdata\u001b[0m\u001b[1;33m,\u001b[0m \u001b[0mindex\u001b[0m\u001b[1;33m,\u001b[0m \u001b[0mcolumns\u001b[0m\u001b[1;33m,\u001b[0m \u001b[0mdtype\u001b[0m\u001b[1;33m=\u001b[0m\u001b[0mdtype\u001b[0m\u001b[1;33m)\u001b[0m\u001b[1;33m\u001b[0m\u001b[0m\n\u001b[0m\u001b[0;32m    349\u001b[0m         \u001b[1;32melif\u001b[0m \u001b[0misinstance\u001b[0m\u001b[1;33m(\u001b[0m\u001b[0mdata\u001b[0m\u001b[1;33m,\u001b[0m \u001b[0mma\u001b[0m\u001b[1;33m.\u001b[0m\u001b[0mMaskedArray\u001b[0m\u001b[1;33m)\u001b[0m\u001b[1;33m:\u001b[0m\u001b[1;33m\u001b[0m\u001b[0m\n\u001b[0;32m    350\u001b[0m             \u001b[1;32mimport\u001b[0m \u001b[0mnumpy\u001b[0m\u001b[1;33m.\u001b[0m\u001b[0mma\u001b[0m\u001b[1;33m.\u001b[0m\u001b[0mmrecords\u001b[0m \u001b[1;32mas\u001b[0m \u001b[0mmrecords\u001b[0m\u001b[1;33m\u001b[0m\u001b[0m\n",
      "\u001b[1;32m~\\Anaconda3\\envs\\PythonData\\lib\\site-packages\\pandas\\core\\frame.py\u001b[0m in \u001b[0;36m_init_dict\u001b[1;34m(self, data, index, columns, dtype)\u001b[0m\n\u001b[0;32m    457\u001b[0m             \u001b[0marrays\u001b[0m \u001b[1;33m=\u001b[0m \u001b[1;33m[\u001b[0m\u001b[0mdata\u001b[0m\u001b[1;33m[\u001b[0m\u001b[0mk\u001b[0m\u001b[1;33m]\u001b[0m \u001b[1;32mfor\u001b[0m \u001b[0mk\u001b[0m \u001b[1;32min\u001b[0m \u001b[0mkeys\u001b[0m\u001b[1;33m]\u001b[0m\u001b[1;33m\u001b[0m\u001b[0m\n\u001b[0;32m    458\u001b[0m \u001b[1;33m\u001b[0m\u001b[0m\n\u001b[1;32m--> 459\u001b[1;33m         \u001b[1;32mreturn\u001b[0m \u001b[0m_arrays_to_mgr\u001b[0m\u001b[1;33m(\u001b[0m\u001b[0marrays\u001b[0m\u001b[1;33m,\u001b[0m \u001b[0mdata_names\u001b[0m\u001b[1;33m,\u001b[0m \u001b[0mindex\u001b[0m\u001b[1;33m,\u001b[0m \u001b[0mcolumns\u001b[0m\u001b[1;33m,\u001b[0m \u001b[0mdtype\u001b[0m\u001b[1;33m=\u001b[0m\u001b[0mdtype\u001b[0m\u001b[1;33m)\u001b[0m\u001b[1;33m\u001b[0m\u001b[0m\n\u001b[0m\u001b[0;32m    460\u001b[0m \u001b[1;33m\u001b[0m\u001b[0m\n\u001b[0;32m    461\u001b[0m     \u001b[1;32mdef\u001b[0m \u001b[0m_init_ndarray\u001b[0m\u001b[1;33m(\u001b[0m\u001b[0mself\u001b[0m\u001b[1;33m,\u001b[0m \u001b[0mvalues\u001b[0m\u001b[1;33m,\u001b[0m \u001b[0mindex\u001b[0m\u001b[1;33m,\u001b[0m \u001b[0mcolumns\u001b[0m\u001b[1;33m,\u001b[0m \u001b[0mdtype\u001b[0m\u001b[1;33m=\u001b[0m\u001b[1;32mNone\u001b[0m\u001b[1;33m,\u001b[0m \u001b[0mcopy\u001b[0m\u001b[1;33m=\u001b[0m\u001b[1;32mFalse\u001b[0m\u001b[1;33m)\u001b[0m\u001b[1;33m:\u001b[0m\u001b[1;33m\u001b[0m\u001b[0m\n",
      "\u001b[1;32m~\\Anaconda3\\envs\\PythonData\\lib\\site-packages\\pandas\\core\\frame.py\u001b[0m in \u001b[0;36m_arrays_to_mgr\u001b[1;34m(arrays, arr_names, index, columns, dtype)\u001b[0m\n\u001b[0;32m   7357\u001b[0m \u001b[1;33m\u001b[0m\u001b[0m\n\u001b[0;32m   7358\u001b[0m     \u001b[1;31m# don't force copy because getting jammed in an ndarray anyway\u001b[0m\u001b[1;33m\u001b[0m\u001b[1;33m\u001b[0m\u001b[0m\n\u001b[1;32m-> 7359\u001b[1;33m     \u001b[0marrays\u001b[0m \u001b[1;33m=\u001b[0m \u001b[0m_homogenize\u001b[0m\u001b[1;33m(\u001b[0m\u001b[0marrays\u001b[0m\u001b[1;33m,\u001b[0m \u001b[0mindex\u001b[0m\u001b[1;33m,\u001b[0m \u001b[0mdtype\u001b[0m\u001b[1;33m)\u001b[0m\u001b[1;33m\u001b[0m\u001b[0m\n\u001b[0m\u001b[0;32m   7360\u001b[0m \u001b[1;33m\u001b[0m\u001b[0m\n\u001b[0;32m   7361\u001b[0m     \u001b[1;31m# from BlockManager perspective\u001b[0m\u001b[1;33m\u001b[0m\u001b[1;33m\u001b[0m\u001b[0m\n",
      "\u001b[1;32m~\\Anaconda3\\envs\\PythonData\\lib\\site-packages\\pandas\\core\\frame.py\u001b[0m in \u001b[0;36m_homogenize\u001b[1;34m(data, index, dtype)\u001b[0m\n\u001b[0;32m   7667\u001b[0m                 \u001b[0mv\u001b[0m \u001b[1;33m=\u001b[0m \u001b[0mlib\u001b[0m\u001b[1;33m.\u001b[0m\u001b[0mfast_multiget\u001b[0m\u001b[1;33m(\u001b[0m\u001b[0mv\u001b[0m\u001b[1;33m,\u001b[0m \u001b[0moindex\u001b[0m\u001b[1;33m.\u001b[0m\u001b[0mvalues\u001b[0m\u001b[1;33m,\u001b[0m \u001b[0mdefault\u001b[0m\u001b[1;33m=\u001b[0m\u001b[0mnp\u001b[0m\u001b[1;33m.\u001b[0m\u001b[0mnan\u001b[0m\u001b[1;33m)\u001b[0m\u001b[1;33m\u001b[0m\u001b[0m\n\u001b[0;32m   7668\u001b[0m             v = _sanitize_array(v, index, dtype=dtype, copy=False,\n\u001b[1;32m-> 7669\u001b[1;33m                                 raise_cast_failure=False)\n\u001b[0m\u001b[0;32m   7670\u001b[0m \u001b[1;33m\u001b[0m\u001b[0m\n\u001b[0;32m   7671\u001b[0m         \u001b[0mhomogenized\u001b[0m\u001b[1;33m.\u001b[0m\u001b[0mappend\u001b[0m\u001b[1;33m(\u001b[0m\u001b[0mv\u001b[0m\u001b[1;33m)\u001b[0m\u001b[1;33m\u001b[0m\u001b[0m\n",
      "\u001b[1;32m~\\Anaconda3\\envs\\PythonData\\lib\\site-packages\\pandas\\core\\series.py\u001b[0m in \u001b[0;36m_sanitize_array\u001b[1;34m(data, index, dtype, copy, raise_cast_failure)\u001b[0m\n\u001b[0;32m   4163\u001b[0m     \u001b[1;32melif\u001b[0m \u001b[0msubarr\u001b[0m\u001b[1;33m.\u001b[0m\u001b[0mndim\u001b[0m \u001b[1;33m>\u001b[0m \u001b[1;36m1\u001b[0m\u001b[1;33m:\u001b[0m\u001b[1;33m\u001b[0m\u001b[0m\n\u001b[0;32m   4164\u001b[0m         \u001b[1;32mif\u001b[0m \u001b[0misinstance\u001b[0m\u001b[1;33m(\u001b[0m\u001b[0mdata\u001b[0m\u001b[1;33m,\u001b[0m \u001b[0mnp\u001b[0m\u001b[1;33m.\u001b[0m\u001b[0mndarray\u001b[0m\u001b[1;33m)\u001b[0m\u001b[1;33m:\u001b[0m\u001b[1;33m\u001b[0m\u001b[0m\n\u001b[1;32m-> 4165\u001b[1;33m             \u001b[1;32mraise\u001b[0m \u001b[0mException\u001b[0m\u001b[1;33m(\u001b[0m\u001b[1;34m'Data must be 1-dimensional'\u001b[0m\u001b[1;33m)\u001b[0m\u001b[1;33m\u001b[0m\u001b[0m\n\u001b[0m\u001b[0;32m   4166\u001b[0m         \u001b[1;32melse\u001b[0m\u001b[1;33m:\u001b[0m\u001b[1;33m\u001b[0m\u001b[0m\n\u001b[0;32m   4167\u001b[0m             \u001b[0msubarr\u001b[0m \u001b[1;33m=\u001b[0m \u001b[0mcom\u001b[0m\u001b[1;33m.\u001b[0m\u001b[0m_asarray_tuplesafe\u001b[0m\u001b[1;33m(\u001b[0m\u001b[0mdata\u001b[0m\u001b[1;33m,\u001b[0m \u001b[0mdtype\u001b[0m\u001b[1;33m=\u001b[0m\u001b[0mdtype\u001b[0m\u001b[1;33m)\u001b[0m\u001b[1;33m\u001b[0m\u001b[0m\n",
      "\u001b[1;31mException\u001b[0m: Data must be 1-dimensional"
     ]
    },
    {
     "data": {
      "image/png": "[encoded data removed]",
      "text/plain": [
       "<Figure size 432x288 with 1 Axes>"
      ]
     },
     "metadata": {
      "needs_background": "light"
     },
     "output_type": "display_data"
    }
   ],
   "source": [
    "# train \n",
    "classifier.fit(X_train, y_train)\n",
    "\n",
    "#validate\n",
    "print(f\"Training Data Score: {classifier.score(X_train, y_train)}\")\n",
    "print(f\"Testing Data Score: {classifier.score(X_test, y_test)}\")\n",
    "\n",
    "#predictions of new data\n",
    "newX = month2[\"Distance\"].values.reshape(-1,1)\n",
    "newY = month2[\"Amount\"].values.reshape(-1,1)\n",
    "plt.scatter(X[:, 0], y[:, 0])\n",
    "plt.scatter(newX[:, 0], newY[:, 0], c=\"r\", marker=\"o\", s=100)\n",
    "predictions = classifier.predict(X_test)\n",
    "pd.DataFrame({\"Prediction\": predictions, \"Actual\": y_test})"
   ]
  },
  {
   "cell_type": "markdown",
   "metadata": {
    "nbpresent": {
     "id": "f1c699bc-6717-4eb9-8e6d-66d433ba4618"
    },
    "slideshow": {
     "slide_type": "slide"
    }
   },
   "source": [
    "## K_Nearest_Neighbors\n",
    "\n"
   ]
  },
  {
   "cell_type": "code",
   "execution_count": 5,
   "metadata": {},
   "outputs": [
    {
     "name": "stderr",
     "output_type": "stream",
     "text": [
      "C:\\Users\\DAbootcamp1\\Anaconda3\\envs\\PythonData\\lib\\site-packages\\sklearn\\utils\\validation.py:475: DataConversionWarning: Data with input dtype int64 was converted to float64 by StandardScaler.\n",
      "  warnings.warn(msg, DataConversionWarning)\n"
     ]
    }
   ],
   "source": [
    "# imports\n",
    "from sklearn.neighbors import KNeighborsClassifier\n",
    "X = month1[[\"Distance\", \"Amount\"]]\n",
    "y = month1[\"FRAUD_INDICATOR\"]\n",
    "X_train, X_test, y_train, y_test = train_test_split(X, y)\n",
    "\n",
    "# Create a StandardScater model and fit it to the training data\n",
    "from sklearn.preprocessing import StandardScaler\n",
    "X_scaler = StandardScaler().fit(X_train)\n",
    "y_scaler = StandardScaler().fit(y_train.values.reshape(-1,1))\n",
    "\n",
    "# Transform the training and testing data using the X_scaler and y_scaler models\n",
    "X_train_scaled = X_scaler.transform(X_train)\n",
    "X_test_scaled = X_scaler.transform(X_test)\n",
    "y_train_scaled = y_scaler.transform(y_train.values.reshape(-1,1))\n",
    "y_test_scaled = y_scaler.transform(y_test.values.reshape(-1,1))"
   ]
  },
  {
   "cell_type": "code",
   "execution_count": 6,
   "metadata": {},
   "outputs": [
    {
     "name": "stdout",
     "output_type": "stream",
     "text": [
      "k: 1, Train/Test Score: 1.000/0.992\n",
      "k: 3, Train/Test Score: 0.994/0.993\n",
      "k: 5, Train/Test Score: 0.993/0.995\n",
      "k: 7, Train/Test Score: 0.993/0.994\n",
      "k: 9, Train/Test Score: 0.992/0.996\n",
      "k: 11, Train/Test Score: 0.993/0.996\n",
      "k: 13, Train/Test Score: 0.992/0.995\n",
      "k: 15, Train/Test Score: 0.992/0.994\n",
      "k: 17, Train/Test Score: 0.991/0.994\n",
      "k: 19, Train/Test Score: 0.991/0.996\n"
     ]
    },
    {
     "data": {
      "image/png": "[encoded data removed]",
      "text/plain": [
       "<Figure size 432x288 with 1 Axes>"
      ]
     },
     "metadata": {
      "needs_background": "light"
     },
     "output_type": "display_data"
    }
   ],
   "source": [
    "# Loop through different k values to see which has the highest accuracy\n",
    "# Note: We only use odd numbers because we don't want any ties\n",
    "train_scores = []\n",
    "test_scores = []\n",
    "for k in range(1, 20, 2):\n",
    "    knn = KNeighborsClassifier(n_neighbors=k)\n",
    "    knn.fit(X_train_scaled, y_train)\n",
    "    train_score = knn.score(X_train_scaled, y_train)\n",
    "    test_score = knn.score(X_test_scaled, y_test)\n",
    "    train_scores.append(train_score)\n",
    "    test_scores.append(test_score)\n",
    "    print(f\"k: {k}, Train/Test Score: {train_score:.3f}/{test_score:.3f}\")\n",
    "    \n",
    "    \n",
    "plt.plot(range(1, 20, 2), train_scores, marker='o')\n",
    "plt.plot(range(1, 20, 2), test_scores, marker=\"x\")\n",
    "plt.xlabel(\"k neighbors\")\n",
    "plt.ylabel(\"Testing accuracy Score\")\n",
    "plt.show()"
   ]
  },
  {
   "cell_type": "code",
   "execution_count": 7,
   "metadata": {},
   "outputs": [
    {
     "data": {
      "text/html": [
       "<div>\n",
       "<style scoped>\n",
       "    .dataframe tbody tr th:only-of-type {\n",
       "        vertical-align: middle;\n",
       "    }\n",
       "\n",
       "    .dataframe tbody tr th {\n",
       "        vertical-align: top;\n",
       "    }\n",
       "\n",
       "    .dataframe thead th {\n",
       "        text-align: right;\n",
       "    }\n",
       "</style>\n",
       "<table border=\"1\" class=\"dataframe\">\n",
       "  <thead>\n",
       "    <tr style=\"text-align: right;\">\n",
       "      <th></th>\n",
       "      <th>Prediction</th>\n",
       "      <th>Actual</th>\n",
       "      <th>Variance</th>\n",
       "    </tr>\n",
       "  </thead>\n",
       "  <tbody>\n",
       "    <tr>\n",
       "      <th>0</th>\n",
       "      <td>1</td>\n",
       "      <td>0</td>\n",
       "      <td>1</td>\n",
       "    </tr>\n",
       "    <tr>\n",
       "      <th>1</th>\n",
       "      <td>1</td>\n",
       "      <td>0</td>\n",
       "      <td>1</td>\n",
       "    </tr>\n",
       "    <tr>\n",
       "      <th>2</th>\n",
       "      <td>1</td>\n",
       "      <td>1</td>\n",
       "      <td>0</td>\n",
       "    </tr>\n",
       "    <tr>\n",
       "      <th>3</th>\n",
       "      <td>1</td>\n",
       "      <td>1</td>\n",
       "      <td>0</td>\n",
       "    </tr>\n",
       "    <tr>\n",
       "      <th>4</th>\n",
       "      <td>1</td>\n",
       "      <td>1</td>\n",
       "      <td>0</td>\n",
       "    </tr>\n",
       "    <tr>\n",
       "      <th>5</th>\n",
       "      <td>1</td>\n",
       "      <td>0</td>\n",
       "      <td>1</td>\n",
       "    </tr>\n",
       "    <tr>\n",
       "      <th>6</th>\n",
       "      <td>1</td>\n",
       "      <td>0</td>\n",
       "      <td>1</td>\n",
       "    </tr>\n",
       "    <tr>\n",
       "      <th>7</th>\n",
       "      <td>1</td>\n",
       "      <td>0</td>\n",
       "      <td>1</td>\n",
       "    </tr>\n",
       "    <tr>\n",
       "      <th>8</th>\n",
       "      <td>1</td>\n",
       "      <td>0</td>\n",
       "      <td>1</td>\n",
       "    </tr>\n",
       "    <tr>\n",
       "      <th>9</th>\n",
       "      <td>1</td>\n",
       "      <td>0</td>\n",
       "      <td>1</td>\n",
       "    </tr>\n",
       "    <tr>\n",
       "      <th>10</th>\n",
       "      <td>1</td>\n",
       "      <td>0</td>\n",
       "      <td>1</td>\n",
       "    </tr>\n",
       "    <tr>\n",
       "      <th>11</th>\n",
       "      <td>1</td>\n",
       "      <td>0</td>\n",
       "      <td>1</td>\n",
       "    </tr>\n",
       "    <tr>\n",
       "      <th>12</th>\n",
       "      <td>1</td>\n",
       "      <td>0</td>\n",
       "      <td>1</td>\n",
       "    </tr>\n",
       "    <tr>\n",
       "      <th>13</th>\n",
       "      <td>1</td>\n",
       "      <td>0</td>\n",
       "      <td>1</td>\n",
       "    </tr>\n",
       "    <tr>\n",
       "      <th>14</th>\n",
       "      <td>1</td>\n",
       "      <td>0</td>\n",
       "      <td>1</td>\n",
       "    </tr>\n",
       "    <tr>\n",
       "      <th>15</th>\n",
       "      <td>1</td>\n",
       "      <td>0</td>\n",
       "      <td>1</td>\n",
       "    </tr>\n",
       "    <tr>\n",
       "      <th>16</th>\n",
       "      <td>1</td>\n",
       "      <td>0</td>\n",
       "      <td>1</td>\n",
       "    </tr>\n",
       "    <tr>\n",
       "      <th>17</th>\n",
       "      <td>1</td>\n",
       "      <td>0</td>\n",
       "      <td>1</td>\n",
       "    </tr>\n",
       "    <tr>\n",
       "      <th>18</th>\n",
       "      <td>1</td>\n",
       "      <td>1</td>\n",
       "      <td>0</td>\n",
       "    </tr>\n",
       "    <tr>\n",
       "      <th>19</th>\n",
       "      <td>1</td>\n",
       "      <td>0</td>\n",
       "      <td>1</td>\n",
       "    </tr>\n",
       "    <tr>\n",
       "      <th>20</th>\n",
       "      <td>1</td>\n",
       "      <td>0</td>\n",
       "      <td>1</td>\n",
       "    </tr>\n",
       "    <tr>\n",
       "      <th>21</th>\n",
       "      <td>1</td>\n",
       "      <td>0</td>\n",
       "      <td>1</td>\n",
       "    </tr>\n",
       "    <tr>\n",
       "      <th>22</th>\n",
       "      <td>1</td>\n",
       "      <td>0</td>\n",
       "      <td>1</td>\n",
       "    </tr>\n",
       "    <tr>\n",
       "      <th>23</th>\n",
       "      <td>1</td>\n",
       "      <td>0</td>\n",
       "      <td>1</td>\n",
       "    </tr>\n",
       "    <tr>\n",
       "      <th>24</th>\n",
       "      <td>1</td>\n",
       "      <td>0</td>\n",
       "      <td>1</td>\n",
       "    </tr>\n",
       "    <tr>\n",
       "      <th>25</th>\n",
       "      <td>1</td>\n",
       "      <td>0</td>\n",
       "      <td>1</td>\n",
       "    </tr>\n",
       "    <tr>\n",
       "      <th>26</th>\n",
       "      <td>1</td>\n",
       "      <td>1</td>\n",
       "      <td>0</td>\n",
       "    </tr>\n",
       "    <tr>\n",
       "      <th>27</th>\n",
       "      <td>1</td>\n",
       "      <td>1</td>\n",
       "      <td>0</td>\n",
       "    </tr>\n",
       "    <tr>\n",
       "      <th>28</th>\n",
       "      <td>1</td>\n",
       "      <td>0</td>\n",
       "      <td>1</td>\n",
       "    </tr>\n",
       "    <tr>\n",
       "      <th>29</th>\n",
       "      <td>1</td>\n",
       "      <td>0</td>\n",
       "      <td>1</td>\n",
       "    </tr>\n",
       "    <tr>\n",
       "      <th>...</th>\n",
       "      <td>...</td>\n",
       "      <td>...</td>\n",
       "      <td>...</td>\n",
       "    </tr>\n",
       "    <tr>\n",
       "      <th>8100</th>\n",
       "      <td>1</td>\n",
       "      <td>0</td>\n",
       "      <td>1</td>\n",
       "    </tr>\n",
       "    <tr>\n",
       "      <th>8101</th>\n",
       "      <td>1</td>\n",
       "      <td>0</td>\n",
       "      <td>1</td>\n",
       "    </tr>\n",
       "    <tr>\n",
       "      <th>8102</th>\n",
       "      <td>1</td>\n",
       "      <td>0</td>\n",
       "      <td>1</td>\n",
       "    </tr>\n",
       "    <tr>\n",
       "      <th>8103</th>\n",
       "      <td>1</td>\n",
       "      <td>0</td>\n",
       "      <td>1</td>\n",
       "    </tr>\n",
       "    <tr>\n",
       "      <th>8104</th>\n",
       "      <td>1</td>\n",
       "      <td>0</td>\n",
       "      <td>1</td>\n",
       "    </tr>\n",
       "    <tr>\n",
       "      <th>8105</th>\n",
       "      <td>1</td>\n",
       "      <td>0</td>\n",
       "      <td>1</td>\n",
       "    </tr>\n",
       "    <tr>\n",
       "      <th>8106</th>\n",
       "      <td>1</td>\n",
       "      <td>0</td>\n",
       "      <td>1</td>\n",
       "    </tr>\n",
       "    <tr>\n",
       "      <th>8107</th>\n",
       "      <td>1</td>\n",
       "      <td>0</td>\n",
       "      <td>1</td>\n",
       "    </tr>\n",
       "    <tr>\n",
       "      <th>8108</th>\n",
       "      <td>1</td>\n",
       "      <td>0</td>\n",
       "      <td>1</td>\n",
       "    </tr>\n",
       "    <tr>\n",
       "      <th>8109</th>\n",
       "      <td>1</td>\n",
       "      <td>0</td>\n",
       "      <td>1</td>\n",
       "    </tr>\n",
       "    <tr>\n",
       "      <th>8110</th>\n",
       "      <td>1</td>\n",
       "      <td>0</td>\n",
       "      <td>1</td>\n",
       "    </tr>\n",
       "    <tr>\n",
       "      <th>8111</th>\n",
       "      <td>1</td>\n",
       "      <td>0</td>\n",
       "      <td>1</td>\n",
       "    </tr>\n",
       "    <tr>\n",
       "      <th>8112</th>\n",
       "      <td>1</td>\n",
       "      <td>0</td>\n",
       "      <td>1</td>\n",
       "    </tr>\n",
       "    <tr>\n",
       "      <th>8113</th>\n",
       "      <td>1</td>\n",
       "      <td>0</td>\n",
       "      <td>1</td>\n",
       "    </tr>\n",
       "    <tr>\n",
       "      <th>8114</th>\n",
       "      <td>1</td>\n",
       "      <td>0</td>\n",
       "      <td>1</td>\n",
       "    </tr>\n",
       "    <tr>\n",
       "      <th>8115</th>\n",
       "      <td>1</td>\n",
       "      <td>0</td>\n",
       "      <td>1</td>\n",
       "    </tr>\n",
       "    <tr>\n",
       "      <th>8116</th>\n",
       "      <td>1</td>\n",
       "      <td>0</td>\n",
       "      <td>1</td>\n",
       "    </tr>\n",
       "    <tr>\n",
       "      <th>8117</th>\n",
       "      <td>1</td>\n",
       "      <td>0</td>\n",
       "      <td>1</td>\n",
       "    </tr>\n",
       "    <tr>\n",
       "      <th>8118</th>\n",
       "      <td>1</td>\n",
       "      <td>0</td>\n",
       "      <td>1</td>\n",
       "    </tr>\n",
       "    <tr>\n",
       "      <th>8119</th>\n",
       "      <td>1</td>\n",
       "      <td>0</td>\n",
       "      <td>1</td>\n",
       "    </tr>\n",
       "    <tr>\n",
       "      <th>8120</th>\n",
       "      <td>1</td>\n",
       "      <td>0</td>\n",
       "      <td>1</td>\n",
       "    </tr>\n",
       "    <tr>\n",
       "      <th>8121</th>\n",
       "      <td>1</td>\n",
       "      <td>0</td>\n",
       "      <td>1</td>\n",
       "    </tr>\n",
       "    <tr>\n",
       "      <th>8122</th>\n",
       "      <td>1</td>\n",
       "      <td>0</td>\n",
       "      <td>1</td>\n",
       "    </tr>\n",
       "    <tr>\n",
       "      <th>8123</th>\n",
       "      <td>1</td>\n",
       "      <td>0</td>\n",
       "      <td>1</td>\n",
       "    </tr>\n",
       "    <tr>\n",
       "      <th>8124</th>\n",
       "      <td>1</td>\n",
       "      <td>0</td>\n",
       "      <td>1</td>\n",
       "    </tr>\n",
       "    <tr>\n",
       "      <th>8125</th>\n",
       "      <td>1</td>\n",
       "      <td>0</td>\n",
       "      <td>1</td>\n",
       "    </tr>\n",
       "    <tr>\n",
       "      <th>8126</th>\n",
       "      <td>1</td>\n",
       "      <td>0</td>\n",
       "      <td>1</td>\n",
       "    </tr>\n",
       "    <tr>\n",
       "      <th>8127</th>\n",
       "      <td>1</td>\n",
       "      <td>0</td>\n",
       "      <td>1</td>\n",
       "    </tr>\n",
       "    <tr>\n",
       "      <th>8128</th>\n",
       "      <td>1</td>\n",
       "      <td>0</td>\n",
       "      <td>1</td>\n",
       "    </tr>\n",
       "    <tr>\n",
       "      <th>8129</th>\n",
       "      <td>1</td>\n",
       "      <td>0</td>\n",
       "      <td>1</td>\n",
       "    </tr>\n",
       "  </tbody>\n",
       "</table>\n",
       "<p>8130 rows × 3 columns</p>\n",
       "</div>"
      ],
      "text/plain": [
       "      Prediction  Actual  Variance\n",
       "0              1       0         1\n",
       "1              1       0         1\n",
       "2              1       1         0\n",
       "3              1       1         0\n",
       "4              1       1         0\n",
       "5              1       0         1\n",
       "6              1       0         1\n",
       "7              1       0         1\n",
       "8              1       0         1\n",
       "9              1       0         1\n",
       "10             1       0         1\n",
       "11             1       0         1\n",
       "12             1       0         1\n",
       "13             1       0         1\n",
       "14             1       0         1\n",
       "15             1       0         1\n",
       "16             1       0         1\n",
       "17             1       0         1\n",
       "18             1       1         0\n",
       "19             1       0         1\n",
       "20             1       0         1\n",
       "21             1       0         1\n",
       "22             1       0         1\n",
       "23             1       0         1\n",
       "24             1       0         1\n",
       "25             1       0         1\n",
       "26             1       1         0\n",
       "27             1       1         0\n",
       "28             1       0         1\n",
       "29             1       0         1\n",
       "...          ...     ...       ...\n",
       "8100           1       0         1\n",
       "8101           1       0         1\n",
       "8102           1       0         1\n",
       "8103           1       0         1\n",
       "8104           1       0         1\n",
       "8105           1       0         1\n",
       "8106           1       0         1\n",
       "8107           1       0         1\n",
       "8108           1       0         1\n",
       "8109           1       0         1\n",
       "8110           1       0         1\n",
       "8111           1       0         1\n",
       "8112           1       0         1\n",
       "8113           1       0         1\n",
       "8114           1       0         1\n",
       "8115           1       0         1\n",
       "8116           1       0         1\n",
       "8117           1       0         1\n",
       "8118           1       0         1\n",
       "8119           1       0         1\n",
       "8120           1       0         1\n",
       "8121           1       0         1\n",
       "8122           1       0         1\n",
       "8123           1       0         1\n",
       "8124           1       0         1\n",
       "8125           1       0         1\n",
       "8126           1       0         1\n",
       "8127           1       0         1\n",
       "8128           1       0         1\n",
       "8129           1       0         1\n",
       "\n",
       "[8130 rows x 3 columns]"
      ]
     },
     "execution_count": 7,
     "metadata": {},
     "output_type": "execute_result"
    }
   ],
   "source": [
    "# predictions\n",
    "newX = month2[[\"Distance\", \"Amount\"]]\n",
    "newY = month2[\"FRAUD_INDICATOR\"].values.reshape(-1,1)\n",
    "# print(newX.shape)\n",
    "# print(newY.shape)\n",
    "\n",
    "##can't predict y since model is not trained for y but X\n",
    "predicted_Xattribute = knn.predict(newX)\n",
    "# print(predicted_Xattribute.shape)\n",
    "# predicted_Yattribute = knn.predict(newY)\n",
    "# print(predicted_Xattribute)\n",
    "# print(predicted_Yattribute)\n",
    "# pd.DataFrame({\"PredictedX\": predicted_Xattribute, \"ActualX\": newX})[[\"Predicted\", \"Actual\", \"Error\"]]\n",
    "# pd.DataFrame({\"PredictedY\": predicted_Yattribute, \"ActualY\": newY, \"Error\": predicted_Yattribute - newX})[[\"Predicted\", \"Actual\", \"Error\"]]\n",
    "pd.DataFrame({\"Prediction\": predicted_Xattribute, \"Actual\": newY.ravel(), \"Variance\": predicted_Xattribute-newY.ravel()})"
   ]
  },
  {
   "cell_type": "markdown",
   "metadata": {
    "nbpresent": {
     "id": "f1c699bc-6717-4eb9-8e6d-66d433ba4618"
    },
    "slideshow": {
     "slide_type": "slide"
    }
   },
   "source": [
    "## Support_Vector_Machine\n",
    "\n"
   ]
  },
  {
   "cell_type": "code",
   "execution_count": 3,
   "metadata": {},
   "outputs": [],
   "source": [
    "from matplotlib import style\n",
    "style.use(\"ggplot\")"
   ]
  },
  {
   "cell_type": "code",
   "execution_count": 4,
   "metadata": {},
   "outputs": [
    {
     "data": {
      "image/png": "[encoded data removed]",
      "text/plain": [
       "<Figure size 432x288 with 1 Axes>"
      ]
     },
     "metadata": {},
     "output_type": "display_data"
    }
   ],
   "source": [
    "X = month1[\"Distance\"].values.reshape(-1,1)\n",
    "y = month1[\"Amount\"].values.reshape(-1,1)\n",
    "plt.scatter(X[:, 0], y[:, 0], s=100, cmap=\"bwr\");\n",
    "plt.show()"
   ]
  },
  {
   "cell_type": "code",
   "execution_count": null,
   "metadata": {},
   "outputs": [],
   "source": [
    "# create SVC model\n",
    "from sklearn.svm import SVC \n",
    "model = SVC(kernel='linear')\n",
    "\n",
    "y1 = y.ravel()\n",
    "x1 = X.ravel()\n",
    "model.fit(X, y1)"
   ]
  },
  {
   "cell_type": "code",
   "execution_count": null,
   "metadata": {},
   "outputs": [],
   "source": [
    "# Plot the decision boundaries\n",
    "x_min = X[:, 0].min()\n",
    "x_max = X[:, 0].max()\n",
    "y_min = y[:, 0].min()\n",
    "y_max = y[:, 0].max()\n",
    "\n",
    "XX, YY = np.mgrid[x_min:x_max, y_min:y_max]\n",
    "# print(X[:,0])\n",
    "# print(x_min)\n",
    "# print(np.shape(X.ravel()))\n",
    "# print(np.shape(y))\n",
    "# print(XX.ravel())\n",
    "# print(YY.ravel())\n",
    "# print(np.shape(y1))\n",
    "\n",
    "Z = model.decision_function(np.c_[XX.ravel(), YY.ravel()])\n",
    "\n",
    "# Put the result into a color plot\n",
    "Z = Z.reshape(XX.shape)\n",
    "plt.contour(XX, YY, Z, colors=['k', 'k', 'k'],\n",
    "            linestyles=['--', '-', '--'], levels=[-.5, 0, .5])\n",
    "plt.scatter(X[:, 0], y1[:, 0], cmap='bwr'\n",
    "            , edgecolor='k', s=100)\n",
    "plt.show()"
   ]
  },
  {
   "cell_type": "code",
   "execution_count": 9,
   "metadata": {},
   "outputs": [
    {
     "data": {
      "image/png": "[encoded data removed]",
      "text/plain": [
       "<Figure size 432x288 with 1 Axes>"
      ]
     },
     "metadata": {
      "needs_background": "light"
     },
     "output_type": "display_data"
    },
    {
     "name": "stderr",
     "output_type": "stream",
     "text": [
      "C:\\Users\\DAbootcamp1\\Anaconda3\\envs\\PythonData\\lib\\site-packages\\sklearn\\utils\\validation.py:578: DataConversionWarning: A column-vector y was passed when a 1d array was expected. Please change the shape of y to (n_samples, ), for example using ravel().\n",
      "  y = column_or_1d(y, warn=True)\n"
     ]
    },
    {
     "ename": "ValueError",
     "evalue": "X.shape[1] = 2 should be equal to 1, the number of features at training time",
     "output_type": "error",
     "traceback": [
      "\u001b[1;31m---------------------------------------------------------------------------\u001b[0m",
      "\u001b[1;31mValueError\u001b[0m                                Traceback (most recent call last)",
      "\u001b[1;32m<ipython-input-9-1921a8eaa081>\u001b[0m in \u001b[0;36m<module>\u001b[1;34m()\u001b[0m\n\u001b[0;32m     18\u001b[0m \u001b[1;33m\u001b[0m\u001b[0m\n\u001b[0;32m     19\u001b[0m \u001b[0mXX\u001b[0m\u001b[1;33m,\u001b[0m \u001b[0mYY\u001b[0m \u001b[1;33m=\u001b[0m \u001b[0mnp\u001b[0m\u001b[1;33m.\u001b[0m\u001b[0mmgrid\u001b[0m\u001b[1;33m[\u001b[0m\u001b[0mx_min\u001b[0m\u001b[1;33m:\u001b[0m\u001b[0mx_max\u001b[0m\u001b[1;33m,\u001b[0m \u001b[0my_min\u001b[0m\u001b[1;33m:\u001b[0m\u001b[0my_max\u001b[0m\u001b[1;33m]\u001b[0m\u001b[1;33m\u001b[0m\u001b[0m\n\u001b[1;32m---> 20\u001b[1;33m \u001b[0mZ\u001b[0m \u001b[1;33m=\u001b[0m \u001b[0mmodel\u001b[0m\u001b[1;33m.\u001b[0m\u001b[0mdecision_function\u001b[0m\u001b[1;33m(\u001b[0m\u001b[0mnp\u001b[0m\u001b[1;33m.\u001b[0m\u001b[0mc_\u001b[0m\u001b[1;33m[\u001b[0m\u001b[0mXX\u001b[0m\u001b[1;33m.\u001b[0m\u001b[0mravel\u001b[0m\u001b[1;33m(\u001b[0m\u001b[1;33m)\u001b[0m\u001b[1;33m,\u001b[0m \u001b[0mYY\u001b[0m\u001b[1;33m.\u001b[0m\u001b[0mravel\u001b[0m\u001b[1;33m(\u001b[0m\u001b[1;33m)\u001b[0m\u001b[1;33m]\u001b[0m\u001b[1;33m)\u001b[0m\u001b[1;33m\u001b[0m\u001b[0m\n\u001b[0m\u001b[0;32m     21\u001b[0m \u001b[1;33m\u001b[0m\u001b[0m\n\u001b[0;32m     22\u001b[0m \u001b[1;31m# Put the result into a color plot\u001b[0m\u001b[1;33m\u001b[0m\u001b[1;33m\u001b[0m\u001b[0m\n",
      "\u001b[1;32m~\\Anaconda3\\envs\\PythonData\\lib\\site-packages\\sklearn\\svm\\base.py\u001b[0m in \u001b[0;36mdecision_function\u001b[1;34m(self, X)\u001b[0m\n\u001b[0;32m    525\u001b[0m             n_classes)\n\u001b[0;32m    526\u001b[0m         \"\"\"\n\u001b[1;32m--> 527\u001b[1;33m         \u001b[0mdec\u001b[0m \u001b[1;33m=\u001b[0m \u001b[0mself\u001b[0m\u001b[1;33m.\u001b[0m\u001b[0m_decision_function\u001b[0m\u001b[1;33m(\u001b[0m\u001b[0mX\u001b[0m\u001b[1;33m)\u001b[0m\u001b[1;33m\u001b[0m\u001b[0m\n\u001b[0m\u001b[0;32m    528\u001b[0m         \u001b[1;32mif\u001b[0m \u001b[0mself\u001b[0m\u001b[1;33m.\u001b[0m\u001b[0mdecision_function_shape\u001b[0m \u001b[1;33m==\u001b[0m \u001b[1;34m'ovr'\u001b[0m \u001b[1;32mand\u001b[0m \u001b[0mlen\u001b[0m\u001b[1;33m(\u001b[0m\u001b[0mself\u001b[0m\u001b[1;33m.\u001b[0m\u001b[0mclasses_\u001b[0m\u001b[1;33m)\u001b[0m \u001b[1;33m>\u001b[0m \u001b[1;36m2\u001b[0m\u001b[1;33m:\u001b[0m\u001b[1;33m\u001b[0m\u001b[0m\n\u001b[0;32m    529\u001b[0m             \u001b[1;32mreturn\u001b[0m \u001b[0m_ovr_decision_function\u001b[0m\u001b[1;33m(\u001b[0m\u001b[0mdec\u001b[0m \u001b[1;33m<\u001b[0m \u001b[1;36m0\u001b[0m\u001b[1;33m,\u001b[0m \u001b[1;33m-\u001b[0m\u001b[0mdec\u001b[0m\u001b[1;33m,\u001b[0m \u001b[0mlen\u001b[0m\u001b[1;33m(\u001b[0m\u001b[0mself\u001b[0m\u001b[1;33m.\u001b[0m\u001b[0mclasses_\u001b[0m\u001b[1;33m)\u001b[0m\u001b[1;33m)\u001b[0m\u001b[1;33m\u001b[0m\u001b[0m\n",
      "\u001b[1;32m~\\Anaconda3\\envs\\PythonData\\lib\\site-packages\\sklearn\\svm\\base.py\u001b[0m in \u001b[0;36m_decision_function\u001b[1;34m(self, X)\u001b[0m\n\u001b[0;32m    382\u001b[0m         \u001b[1;31m# NOTE: _validate_for_predict contains check for is_fitted\u001b[0m\u001b[1;33m\u001b[0m\u001b[1;33m\u001b[0m\u001b[0m\n\u001b[0;32m    383\u001b[0m         \u001b[1;31m# hence must be placed before any other attributes are used.\u001b[0m\u001b[1;33m\u001b[0m\u001b[1;33m\u001b[0m\u001b[0m\n\u001b[1;32m--> 384\u001b[1;33m         \u001b[0mX\u001b[0m \u001b[1;33m=\u001b[0m \u001b[0mself\u001b[0m\u001b[1;33m.\u001b[0m\u001b[0m_validate_for_predict\u001b[0m\u001b[1;33m(\u001b[0m\u001b[0mX\u001b[0m\u001b[1;33m)\u001b[0m\u001b[1;33m\u001b[0m\u001b[0m\n\u001b[0m\u001b[0;32m    385\u001b[0m         \u001b[0mX\u001b[0m \u001b[1;33m=\u001b[0m \u001b[0mself\u001b[0m\u001b[1;33m.\u001b[0m\u001b[0m_compute_kernel\u001b[0m\u001b[1;33m(\u001b[0m\u001b[0mX\u001b[0m\u001b[1;33m)\u001b[0m\u001b[1;33m\u001b[0m\u001b[0m\n\u001b[0;32m    386\u001b[0m \u001b[1;33m\u001b[0m\u001b[0m\n",
      "\u001b[1;32m~\\Anaconda3\\envs\\PythonData\\lib\\site-packages\\sklearn\\svm\\base.py\u001b[0m in \u001b[0;36m_validate_for_predict\u001b[1;34m(self, X)\u001b[0m\n\u001b[0;32m    457\u001b[0m             raise ValueError(\"X.shape[1] = %d should be equal to %d, \"\n\u001b[0;32m    458\u001b[0m                              \u001b[1;34m\"the number of features at training time\"\u001b[0m \u001b[1;33m%\u001b[0m\u001b[1;33m\u001b[0m\u001b[0m\n\u001b[1;32m--> 459\u001b[1;33m                              (n_features, self.shape_fit_[1]))\n\u001b[0m\u001b[0;32m    460\u001b[0m         \u001b[1;32mreturn\u001b[0m \u001b[0mX\u001b[0m\u001b[1;33m\u001b[0m\u001b[0m\n\u001b[0;32m    461\u001b[0m \u001b[1;33m\u001b[0m\u001b[0m\n",
      "\u001b[1;31mValueError\u001b[0m: X.shape[1] = 2 should be equal to 1, the number of features at training time"
     ]
    }
   ],
   "source": [
    "#validation\n",
    "plt.scatter(X[:, 0], y[:, 0], s=100, cmap=\"bwr\");\n",
    "plt.show()\n",
    "\n",
    "# Split data into training and testing\n",
    "X_train, X_test, y_train, y_test = train_test_split(X, y, random_state=42)\n",
    "\n",
    "# Fit to the training data and validate with the test data\n",
    "model = SVC(kernel='linear')\n",
    "model.fit(X_train, y_train)\n",
    "predictions = model.predict(X_test)\n",
    "\n",
    "# Plot the decision boundaries\n",
    "x_min = X[:, 0].min()\n",
    "x_max = X[:, 0].max()\n",
    "y_min = y[:, 0].min()\n",
    "y_max = y[:, 0].max()\n",
    "\n",
    "XX, YY = np.mgrid[x_min:x_max, y_min:y_max]\n",
    "Z = model.decision_function(np.c_[XX.ravel(), YY.ravel()])\n",
    "\n",
    "# Put the result into a color plot\n",
    "Z = Z.reshape(XX.shape)\n",
    "plt.contour(XX, YY, Z, colors=['k', 'k', 'k'],\n",
    "            linestyles=['--', '-', '--'], levels=[-.5, 0, .5])\n",
    "plt.scatter(X[:, 0], X[:, 1], c=y, cmap='bwr', edgecolor='k', s=100)\n",
    "plt.show()"
   ]
  },
  {
   "cell_type": "code",
   "execution_count": null,
   "metadata": {},
   "outputs": [],
   "source": [
    "# Calculate classification report\n",
    "print(classification_report(y_test, predictions,\n",
    "                            target_names=[\"blue\", \"red\"]))"
   ]
  },
  {
   "cell_type": "markdown",
   "metadata": {
    "nbpresent": {
     "id": "f1c699bc-6717-4eb9-8e6d-66d433ba4618"
    },
    "slideshow": {
     "slide_type": "slide"
    }
   },
   "source": [
    "## Support_Vector_Machine Grid\n",
    "\n"
   ]
  },
  {
   "cell_type": "code",
   "execution_count": 25,
   "metadata": {},
   "outputs": [
    {
     "data": {
      "image/png": "[encoded data removed]",
      "text/plain": [
       "<Figure size 432x288 with 1 Axes>"
      ]
     },
     "metadata": {
      "needs_background": "light"
     },
     "output_type": "display_data"
    }
   ],
   "source": [
    "X = month1[\"Distance\"].values.reshape(-1,1)\n",
    "y = month1[\"Amount\"].values.reshape(-1,1)\n",
    "plt.scatter(X[:, 0], y[:, 0], s=100, cmap=\"bwr\");\n",
    "plt.show()"
   ]
  },
  {
   "cell_type": "code",
   "execution_count": 26,
   "metadata": {},
   "outputs": [
    {
     "data": {
      "text/plain": [
       "SVC(C=1.0, cache_size=200, class_weight=None, coef0=0.0,\n",
       "  decision_function_shape='ovr', degree=3, gamma='auto', kernel='linear',\n",
       "  max_iter=-1, probability=False, random_state=None, shrinking=True,\n",
       "  tol=0.001, verbose=False)"
      ]
     },
     "execution_count": 26,
     "metadata": {},
     "output_type": "execute_result"
    }
   ],
   "source": [
    "# Create the SVC Model\n",
    "from sklearn.svm import SVC \n",
    "model = SVC(kernel='linear')\n",
    "model"
   ]
  },
  {
   "cell_type": "code",
   "execution_count": 27,
   "metadata": {},
   "outputs": [],
   "source": [
    "# Create the GridSearch estimator along with a parameter object containing the values to adjust\n",
    "from sklearn.model_selection import GridSearchCV\n",
    "param_grid = {'C': [1, 5, 10, 50],\n",
    "              'gamma': [0.0001, 0.0005, 0.001, 0.005]}\n",
    "grid = GridSearchCV(model, param_grid, verbose=3)"
   ]
  },
  {
   "cell_type": "code",
   "execution_count": null,
   "metadata": {},
   "outputs": [
    {
     "name": "stdout",
     "output_type": "stream",
     "text": [
      "Fitting 3 folds for each of 16 candidates, totalling 48 fits\n",
      "[CV] C=1, gamma=0.0001 ...............................................\n"
     ]
    },
    {
     "name": "stderr",
     "output_type": "stream",
     "text": [
      "C:\\Users\\DAbootcamp1\\Anaconda3\\envs\\PythonData\\lib\\site-packages\\sklearn\\utils\\validation.py:578: DataConversionWarning: A column-vector y was passed when a 1d array was expected. Please change the shape of y to (n_samples, ), for example using ravel().\n",
      "  y = column_or_1d(y, warn=True)\n"
     ]
    },
    {
     "name": "stdout",
     "output_type": "stream",
     "text": [
      "[CV] .... C=1, gamma=0.0001, score=0.006753904601097509, total=  15.2s\n",
      "[CV] C=1, gamma=0.0001 ...............................................\n"
     ]
    },
    {
     "name": "stderr",
     "output_type": "stream",
     "text": [
      "[Parallel(n_jobs=1)]: Done   1 out of   1 | elapsed:   20.9s remaining:    0.0s\n",
      "C:\\Users\\DAbootcamp1\\Anaconda3\\envs\\PythonData\\lib\\site-packages\\sklearn\\utils\\validation.py:578: DataConversionWarning: A column-vector y was passed when a 1d array was expected. Please change the shape of y to (n_samples, ), for example using ravel().\n",
      "  y = column_or_1d(y, warn=True)\n"
     ]
    },
    {
     "name": "stdout",
     "output_type": "stream",
     "text": [
      "[CV] .... C=1, gamma=0.0001, score=0.006105538595726123, total=  19.6s\n",
      "[CV] C=1, gamma=0.0001 ...............................................\n"
     ]
    },
    {
     "name": "stderr",
     "output_type": "stream",
     "text": [
      "[Parallel(n_jobs=1)]: Done   2 out of   2 | elapsed:   46.6s remaining:    0.0s\n",
      "C:\\Users\\DAbootcamp1\\Anaconda3\\envs\\PythonData\\lib\\site-packages\\sklearn\\utils\\validation.py:578: DataConversionWarning: A column-vector y was passed when a 1d array was expected. Please change the shape of y to (n_samples, ), for example using ravel().\n",
      "  y = column_or_1d(y, warn=True)\n"
     ]
    },
    {
     "name": "stdout",
     "output_type": "stream",
     "text": [
      "[CV] .... C=1, gamma=0.0001, score=0.005855855855855856, total=  18.1s\n",
      "[CV] C=1, gamma=0.0005 ...............................................\n"
     ]
    },
    {
     "name": "stderr",
     "output_type": "stream",
     "text": [
      "C:\\Users\\DAbootcamp1\\Anaconda3\\envs\\PythonData\\lib\\site-packages\\sklearn\\utils\\validation.py:578: DataConversionWarning: A column-vector y was passed when a 1d array was expected. Please change the shape of y to (n_samples, ), for example using ravel().\n",
      "  y = column_or_1d(y, warn=True)\n"
     ]
    },
    {
     "name": "stdout",
     "output_type": "stream",
     "text": [
      "[CV] .... C=1, gamma=0.0005, score=0.006753904601097509, total=  15.6s\n",
      "[CV] C=1, gamma=0.0005 ...............................................\n"
     ]
    },
    {
     "name": "stderr",
     "output_type": "stream",
     "text": [
      "C:\\Users\\DAbootcamp1\\Anaconda3\\envs\\PythonData\\lib\\site-packages\\sklearn\\utils\\validation.py:578: DataConversionWarning: A column-vector y was passed when a 1d array was expected. Please change the shape of y to (n_samples, ), for example using ravel().\n",
      "  y = column_or_1d(y, warn=True)\n"
     ]
    },
    {
     "name": "stdout",
     "output_type": "stream",
     "text": [
      "[CV] .... C=1, gamma=0.0005, score=0.006105538595726123, total=  20.1s\n",
      "[CV] C=1, gamma=0.0005 ...............................................\n"
     ]
    },
    {
     "name": "stderr",
     "output_type": "stream",
     "text": [
      "C:\\Users\\DAbootcamp1\\Anaconda3\\envs\\PythonData\\lib\\site-packages\\sklearn\\utils\\validation.py:578: DataConversionWarning: A column-vector y was passed when a 1d array was expected. Please change the shape of y to (n_samples, ), for example using ravel().\n",
      "  y = column_or_1d(y, warn=True)\n"
     ]
    },
    {
     "name": "stdout",
     "output_type": "stream",
     "text": [
      "[CV] .... C=1, gamma=0.0005, score=0.005855855855855856, total=  18.4s\n",
      "[CV] C=1, gamma=0.001 ................................................\n"
     ]
    },
    {
     "name": "stderr",
     "output_type": "stream",
     "text": [
      "C:\\Users\\DAbootcamp1\\Anaconda3\\envs\\PythonData\\lib\\site-packages\\sklearn\\utils\\validation.py:578: DataConversionWarning: A column-vector y was passed when a 1d array was expected. Please change the shape of y to (n_samples, ), for example using ravel().\n",
      "  y = column_or_1d(y, warn=True)\n"
     ]
    },
    {
     "name": "stdout",
     "output_type": "stream",
     "text": [
      "[CV] ..... C=1, gamma=0.001, score=0.006753904601097509, total=  15.5s\n",
      "[CV] C=1, gamma=0.001 ................................................\n"
     ]
    },
    {
     "name": "stderr",
     "output_type": "stream",
     "text": [
      "C:\\Users\\DAbootcamp1\\Anaconda3\\envs\\PythonData\\lib\\site-packages\\sklearn\\utils\\validation.py:578: DataConversionWarning: A column-vector y was passed when a 1d array was expected. Please change the shape of y to (n_samples, ), for example using ravel().\n",
      "  y = column_or_1d(y, warn=True)\n"
     ]
    },
    {
     "name": "stdout",
     "output_type": "stream",
     "text": [
      "[CV] ..... C=1, gamma=0.001, score=0.006105538595726123, total=  20.3s\n",
      "[CV] C=1, gamma=0.001 ................................................\n"
     ]
    },
    {
     "name": "stderr",
     "output_type": "stream",
     "text": [
      "C:\\Users\\DAbootcamp1\\Anaconda3\\envs\\PythonData\\lib\\site-packages\\sklearn\\utils\\validation.py:578: DataConversionWarning: A column-vector y was passed when a 1d array was expected. Please change the shape of y to (n_samples, ), for example using ravel().\n",
      "  y = column_or_1d(y, warn=True)\n"
     ]
    },
    {
     "name": "stdout",
     "output_type": "stream",
     "text": [
      "[CV] ..... C=1, gamma=0.001, score=0.005855855855855856, total=  18.3s\n",
      "[CV] C=1, gamma=0.005 ................................................\n"
     ]
    },
    {
     "name": "stderr",
     "output_type": "stream",
     "text": [
      "C:\\Users\\DAbootcamp1\\Anaconda3\\envs\\PythonData\\lib\\site-packages\\sklearn\\utils\\validation.py:578: DataConversionWarning: A column-vector y was passed when a 1d array was expected. Please change the shape of y to (n_samples, ), for example using ravel().\n",
      "  y = column_or_1d(y, warn=True)\n"
     ]
    },
    {
     "name": "stdout",
     "output_type": "stream",
     "text": [
      "[CV] ..... C=1, gamma=0.005, score=0.006753904601097509, total=  15.5s\n",
      "[CV] C=1, gamma=0.005 ................................................\n"
     ]
    },
    {
     "name": "stderr",
     "output_type": "stream",
     "text": [
      "C:\\Users\\DAbootcamp1\\Anaconda3\\envs\\PythonData\\lib\\site-packages\\sklearn\\utils\\validation.py:578: DataConversionWarning: A column-vector y was passed when a 1d array was expected. Please change the shape of y to (n_samples, ), for example using ravel().\n",
      "  y = column_or_1d(y, warn=True)\n"
     ]
    },
    {
     "name": "stdout",
     "output_type": "stream",
     "text": [
      "[CV] ..... C=1, gamma=0.005, score=0.006105538595726123, total=  19.8s\n",
      "[CV] C=1, gamma=0.005 ................................................\n"
     ]
    },
    {
     "name": "stderr",
     "output_type": "stream",
     "text": [
      "C:\\Users\\DAbootcamp1\\Anaconda3\\envs\\PythonData\\lib\\site-packages\\sklearn\\utils\\validation.py:578: DataConversionWarning: A column-vector y was passed when a 1d array was expected. Please change the shape of y to (n_samples, ), for example using ravel().\n",
      "  y = column_or_1d(y, warn=True)\n"
     ]
    },
    {
     "name": "stdout",
     "output_type": "stream",
     "text": [
      "[CV] ..... C=1, gamma=0.005, score=0.005855855855855856, total=  17.9s\n",
      "[CV] C=5, gamma=0.0001 ...............................................\n"
     ]
    },
    {
     "name": "stderr",
     "output_type": "stream",
     "text": [
      "C:\\Users\\DAbootcamp1\\Anaconda3\\envs\\PythonData\\lib\\site-packages\\sklearn\\utils\\validation.py:578: DataConversionWarning: A column-vector y was passed when a 1d array was expected. Please change the shape of y to (n_samples, ), for example using ravel().\n",
      "  y = column_or_1d(y, warn=True)\n"
     ]
    },
    {
     "name": "stdout",
     "output_type": "stream",
     "text": [
      "[CV] .... C=5, gamma=0.0001, score=0.006753904601097509, total=11.4min\n",
      "[CV] C=5, gamma=0.0001 ...............................................\n"
     ]
    },
    {
     "name": "stderr",
     "output_type": "stream",
     "text": [
      "C:\\Users\\DAbootcamp1\\Anaconda3\\envs\\PythonData\\lib\\site-packages\\sklearn\\utils\\validation.py:578: DataConversionWarning: A column-vector y was passed when a 1d array was expected. Please change the shape of y to (n_samples, ), for example using ravel().\n",
      "  y = column_or_1d(y, warn=True)\n"
     ]
    },
    {
     "name": "stdout",
     "output_type": "stream",
     "text": [
      "[CV] .... C=5, gamma=0.0001, score=0.006105538595726123, total=11.6min\n",
      "[CV] C=5, gamma=0.0001 ...............................................\n"
     ]
    },
    {
     "name": "stderr",
     "output_type": "stream",
     "text": [
      "C:\\Users\\DAbootcamp1\\Anaconda3\\envs\\PythonData\\lib\\site-packages\\sklearn\\utils\\validation.py:578: DataConversionWarning: A column-vector y was passed when a 1d array was expected. Please change the shape of y to (n_samples, ), for example using ravel().\n",
      "  y = column_or_1d(y, warn=True)\n"
     ]
    }
   ],
   "source": [
    "# Fit the model using the grid search estimator. \n",
    "# This will take the SVC model and try each combination of parameters\n",
    "grid.fit(X_train, y_train)"
   ]
  },
  {
   "cell_type": "code",
   "execution_count": null,
   "metadata": {},
   "outputs": [],
   "source": [
    "# List the best parameters for this dataset\n",
    "print(grid.best_params_)\n",
    "\n",
    "# List the best score\n",
    "print(grid.best_score_)"
   ]
  },
  {
   "cell_type": "code",
   "execution_count": null,
   "metadata": {},
   "outputs": [],
   "source": [
    "# Make predictions with the hypertuned model\n",
    "predictions = grid.predict(X_test)"
   ]
  },
  {
   "cell_type": "code",
   "execution_count": null,
   "metadata": {},
   "outputs": [],
   "source": [
    "# Calculate classification report\n",
    "print(classification_report(y_test, predictions,\n",
    "                            target_names=[\"blue\", \"red\"]))"
   ]
  },
  {
   "cell_type": "markdown",
   "metadata": {
    "nbpresent": {
     "id": "f1c699bc-6717-4eb9-8e6d-66d433ba4618"
    },
    "slideshow": {
     "slide_type": "slide"
    }
   },
   "source": [
    "## Neural Network \n"
   ]
  },
  {
   "cell_type": "code",
   "execution_count": 4,
   "metadata": {},
   "outputs": [],
   "source": [
    "# data with 2 features\n",
    "X = month1[[\"Distance\", \"Amount\"]]\n",
    "y = month1[\"FRAUD_INDICATOR\"].values.reshape(-1,1)\n",
    "\n",
    "# print(X.shape)\n",
    "# print(y.shape)"
   ]
  },
  {
   "cell_type": "code",
   "execution_count": 5,
   "metadata": {},
   "outputs": [
    {
     "name": "stderr",
     "output_type": "stream",
     "text": [
      "Using TensorFlow backend.\n"
     ]
    },
    {
     "data": {
      "text/plain": [
       "array([[1., 0.],\n",
       "       [1., 0.],\n",
       "       [1., 0.],\n",
       "       ...,\n",
       "       [1., 0.],\n",
       "       [1., 0.],\n",
       "       [1., 0.]], dtype=float32)"
      ]
     },
     "execution_count": 5,
     "metadata": {},
     "output_type": "execute_result"
    }
   ],
   "source": [
    "# train and test data\n",
    "X_train, X_test, y_train, y_test = train_test_split(X, y, random_state=0)\n",
    "from sklearn.preprocessing import StandardScaler\n",
    "X_scaler = StandardScaler().fit(X_train)\n",
    "X_train_scaled = X_scaler.transform(X_train)\n",
    "X_test_scaled = X_scaler.transform(X_test)\n",
    "\n",
    "from keras.utils import to_categorical\n",
    "# One-hot encoding\n",
    "y_train_categorical = to_categorical(y_train)\n",
    "y_test_categorical = to_categorical(y_test)\n",
    "y_train_categorical"
   ]
  },
  {
   "cell_type": "code",
   "execution_count": 6,
   "metadata": {},
   "outputs": [],
   "source": [
    "from keras.models import Sequential\n",
    "model = Sequential()\n",
    "\n",
    "from keras.layers import Dense\n",
    "number_inputs = 2\n",
    "number_hidden_nodes = 4\n",
    "model.add(Dense(units=number_hidden_nodes,\n",
    "                activation='relu', input_dim=number_inputs))"
   ]
  },
  {
   "cell_type": "code",
   "execution_count": 7,
   "metadata": {},
   "outputs": [
    {
     "name": "stdout",
     "output_type": "stream",
     "text": [
      "_________________________________________________________________\n",
      "Layer (type)                 Output Shape              Param #   \n",
      "=================================================================\n",
      "dense_1 (Dense)              (None, 4)                 12        \n",
      "_________________________________________________________________\n",
      "dense_2 (Dense)              (None, 2)                 10        \n",
      "=================================================================\n",
      "Total params: 22\n",
      "Trainable params: 22\n",
      "Non-trainable params: 0\n",
      "_________________________________________________________________\n"
     ]
    }
   ],
   "source": [
    "number_classes = 2\n",
    "model.add(Dense(units=number_classes, activation='softmax'))\n",
    "model.summary()"
   ]
  },
  {
   "cell_type": "code",
   "execution_count": 8,
   "metadata": {},
   "outputs": [],
   "source": [
    "model.compile(optimizer='adam',\n",
    "              loss='categorical_crossentropy',\n",
    "              metrics=['accuracy'])"
   ]
  },
  {
   "cell_type": "code",
   "execution_count": 9,
   "metadata": {},
   "outputs": [
    {
     "name": "stdout",
     "output_type": "stream",
     "text": [
      "Epoch 1/1000\n",
      " - 1s - loss: 0.9085 - acc: 0.5396\n",
      "Epoch 2/1000\n",
      " - 0s - loss: 0.5695 - acc: 0.8612\n",
      "Epoch 3/1000\n",
      " - 0s - loss: 0.4177 - acc: 0.9147\n",
      "Epoch 4/1000\n",
      " - 0s - loss: 0.3353 - acc: 0.9307\n",
      "Epoch 5/1000\n",
      " - 0s - loss: 0.2792 - acc: 0.9410\n",
      "Epoch 6/1000\n",
      " - 0s - loss: 0.2362 - acc: 0.9466\n",
      "Epoch 7/1000\n",
      " - 0s - loss: 0.1984 - acc: 0.9580\n",
      "Epoch 8/1000\n",
      " - 0s - loss: 0.1588 - acc: 0.9670\n",
      "Epoch 9/1000\n",
      " - 0s - loss: 0.1238 - acc: 0.9748\n",
      "Epoch 10/1000\n",
      " - 0s - loss: 0.1013 - acc: 0.9776\n",
      "Epoch 11/1000\n",
      " - 0s - loss: 0.0886 - acc: 0.9789\n",
      "Epoch 12/1000\n",
      " - 0s - loss: 0.0805 - acc: 0.9789\n",
      "Epoch 13/1000\n",
      " - 0s - loss: 0.0745 - acc: 0.9794\n",
      "Epoch 14/1000\n",
      " - 0s - loss: 0.0704 - acc: 0.9805\n",
      "Epoch 15/1000\n",
      " - 0s - loss: 0.0679 - acc: 0.9799\n",
      "Epoch 16/1000\n",
      " - 0s - loss: 0.0661 - acc: 0.9805\n",
      "Epoch 17/1000\n",
      " - 0s - loss: 0.0646 - acc: 0.9811\n",
      "Epoch 18/1000\n",
      " - 0s - loss: 0.0635 - acc: 0.9808\n",
      "Epoch 19/1000\n",
      " - 0s - loss: 0.0624 - acc: 0.9813\n",
      "Epoch 20/1000\n",
      " - 0s - loss: 0.0613 - acc: 0.9811\n",
      "Epoch 21/1000\n",
      " - 0s - loss: 0.0603 - acc: 0.9821\n",
      "Epoch 22/1000\n",
      " - 0s - loss: 0.0593 - acc: 0.9819\n",
      "Epoch 23/1000\n",
      " - 0s - loss: 0.0583 - acc: 0.9826\n",
      "Epoch 24/1000\n",
      " - 0s - loss: 0.0573 - acc: 0.9829\n",
      "Epoch 25/1000\n",
      " - 0s - loss: 0.0565 - acc: 0.9821\n",
      "Epoch 26/1000\n",
      " - 0s - loss: 0.0555 - acc: 0.9827\n",
      "Epoch 27/1000\n",
      " - 0s - loss: 0.0545 - acc: 0.9832\n",
      "Epoch 28/1000\n",
      " - 0s - loss: 0.0535 - acc: 0.9830\n",
      "Epoch 29/1000\n",
      " - 0s - loss: 0.0525 - acc: 0.9832\n",
      "Epoch 30/1000\n",
      " - 0s - loss: 0.0516 - acc: 0.9832\n",
      "Epoch 31/1000\n",
      " - 0s - loss: 0.0506 - acc: 0.9835\n",
      "Epoch 32/1000\n",
      " - 0s - loss: 0.0498 - acc: 0.9838\n",
      "Epoch 33/1000\n",
      " - 0s - loss: 0.0488 - acc: 0.9840\n",
      "Epoch 34/1000\n",
      " - 0s - loss: 0.0479 - acc: 0.9832\n",
      "Epoch 35/1000\n",
      " - 0s - loss: 0.0468 - acc: 0.9835\n",
      "Epoch 36/1000\n",
      " - 0s - loss: 0.0465 - acc: 0.9819\n",
      "Epoch 37/1000\n",
      " - 0s - loss: 0.0454 - acc: 0.9838\n",
      "Epoch 38/1000\n",
      " - 0s - loss: 0.0446 - acc: 0.9838\n",
      "Epoch 39/1000\n",
      " - 0s - loss: 0.0438 - acc: 0.9837\n",
      "Epoch 40/1000\n",
      " - 0s - loss: 0.0431 - acc: 0.9843\n",
      "Epoch 41/1000\n",
      " - 0s - loss: 0.0423 - acc: 0.9846\n",
      "Epoch 42/1000\n",
      " - 0s - loss: 0.0417 - acc: 0.9854\n",
      "Epoch 43/1000\n",
      " - 0s - loss: 0.0410 - acc: 0.9846\n",
      "Epoch 44/1000\n",
      " - 0s - loss: 0.0404 - acc: 0.9851\n",
      "Epoch 45/1000\n",
      " - 0s - loss: 0.0397 - acc: 0.9857\n",
      "Epoch 46/1000\n",
      " - 0s - loss: 0.0391 - acc: 0.9846\n",
      "Epoch 47/1000\n",
      " - 0s - loss: 0.0386 - acc: 0.9849\n",
      "Epoch 48/1000\n",
      " - 0s - loss: 0.0380 - acc: 0.9853\n",
      "Epoch 49/1000\n",
      " - 0s - loss: 0.0374 - acc: 0.9854\n",
      "Epoch 50/1000\n",
      " - 0s - loss: 0.0369 - acc: 0.9857\n",
      "Epoch 51/1000\n",
      " - 0s - loss: 0.0363 - acc: 0.9856\n",
      "Epoch 52/1000\n",
      " - 0s - loss: 0.0358 - acc: 0.9857\n",
      "Epoch 53/1000\n",
      " - 0s - loss: 0.0352 - acc: 0.9864\n",
      "Epoch 54/1000\n",
      " - 0s - loss: 0.0346 - acc: 0.9865\n",
      "Epoch 55/1000\n",
      " - 0s - loss: 0.0340 - acc: 0.9875\n",
      "Epoch 56/1000\n",
      " - 0s - loss: 0.0334 - acc: 0.9875\n",
      "Epoch 57/1000\n",
      " - 0s - loss: 0.0328 - acc: 0.9878\n",
      "Epoch 58/1000\n",
      " - 0s - loss: 0.0323 - acc: 0.9881\n",
      "Epoch 59/1000\n",
      " - 0s - loss: 0.0317 - acc: 0.9883\n",
      "Epoch 60/1000\n",
      " - 0s - loss: 0.0313 - acc: 0.9883\n",
      "Epoch 61/1000\n",
      " - 0s - loss: 0.0308 - acc: 0.9881\n",
      "Epoch 62/1000\n",
      " - 0s - loss: 0.0304 - acc: 0.9886\n",
      "Epoch 63/1000\n",
      " - 0s - loss: 0.0299 - acc: 0.9891\n",
      "Epoch 64/1000\n",
      " - 0s - loss: 0.0296 - acc: 0.9886\n",
      "Epoch 65/1000\n",
      " - 0s - loss: 0.0293 - acc: 0.9891\n",
      "Epoch 66/1000\n",
      " - 0s - loss: 0.0289 - acc: 0.9895\n",
      "Epoch 67/1000\n",
      " - 0s - loss: 0.0287 - acc: 0.9892\n",
      "Epoch 68/1000\n",
      " - 0s - loss: 0.0283 - acc: 0.9894\n",
      "Epoch 69/1000\n",
      " - 0s - loss: 0.0281 - acc: 0.9895\n",
      "Epoch 70/1000\n",
      " - 0s - loss: 0.0279 - acc: 0.9897\n",
      "Epoch 71/1000\n",
      " - 0s - loss: 0.0277 - acc: 0.9895\n",
      "Epoch 72/1000\n",
      " - 0s - loss: 0.0275 - acc: 0.9900\n",
      "Epoch 73/1000\n",
      " - 0s - loss: 0.0273 - acc: 0.9895\n",
      "Epoch 74/1000\n",
      " - 0s - loss: 0.0272 - acc: 0.9902\n",
      "Epoch 75/1000\n",
      " - 0s - loss: 0.0269 - acc: 0.9889\n",
      "Epoch 76/1000\n",
      " - 0s - loss: 0.0268 - acc: 0.9899\n",
      "Epoch 77/1000\n",
      " - 0s - loss: 0.0268 - acc: 0.9894\n",
      "Epoch 78/1000\n",
      " - 0s - loss: 0.0266 - acc: 0.9892\n",
      "Epoch 79/1000\n",
      " - 0s - loss: 0.0264 - acc: 0.9897\n",
      "Epoch 80/1000\n",
      " - 0s - loss: 0.0264 - acc: 0.9891\n",
      "Epoch 81/1000\n",
      " - 0s - loss: 0.0263 - acc: 0.9891\n",
      "Epoch 82/1000\n",
      " - 0s - loss: 0.0262 - acc: 0.9891\n",
      "Epoch 83/1000\n",
      " - 0s - loss: 0.0262 - acc: 0.9889\n",
      "Epoch 84/1000\n",
      " - 0s - loss: 0.0261 - acc: 0.9886\n",
      "Epoch 85/1000\n",
      " - 0s - loss: 0.0260 - acc: 0.9889\n",
      "Epoch 86/1000\n",
      " - 0s - loss: 0.0261 - acc: 0.9887\n",
      "Epoch 87/1000\n",
      " - 0s - loss: 0.0259 - acc: 0.9887\n",
      "Epoch 88/1000\n",
      " - 0s - loss: 0.0259 - acc: 0.9889\n",
      "Epoch 89/1000\n",
      " - 0s - loss: 0.0258 - acc: 0.9889\n",
      "Epoch 90/1000\n",
      " - 0s - loss: 0.0258 - acc: 0.9889\n",
      "Epoch 91/1000\n",
      " - 0s - loss: 0.0258 - acc: 0.9887\n",
      "Epoch 92/1000\n",
      " - 0s - loss: 0.0258 - acc: 0.9886\n",
      "Epoch 93/1000\n",
      " - 0s - loss: 0.0257 - acc: 0.9889\n",
      "Epoch 94/1000\n",
      " - 0s - loss: 0.0257 - acc: 0.9889\n",
      "Epoch 95/1000\n",
      " - 0s - loss: 0.0257 - acc: 0.9889\n",
      "Epoch 96/1000\n",
      " - 0s - loss: 0.0256 - acc: 0.9894\n",
      "Epoch 97/1000\n",
      " - 0s - loss: 0.0256 - acc: 0.9891\n",
      "Epoch 98/1000\n",
      " - 0s - loss: 0.0256 - acc: 0.9887\n",
      "Epoch 99/1000\n",
      " - 0s - loss: 0.0254 - acc: 0.9894\n",
      "Epoch 100/1000\n",
      " - 0s - loss: 0.0256 - acc: 0.9887\n",
      "Epoch 101/1000\n",
      " - 0s - loss: 0.0255 - acc: 0.9889\n",
      "Epoch 102/1000\n",
      " - 0s - loss: 0.0255 - acc: 0.9887\n",
      "Epoch 103/1000\n",
      " - 0s - loss: 0.0255 - acc: 0.9886\n",
      "Epoch 104/1000\n",
      " - 0s - loss: 0.0254 - acc: 0.9887\n",
      "Epoch 105/1000\n",
      " - 0s - loss: 0.0254 - acc: 0.9886\n",
      "Epoch 106/1000\n",
      " - 0s - loss: 0.0254 - acc: 0.9889\n",
      "Epoch 107/1000\n",
      " - 0s - loss: 0.0253 - acc: 0.9887\n",
      "Epoch 108/1000\n",
      " - 0s - loss: 0.0253 - acc: 0.9894\n",
      "Epoch 109/1000\n",
      " - 0s - loss: 0.0253 - acc: 0.9889\n",
      "Epoch 110/1000\n",
      " - 0s - loss: 0.0253 - acc: 0.9891\n",
      "Epoch 111/1000\n",
      " - 0s - loss: 0.0253 - acc: 0.9889\n",
      "Epoch 112/1000\n",
      " - 0s - loss: 0.0253 - acc: 0.9894\n",
      "Epoch 113/1000\n",
      " - 0s - loss: 0.0252 - acc: 0.9887\n",
      "Epoch 114/1000\n",
      " - 0s - loss: 0.0252 - acc: 0.9887\n",
      "Epoch 115/1000\n",
      " - 0s - loss: 0.0252 - acc: 0.9886\n",
      "Epoch 116/1000\n",
      " - 0s - loss: 0.0252 - acc: 0.9891\n",
      "Epoch 117/1000\n",
      " - 0s - loss: 0.0251 - acc: 0.9886\n",
      "Epoch 118/1000\n",
      " - 0s - loss: 0.0252 - acc: 0.9889\n",
      "Epoch 119/1000\n",
      " - 0s - loss: 0.0252 - acc: 0.9886\n",
      "Epoch 120/1000\n",
      " - 0s - loss: 0.0252 - acc: 0.9886\n",
      "Epoch 121/1000\n",
      " - 0s - loss: 0.0251 - acc: 0.9886\n",
      "Epoch 122/1000\n",
      " - 0s - loss: 0.0251 - acc: 0.9889\n",
      "Epoch 123/1000\n",
      " - 0s - loss: 0.0251 - acc: 0.9887\n",
      "Epoch 124/1000\n",
      " - 0s - loss: 0.0251 - acc: 0.9889\n",
      "Epoch 125/1000\n",
      " - 0s - loss: 0.0251 - acc: 0.9891\n",
      "Epoch 126/1000\n",
      " - 0s - loss: 0.0251 - acc: 0.9889\n",
      "Epoch 127/1000\n",
      " - 0s - loss: 0.0251 - acc: 0.9887\n",
      "Epoch 128/1000\n",
      " - 0s - loss: 0.0251 - acc: 0.9892\n",
      "Epoch 129/1000\n",
      " - 0s - loss: 0.0251 - acc: 0.9889\n",
      "Epoch 130/1000\n",
      " - 0s - loss: 0.0250 - acc: 0.9887\n",
      "Epoch 131/1000\n",
      " - 0s - loss: 0.0250 - acc: 0.9892\n",
      "Epoch 132/1000\n",
      " - 0s - loss: 0.0250 - acc: 0.9891\n",
      "Epoch 133/1000\n",
      " - 0s - loss: 0.0251 - acc: 0.9892\n",
      "Epoch 134/1000\n",
      " - 0s - loss: 0.0250 - acc: 0.9887\n",
      "Epoch 135/1000\n",
      " - 0s - loss: 0.0249 - acc: 0.9886\n",
      "Epoch 136/1000\n",
      " - 0s - loss: 0.0250 - acc: 0.9892\n",
      "Epoch 137/1000\n",
      " - 0s - loss: 0.0249 - acc: 0.9894\n",
      "Epoch 138/1000\n",
      " - 0s - loss: 0.0249 - acc: 0.9889\n",
      "Epoch 139/1000\n",
      " - 0s - loss: 0.0249 - acc: 0.9889\n",
      "Epoch 140/1000\n",
      " - 0s - loss: 0.0249 - acc: 0.9887\n",
      "Epoch 141/1000\n",
      " - 0s - loss: 0.0249 - acc: 0.9894\n",
      "Epoch 142/1000\n",
      " - 0s - loss: 0.0249 - acc: 0.9887\n",
      "Epoch 143/1000\n",
      " - 0s - loss: 0.0249 - acc: 0.9892\n",
      "Epoch 144/1000\n",
      " - 0s - loss: 0.0249 - acc: 0.9889\n",
      "Epoch 145/1000\n",
      " - 0s - loss: 0.0249 - acc: 0.9891\n",
      "Epoch 146/1000\n",
      " - 0s - loss: 0.0249 - acc: 0.9891\n",
      "Epoch 147/1000\n",
      " - 0s - loss: 0.0248 - acc: 0.9891\n",
      "Epoch 148/1000\n",
      " - 0s - loss: 0.0248 - acc: 0.9891\n",
      "Epoch 149/1000\n",
      " - 0s - loss: 0.0248 - acc: 0.9892\n",
      "Epoch 150/1000\n",
      " - 0s - loss: 0.0248 - acc: 0.9889\n",
      "Epoch 151/1000\n",
      " - 0s - loss: 0.0249 - acc: 0.9887\n",
      "Epoch 152/1000\n",
      " - 0s - loss: 0.0248 - acc: 0.9886\n",
      "Epoch 153/1000\n",
      " - 0s - loss: 0.0248 - acc: 0.9889\n",
      "Epoch 154/1000\n",
      " - 0s - loss: 0.0248 - acc: 0.9891\n",
      "Epoch 155/1000\n",
      " - 0s - loss: 0.0249 - acc: 0.9886\n",
      "Epoch 156/1000\n",
      " - 0s - loss: 0.0248 - acc: 0.9887\n",
      "Epoch 157/1000\n",
      " - 0s - loss: 0.0248 - acc: 0.9887\n",
      "Epoch 158/1000\n",
      " - 0s - loss: 0.0247 - acc: 0.9891\n",
      "Epoch 159/1000\n",
      " - 0s - loss: 0.0247 - acc: 0.9889\n",
      "Epoch 160/1000\n",
      " - 0s - loss: 0.0247 - acc: 0.9891\n",
      "Epoch 161/1000\n",
      " - 0s - loss: 0.0249 - acc: 0.9884\n",
      "Epoch 162/1000\n",
      " - 0s - loss: 0.0247 - acc: 0.9889\n",
      "Epoch 163/1000\n",
      " - 0s - loss: 0.0247 - acc: 0.9892\n",
      "Epoch 164/1000\n",
      " - 0s - loss: 0.0247 - acc: 0.9887\n",
      "Epoch 165/1000\n",
      " - 0s - loss: 0.0247 - acc: 0.9895\n",
      "Epoch 166/1000\n",
      " - 0s - loss: 0.0248 - acc: 0.9889\n",
      "Epoch 167/1000\n"
     ]
    },
    {
     "name": "stdout",
     "output_type": "stream",
     "text": [
      " - 0s - loss: 0.0247 - acc: 0.9892\n",
      "Epoch 168/1000\n",
      " - 0s - loss: 0.0247 - acc: 0.9887\n",
      "Epoch 169/1000\n",
      " - 0s - loss: 0.0250 - acc: 0.9886\n",
      "Epoch 170/1000\n",
      " - 0s - loss: 0.0247 - acc: 0.9892\n",
      "Epoch 171/1000\n",
      " - 0s - loss: 0.0246 - acc: 0.9892\n",
      "Epoch 172/1000\n",
      " - 0s - loss: 0.0246 - acc: 0.9891\n",
      "Epoch 173/1000\n",
      " - 0s - loss: 0.0246 - acc: 0.9892\n",
      "Epoch 174/1000\n",
      " - 0s - loss: 0.0246 - acc: 0.9891\n",
      "Epoch 175/1000\n",
      " - 0s - loss: 0.0247 - acc: 0.9889\n",
      "Epoch 176/1000\n",
      " - 0s - loss: 0.0246 - acc: 0.9894\n",
      "Epoch 177/1000\n",
      " - 0s - loss: 0.0246 - acc: 0.9889\n",
      "Epoch 178/1000\n",
      " - 0s - loss: 0.0246 - acc: 0.9892\n",
      "Epoch 179/1000\n",
      " - 0s - loss: 0.0246 - acc: 0.9891\n",
      "Epoch 180/1000\n",
      " - 0s - loss: 0.0246 - acc: 0.9891\n",
      "Epoch 181/1000\n",
      " - 0s - loss: 0.0247 - acc: 0.9886\n",
      "Epoch 182/1000\n",
      " - 0s - loss: 0.0246 - acc: 0.9895\n",
      "Epoch 183/1000\n",
      " - 0s - loss: 0.0245 - acc: 0.9892\n",
      "Epoch 184/1000\n",
      " - 0s - loss: 0.0246 - acc: 0.9891\n",
      "Epoch 185/1000\n",
      " - 0s - loss: 0.0245 - acc: 0.9891\n",
      "Epoch 186/1000\n",
      " - 0s - loss: 0.0245 - acc: 0.9889\n",
      "Epoch 187/1000\n",
      " - 0s - loss: 0.0245 - acc: 0.9894\n",
      "Epoch 188/1000\n",
      " - 0s - loss: 0.0246 - acc: 0.9889\n",
      "Epoch 189/1000\n",
      " - 0s - loss: 0.0246 - acc: 0.9889\n",
      "Epoch 190/1000\n",
      " - 0s - loss: 0.0245 - acc: 0.9889\n",
      "Epoch 191/1000\n",
      " - 0s - loss: 0.0245 - acc: 0.9891\n",
      "Epoch 192/1000\n",
      " - 0s - loss: 0.0245 - acc: 0.9886\n",
      "Epoch 193/1000\n",
      " - 0s - loss: 0.0245 - acc: 0.9891\n",
      "Epoch 194/1000\n",
      " - 0s - loss: 0.0245 - acc: 0.9889\n",
      "Epoch 195/1000\n",
      " - 0s - loss: 0.0245 - acc: 0.9891\n",
      "Epoch 196/1000\n",
      " - 0s - loss: 0.0245 - acc: 0.9891\n",
      "Epoch 197/1000\n",
      " - 0s - loss: 0.0244 - acc: 0.9894\n",
      "Epoch 198/1000\n",
      " - 0s - loss: 0.0244 - acc: 0.9892\n",
      "Epoch 199/1000\n",
      " - 0s - loss: 0.0245 - acc: 0.9886\n",
      "Epoch 200/1000\n",
      " - 0s - loss: 0.0244 - acc: 0.9891\n",
      "Epoch 201/1000\n",
      " - 0s - loss: 0.0244 - acc: 0.9895\n",
      "Epoch 202/1000\n",
      " - 0s - loss: 0.0245 - acc: 0.9891\n",
      "Epoch 203/1000\n",
      " - 0s - loss: 0.0244 - acc: 0.9886\n",
      "Epoch 204/1000\n",
      " - 0s - loss: 0.0244 - acc: 0.9889\n",
      "Epoch 205/1000\n",
      " - 0s - loss: 0.0244 - acc: 0.9894\n",
      "Epoch 206/1000\n",
      " - 0s - loss: 0.0245 - acc: 0.9891\n",
      "Epoch 207/1000\n",
      " - 0s - loss: 0.0244 - acc: 0.9891\n",
      "Epoch 208/1000\n",
      " - 0s - loss: 0.0245 - acc: 0.9891\n",
      "Epoch 209/1000\n",
      " - 0s - loss: 0.0244 - acc: 0.9887\n",
      "Epoch 210/1000\n",
      " - 0s - loss: 0.0244 - acc: 0.9891\n",
      "Epoch 211/1000\n",
      " - 0s - loss: 0.0244 - acc: 0.9892\n",
      "Epoch 212/1000\n",
      " - 0s - loss: 0.0244 - acc: 0.9889\n",
      "Epoch 213/1000\n",
      " - 0s - loss: 0.0244 - acc: 0.9894\n",
      "Epoch 214/1000\n",
      " - 0s - loss: 0.0244 - acc: 0.9892\n",
      "Epoch 215/1000\n",
      " - 0s - loss: 0.0244 - acc: 0.9891\n",
      "Epoch 216/1000\n",
      " - 0s - loss: 0.0244 - acc: 0.9891\n",
      "Epoch 217/1000\n",
      " - 0s - loss: 0.0244 - acc: 0.9892\n",
      "Epoch 218/1000\n",
      " - 0s - loss: 0.0244 - acc: 0.9889\n",
      "Epoch 219/1000\n",
      " - 0s - loss: 0.0244 - acc: 0.9892\n",
      "Epoch 220/1000\n",
      " - 0s - loss: 0.0244 - acc: 0.9889\n",
      "Epoch 221/1000\n",
      " - 0s - loss: 0.0244 - acc: 0.9889\n",
      "Epoch 222/1000\n",
      " - 0s - loss: 0.0244 - acc: 0.9891\n",
      "Epoch 223/1000\n",
      " - 0s - loss: 0.0243 - acc: 0.9894\n",
      "Epoch 224/1000\n",
      " - 0s - loss: 0.0244 - acc: 0.9895\n",
      "Epoch 225/1000\n",
      " - 0s - loss: 0.0245 - acc: 0.9894\n",
      "Epoch 226/1000\n",
      " - 0s - loss: 0.0244 - acc: 0.9891\n",
      "Epoch 227/1000\n",
      " - 0s - loss: 0.0244 - acc: 0.9891\n",
      "Epoch 228/1000\n",
      " - 0s - loss: 0.0249 - acc: 0.9892\n",
      "Epoch 229/1000\n",
      " - 0s - loss: 0.0244 - acc: 0.9891\n",
      "Epoch 230/1000\n",
      " - 0s - loss: 0.0243 - acc: 0.9895\n",
      "Epoch 231/1000\n",
      " - 0s - loss: 0.0243 - acc: 0.9892\n",
      "Epoch 232/1000\n",
      " - 0s - loss: 0.0244 - acc: 0.9892\n",
      "Epoch 233/1000\n",
      " - 0s - loss: 0.0243 - acc: 0.9891\n",
      "Epoch 234/1000\n",
      " - 0s - loss: 0.0243 - acc: 0.9892\n",
      "Epoch 235/1000\n",
      " - 0s - loss: 0.0243 - acc: 0.9891\n",
      "Epoch 236/1000\n",
      " - 0s - loss: 0.0243 - acc: 0.9897\n",
      "Epoch 237/1000\n",
      " - 0s - loss: 0.0244 - acc: 0.9886\n",
      "Epoch 238/1000\n",
      " - 0s - loss: 0.0243 - acc: 0.9889\n",
      "Epoch 239/1000\n",
      " - 0s - loss: 0.0243 - acc: 0.9889\n",
      "Epoch 240/1000\n",
      " - 0s - loss: 0.0243 - acc: 0.9892\n",
      "Epoch 241/1000\n",
      " - 0s - loss: 0.0243 - acc: 0.9894\n",
      "Epoch 242/1000\n",
      " - 0s - loss: 0.0243 - acc: 0.9894\n",
      "Epoch 243/1000\n",
      " - 0s - loss: 0.0243 - acc: 0.9894\n",
      "Epoch 244/1000\n",
      " - 0s - loss: 0.0243 - acc: 0.9889\n",
      "Epoch 245/1000\n",
      " - 0s - loss: 0.0243 - acc: 0.9889\n",
      "Epoch 246/1000\n",
      " - 0s - loss: 0.0243 - acc: 0.9891\n",
      "Epoch 247/1000\n",
      " - 0s - loss: 0.0242 - acc: 0.9892\n",
      "Epoch 248/1000\n",
      " - 0s - loss: 0.0243 - acc: 0.9892\n",
      "Epoch 249/1000\n",
      " - 0s - loss: 0.0243 - acc: 0.9889\n",
      "Epoch 250/1000\n",
      " - 0s - loss: 0.0243 - acc: 0.9891\n",
      "Epoch 251/1000\n",
      " - 0s - loss: 0.0243 - acc: 0.9887\n",
      "Epoch 252/1000\n",
      " - 0s - loss: 0.0243 - acc: 0.9891\n",
      "Epoch 253/1000\n",
      " - 0s - loss: 0.0242 - acc: 0.9891\n",
      "Epoch 254/1000\n",
      " - 0s - loss: 0.0242 - acc: 0.9886\n",
      "Epoch 255/1000\n",
      " - 0s - loss: 0.0243 - acc: 0.9889\n",
      "Epoch 256/1000\n",
      " - 0s - loss: 0.0243 - acc: 0.9891\n",
      "Epoch 257/1000\n",
      " - 0s - loss: 0.0242 - acc: 0.9889\n",
      "Epoch 258/1000\n",
      " - 0s - loss: 0.0242 - acc: 0.9891\n",
      "Epoch 259/1000\n",
      " - 0s - loss: 0.0243 - acc: 0.9892\n",
      "Epoch 260/1000\n",
      " - 0s - loss: 0.0242 - acc: 0.9891\n",
      "Epoch 261/1000\n",
      " - 0s - loss: 0.0243 - acc: 0.9894\n",
      "Epoch 262/1000\n",
      " - 0s - loss: 0.0242 - acc: 0.9892\n",
      "Epoch 263/1000\n",
      " - 0s - loss: 0.0243 - acc: 0.9891\n",
      "Epoch 264/1000\n",
      " - 0s - loss: 0.0242 - acc: 0.9889\n",
      "Epoch 265/1000\n",
      " - 0s - loss: 0.0242 - acc: 0.9892\n",
      "Epoch 266/1000\n",
      " - 0s - loss: 0.0243 - acc: 0.9887\n",
      "Epoch 267/1000\n",
      " - 0s - loss: 0.0242 - acc: 0.9892\n",
      "Epoch 268/1000\n",
      " - 0s - loss: 0.0242 - acc: 0.9891\n",
      "Epoch 269/1000\n",
      " - 0s - loss: 0.0242 - acc: 0.9886\n",
      "Epoch 270/1000\n",
      " - 0s - loss: 0.0242 - acc: 0.9891\n",
      "Epoch 271/1000\n",
      " - 0s - loss: 0.0242 - acc: 0.9891\n",
      "Epoch 272/1000\n",
      " - 0s - loss: 0.0242 - acc: 0.9895\n",
      "Epoch 273/1000\n",
      " - 0s - loss: 0.0241 - acc: 0.9892\n",
      "Epoch 274/1000\n",
      " - 0s - loss: 0.0242 - acc: 0.9892\n",
      "Epoch 275/1000\n",
      " - 0s - loss: 0.0242 - acc: 0.9895\n",
      "Epoch 276/1000\n",
      " - 0s - loss: 0.0242 - acc: 0.9892\n",
      "Epoch 277/1000\n",
      " - 0s - loss: 0.0243 - acc: 0.9891\n",
      "Epoch 278/1000\n",
      " - 0s - loss: 0.0242 - acc: 0.9887\n",
      "Epoch 279/1000\n",
      " - 0s - loss: 0.0241 - acc: 0.9889\n",
      "Epoch 280/1000\n",
      " - 0s - loss: 0.0241 - acc: 0.9891\n",
      "Epoch 281/1000\n",
      " - 0s - loss: 0.0241 - acc: 0.9895\n",
      "Epoch 282/1000\n",
      " - 0s - loss: 0.0244 - acc: 0.9891\n",
      "Epoch 283/1000\n",
      " - 0s - loss: 0.0241 - acc: 0.9889\n",
      "Epoch 284/1000\n",
      " - 0s - loss: 0.0242 - acc: 0.9889\n",
      "Epoch 285/1000\n",
      " - 0s - loss: 0.0241 - acc: 0.9892\n",
      "Epoch 286/1000\n",
      " - 0s - loss: 0.0241 - acc: 0.9887\n",
      "Epoch 287/1000\n",
      " - 0s - loss: 0.0242 - acc: 0.9894\n",
      "Epoch 288/1000\n",
      " - 0s - loss: 0.0241 - acc: 0.9892\n",
      "Epoch 289/1000\n",
      " - 0s - loss: 0.0241 - acc: 0.9892\n",
      "Epoch 290/1000\n",
      " - 0s - loss: 0.0242 - acc: 0.9894\n",
      "Epoch 291/1000\n",
      " - 0s - loss: 0.0241 - acc: 0.9891\n",
      "Epoch 292/1000\n",
      " - 0s - loss: 0.0241 - acc: 0.9892\n",
      "Epoch 293/1000\n",
      " - 0s - loss: 0.0241 - acc: 0.9892\n",
      "Epoch 294/1000\n",
      " - 0s - loss: 0.0242 - acc: 0.9889\n",
      "Epoch 295/1000\n",
      " - 0s - loss: 0.0241 - acc: 0.9892\n",
      "Epoch 296/1000\n",
      " - 0s - loss: 0.0241 - acc: 0.9891\n",
      "Epoch 297/1000\n",
      " - 0s - loss: 0.0241 - acc: 0.9892\n",
      "Epoch 298/1000\n",
      " - 0s - loss: 0.0241 - acc: 0.9892\n",
      "Epoch 299/1000\n",
      " - 0s - loss: 0.0242 - acc: 0.9889\n",
      "Epoch 300/1000\n",
      " - 0s - loss: 0.0240 - acc: 0.9894\n",
      "Epoch 301/1000\n",
      " - 0s - loss: 0.0242 - acc: 0.9891\n",
      "Epoch 302/1000\n",
      " - 0s - loss: 0.0241 - acc: 0.9891\n",
      "Epoch 303/1000\n",
      " - 0s - loss: 0.0240 - acc: 0.9892\n",
      "Epoch 304/1000\n",
      " - 0s - loss: 0.0241 - acc: 0.9891\n",
      "Epoch 305/1000\n",
      " - 0s - loss: 0.0241 - acc: 0.9892\n",
      "Epoch 306/1000\n",
      " - 0s - loss: 0.0242 - acc: 0.9886\n",
      "Epoch 307/1000\n",
      " - 0s - loss: 0.0241 - acc: 0.9894\n",
      "Epoch 308/1000\n",
      " - 0s - loss: 0.0240 - acc: 0.9892\n",
      "Epoch 309/1000\n",
      " - 0s - loss: 0.0241 - acc: 0.9892\n",
      "Epoch 310/1000\n",
      " - 0s - loss: 0.0240 - acc: 0.9895\n",
      "Epoch 311/1000\n",
      " - 0s - loss: 0.0241 - acc: 0.9892\n",
      "Epoch 312/1000\n",
      " - 0s - loss: 0.0240 - acc: 0.9892\n",
      "Epoch 313/1000\n",
      " - 0s - loss: 0.0241 - acc: 0.9894\n",
      "Epoch 314/1000\n",
      " - 0s - loss: 0.0241 - acc: 0.9892\n",
      "Epoch 315/1000\n",
      " - 0s - loss: 0.0241 - acc: 0.9891\n",
      "Epoch 316/1000\n",
      " - 0s - loss: 0.0241 - acc: 0.9895\n",
      "Epoch 317/1000\n",
      " - 0s - loss: 0.0241 - acc: 0.9889\n",
      "Epoch 318/1000\n",
      " - 0s - loss: 0.0241 - acc: 0.9892\n",
      "Epoch 319/1000\n",
      " - 0s - loss: 0.0241 - acc: 0.9892\n",
      "Epoch 320/1000\n",
      " - 0s - loss: 0.0241 - acc: 0.9889\n",
      "Epoch 321/1000\n",
      " - 0s - loss: 0.0241 - acc: 0.9891\n",
      "Epoch 322/1000\n",
      " - 0s - loss: 0.0240 - acc: 0.9889\n",
      "Epoch 323/1000\n",
      " - 0s - loss: 0.0240 - acc: 0.9892\n",
      "Epoch 324/1000\n",
      " - 0s - loss: 0.0240 - acc: 0.9892\n",
      "Epoch 325/1000\n",
      " - 0s - loss: 0.0241 - acc: 0.9891\n",
      "Epoch 326/1000\n",
      " - 0s - loss: 0.0240 - acc: 0.9891\n",
      "Epoch 327/1000\n",
      " - 0s - loss: 0.0240 - acc: 0.9892\n",
      "Epoch 328/1000\n",
      " - 0s - loss: 0.0241 - acc: 0.9894\n",
      "Epoch 329/1000\n",
      " - 0s - loss: 0.0240 - acc: 0.9892\n",
      "Epoch 330/1000\n",
      " - 0s - loss: 0.0240 - acc: 0.9892\n",
      "Epoch 331/1000\n"
     ]
    },
    {
     "name": "stdout",
     "output_type": "stream",
     "text": [
      " - 0s - loss: 0.0241 - acc: 0.9891\n",
      "Epoch 332/1000\n",
      " - 0s - loss: 0.0240 - acc: 0.9891\n",
      "Epoch 333/1000\n",
      " - 0s - loss: 0.0241 - acc: 0.9894\n",
      "Epoch 334/1000\n",
      " - 0s - loss: 0.0240 - acc: 0.9887\n",
      "Epoch 335/1000\n",
      " - 0s - loss: 0.0242 - acc: 0.9887\n",
      "Epoch 336/1000\n",
      " - 0s - loss: 0.0241 - acc: 0.9892\n",
      "Epoch 337/1000\n",
      " - 0s - loss: 0.0239 - acc: 0.9891\n",
      "Epoch 338/1000\n",
      " - 0s - loss: 0.0240 - acc: 0.9891\n",
      "Epoch 339/1000\n",
      " - 0s - loss: 0.0240 - acc: 0.9891\n",
      "Epoch 340/1000\n",
      " - 0s - loss: 0.0240 - acc: 0.9892\n",
      "Epoch 341/1000\n",
      " - 0s - loss: 0.0240 - acc: 0.9894\n",
      "Epoch 342/1000\n",
      " - 0s - loss: 0.0240 - acc: 0.9887\n",
      "Epoch 343/1000\n",
      " - 0s - loss: 0.0240 - acc: 0.9894\n",
      "Epoch 344/1000\n",
      " - 0s - loss: 0.0240 - acc: 0.9891\n",
      "Epoch 345/1000\n",
      " - 0s - loss: 0.0241 - acc: 0.9894\n",
      "Epoch 346/1000\n",
      " - 0s - loss: 0.0240 - acc: 0.9892\n",
      "Epoch 347/1000\n",
      " - 0s - loss: 0.0240 - acc: 0.9891\n",
      "Epoch 348/1000\n",
      " - 0s - loss: 0.0240 - acc: 0.9889\n",
      "Epoch 349/1000\n",
      " - 0s - loss: 0.0240 - acc: 0.9891\n",
      "Epoch 350/1000\n",
      " - 0s - loss: 0.0240 - acc: 0.9889\n",
      "Epoch 351/1000\n",
      " - 0s - loss: 0.0239 - acc: 0.9889\n",
      "Epoch 352/1000\n",
      " - 0s - loss: 0.0240 - acc: 0.9892\n",
      "Epoch 353/1000\n",
      " - 0s - loss: 0.0240 - acc: 0.9889\n",
      "Epoch 354/1000\n",
      " - 0s - loss: 0.0239 - acc: 0.9895\n",
      "Epoch 355/1000\n",
      " - 0s - loss: 0.0240 - acc: 0.9894\n",
      "Epoch 356/1000\n",
      " - 0s - loss: 0.0239 - acc: 0.9891\n",
      "Epoch 357/1000\n",
      " - 0s - loss: 0.0240 - acc: 0.9891\n",
      "Epoch 358/1000\n",
      " - 0s - loss: 0.0240 - acc: 0.9891\n",
      "Epoch 359/1000\n",
      " - 0s - loss: 0.0240 - acc: 0.9889\n",
      "Epoch 360/1000\n",
      " - 0s - loss: 0.0240 - acc: 0.9891\n",
      "Epoch 361/1000\n",
      " - 0s - loss: 0.0240 - acc: 0.9892\n",
      "Epoch 362/1000\n",
      " - 0s - loss: 0.0240 - acc: 0.9891\n",
      "Epoch 363/1000\n",
      " - 0s - loss: 0.0240 - acc: 0.9889\n",
      "Epoch 364/1000\n",
      " - 0s - loss: 0.0239 - acc: 0.9889\n",
      "Epoch 365/1000\n",
      " - 0s - loss: 0.0239 - acc: 0.9891\n",
      "Epoch 366/1000\n",
      " - 0s - loss: 0.0241 - acc: 0.9897\n",
      "Epoch 367/1000\n",
      " - 0s - loss: 0.0240 - acc: 0.9894\n",
      "Epoch 368/1000\n",
      " - 0s - loss: 0.0240 - acc: 0.9892\n",
      "Epoch 369/1000\n",
      " - 0s - loss: 0.0239 - acc: 0.9891\n",
      "Epoch 370/1000\n",
      " - 0s - loss: 0.0240 - acc: 0.9892\n",
      "Epoch 371/1000\n",
      " - 0s - loss: 0.0239 - acc: 0.9894\n",
      "Epoch 372/1000\n",
      " - 0s - loss: 0.0240 - acc: 0.9889\n",
      "Epoch 373/1000\n",
      " - 0s - loss: 0.0240 - acc: 0.9889\n",
      "Epoch 374/1000\n",
      " - 0s - loss: 0.0240 - acc: 0.9889\n",
      "Epoch 375/1000\n",
      " - 0s - loss: 0.0239 - acc: 0.9892\n",
      "Epoch 376/1000\n",
      " - 0s - loss: 0.0240 - acc: 0.9892\n",
      "Epoch 377/1000\n",
      " - 0s - loss: 0.0240 - acc: 0.9891\n",
      "Epoch 378/1000\n",
      " - 0s - loss: 0.0239 - acc: 0.9889\n",
      "Epoch 379/1000\n",
      " - 0s - loss: 0.0239 - acc: 0.9894\n",
      "Epoch 380/1000\n",
      " - 0s - loss: 0.0239 - acc: 0.9891\n",
      "Epoch 381/1000\n",
      " - 0s - loss: 0.0239 - acc: 0.9887\n",
      "Epoch 382/1000\n",
      " - 0s - loss: 0.0239 - acc: 0.9889\n",
      "Epoch 383/1000\n",
      " - 0s - loss: 0.0239 - acc: 0.9894\n",
      "Epoch 384/1000\n",
      " - 0s - loss: 0.0238 - acc: 0.9894\n",
      "Epoch 385/1000\n",
      " - 0s - loss: 0.0239 - acc: 0.9891\n",
      "Epoch 386/1000\n",
      " - 0s - loss: 0.0239 - acc: 0.9891\n",
      "Epoch 387/1000\n",
      " - 0s - loss: 0.0239 - acc: 0.9891\n",
      "Epoch 388/1000\n",
      " - 0s - loss: 0.0240 - acc: 0.9892\n",
      "Epoch 389/1000\n",
      " - 0s - loss: 0.0238 - acc: 0.9894\n",
      "Epoch 390/1000\n",
      " - 0s - loss: 0.0240 - acc: 0.9891\n",
      "Epoch 391/1000\n",
      " - 0s - loss: 0.0239 - acc: 0.9889\n",
      "Epoch 392/1000\n",
      " - 0s - loss: 0.0238 - acc: 0.9891\n",
      "Epoch 393/1000\n",
      " - 0s - loss: 0.0239 - acc: 0.9892\n",
      "Epoch 394/1000\n",
      " - 0s - loss: 0.0240 - acc: 0.9892\n",
      "Epoch 395/1000\n",
      " - 0s - loss: 0.0239 - acc: 0.9892\n",
      "Epoch 396/1000\n",
      " - 0s - loss: 0.0239 - acc: 0.9889\n",
      "Epoch 397/1000\n",
      " - 0s - loss: 0.0239 - acc: 0.9891\n",
      "Epoch 398/1000\n",
      " - 0s - loss: 0.0239 - acc: 0.9892\n",
      "Epoch 399/1000\n",
      " - 0s - loss: 0.0239 - acc: 0.9894\n",
      "Epoch 400/1000\n",
      " - 0s - loss: 0.0239 - acc: 0.9889\n",
      "Epoch 401/1000\n",
      " - 0s - loss: 0.0239 - acc: 0.9891\n",
      "Epoch 402/1000\n",
      " - 0s - loss: 0.0239 - acc: 0.9894\n",
      "Epoch 403/1000\n",
      " - 0s - loss: 0.0239 - acc: 0.9891\n",
      "Epoch 404/1000\n",
      " - 0s - loss: 0.0239 - acc: 0.9891\n",
      "Epoch 405/1000\n",
      " - 0s - loss: 0.0239 - acc: 0.9892\n",
      "Epoch 406/1000\n",
      " - 0s - loss: 0.0238 - acc: 0.9892\n",
      "Epoch 407/1000\n",
      " - 0s - loss: 0.0239 - acc: 0.9894\n",
      "Epoch 408/1000\n",
      " - 0s - loss: 0.0238 - acc: 0.9894\n",
      "Epoch 409/1000\n",
      " - 0s - loss: 0.0239 - acc: 0.9892\n",
      "Epoch 410/1000\n",
      " - 0s - loss: 0.0239 - acc: 0.9891\n",
      "Epoch 411/1000\n",
      " - 0s - loss: 0.0239 - acc: 0.9891\n",
      "Epoch 412/1000\n",
      " - 0s - loss: 0.0239 - acc: 0.9892\n",
      "Epoch 413/1000\n",
      " - 0s - loss: 0.0239 - acc: 0.9894\n",
      "Epoch 414/1000\n",
      " - 0s - loss: 0.0239 - acc: 0.9891\n",
      "Epoch 415/1000\n",
      " - 0s - loss: 0.0238 - acc: 0.9895\n",
      "Epoch 416/1000\n",
      " - 0s - loss: 0.0241 - acc: 0.9887\n",
      "Epoch 417/1000\n",
      " - 0s - loss: 0.0239 - acc: 0.9889\n",
      "Epoch 418/1000\n",
      " - 0s - loss: 0.0238 - acc: 0.9887\n",
      "Epoch 419/1000\n",
      " - 0s - loss: 0.0238 - acc: 0.9889\n",
      "Epoch 420/1000\n",
      " - 0s - loss: 0.0239 - acc: 0.9895\n",
      "Epoch 421/1000\n",
      " - 0s - loss: 0.0239 - acc: 0.9892\n",
      "Epoch 422/1000\n",
      " - 0s - loss: 0.0239 - acc: 0.9892\n",
      "Epoch 423/1000\n",
      " - 0s - loss: 0.0238 - acc: 0.9897\n",
      "Epoch 424/1000\n",
      " - 0s - loss: 0.0239 - acc: 0.9889\n",
      "Epoch 425/1000\n",
      " - 0s - loss: 0.0238 - acc: 0.9891\n",
      "Epoch 426/1000\n",
      " - 0s - loss: 0.0238 - acc: 0.9891\n",
      "Epoch 427/1000\n",
      " - 0s - loss: 0.0238 - acc: 0.9891\n",
      "Epoch 428/1000\n",
      " - 0s - loss: 0.0238 - acc: 0.9892\n",
      "Epoch 429/1000\n",
      " - 0s - loss: 0.0238 - acc: 0.9891\n",
      "Epoch 430/1000\n",
      " - 0s - loss: 0.0238 - acc: 0.9892\n",
      "Epoch 431/1000\n",
      " - 0s - loss: 0.0238 - acc: 0.9891\n",
      "Epoch 432/1000\n",
      " - 0s - loss: 0.0239 - acc: 0.9892\n",
      "Epoch 433/1000\n",
      " - 0s - loss: 0.0238 - acc: 0.9891\n",
      "Epoch 434/1000\n",
      " - 0s - loss: 0.0239 - acc: 0.9889\n",
      "Epoch 435/1000\n",
      " - 0s - loss: 0.0239 - acc: 0.9894\n",
      "Epoch 436/1000\n",
      " - 0s - loss: 0.0238 - acc: 0.9889\n",
      "Epoch 437/1000\n",
      " - 0s - loss: 0.0238 - acc: 0.9892\n",
      "Epoch 438/1000\n",
      " - 0s - loss: 0.0239 - acc: 0.9891\n",
      "Epoch 439/1000\n",
      " - 0s - loss: 0.0238 - acc: 0.9891\n",
      "Epoch 440/1000\n",
      " - 0s - loss: 0.0238 - acc: 0.9891\n",
      "Epoch 441/1000\n",
      " - 0s - loss: 0.0238 - acc: 0.9891\n",
      "Epoch 442/1000\n",
      " - 0s - loss: 0.0238 - acc: 0.9891\n",
      "Epoch 443/1000\n",
      " - 0s - loss: 0.0238 - acc: 0.9889\n",
      "Epoch 444/1000\n",
      " - 0s - loss: 0.0239 - acc: 0.9891\n",
      "Epoch 445/1000\n",
      " - 0s - loss: 0.0238 - acc: 0.9889\n",
      "Epoch 446/1000\n",
      " - 0s - loss: 0.0238 - acc: 0.9894\n",
      "Epoch 447/1000\n",
      " - 0s - loss: 0.0238 - acc: 0.9895\n",
      "Epoch 448/1000\n",
      " - 0s - loss: 0.0238 - acc: 0.9894\n",
      "Epoch 449/1000\n",
      " - 0s - loss: 0.0238 - acc: 0.9889\n",
      "Epoch 450/1000\n",
      " - 0s - loss: 0.0238 - acc: 0.9894\n",
      "Epoch 451/1000\n",
      " - 0s - loss: 0.0239 - acc: 0.9892\n",
      "Epoch 452/1000\n",
      " - 0s - loss: 0.0238 - acc: 0.9892\n",
      "Epoch 453/1000\n",
      " - 0s - loss: 0.0238 - acc: 0.9895\n",
      "Epoch 454/1000\n",
      " - 0s - loss: 0.0238 - acc: 0.9891\n",
      "Epoch 455/1000\n",
      " - 0s - loss: 0.0238 - acc: 0.9892\n",
      "Epoch 456/1000\n",
      " - 0s - loss: 0.0238 - acc: 0.9889\n",
      "Epoch 457/1000\n",
      " - 0s - loss: 0.0238 - acc: 0.9894\n",
      "Epoch 458/1000\n",
      " - 0s - loss: 0.0238 - acc: 0.9892\n",
      "Epoch 459/1000\n",
      " - 0s - loss: 0.0238 - acc: 0.9895\n",
      "Epoch 460/1000\n",
      " - 0s - loss: 0.0239 - acc: 0.9889\n",
      "Epoch 461/1000\n",
      " - 0s - loss: 0.0238 - acc: 0.9892\n",
      "Epoch 462/1000\n",
      " - 0s - loss: 0.0238 - acc: 0.9891\n",
      "Epoch 463/1000\n",
      " - 0s - loss: 0.0238 - acc: 0.9892\n",
      "Epoch 464/1000\n",
      " - 0s - loss: 0.0238 - acc: 0.9891\n",
      "Epoch 465/1000\n",
      " - 0s - loss: 0.0238 - acc: 0.9891\n",
      "Epoch 466/1000\n",
      " - 0s - loss: 0.0238 - acc: 0.9894\n",
      "Epoch 467/1000\n",
      " - 0s - loss: 0.0238 - acc: 0.9891\n",
      "Epoch 468/1000\n",
      " - 0s - loss: 0.0238 - acc: 0.9887\n",
      "Epoch 469/1000\n",
      " - 0s - loss: 0.0238 - acc: 0.9889\n",
      "Epoch 470/1000\n",
      " - 0s - loss: 0.0238 - acc: 0.9887\n",
      "Epoch 471/1000\n",
      " - 0s - loss: 0.0238 - acc: 0.9894\n",
      "Epoch 472/1000\n",
      " - 0s - loss: 0.0238 - acc: 0.9891\n",
      "Epoch 473/1000\n",
      " - 0s - loss: 0.0237 - acc: 0.9889\n",
      "Epoch 474/1000\n",
      " - 0s - loss: 0.0237 - acc: 0.9895\n",
      "Epoch 475/1000\n",
      " - 0s - loss: 0.0238 - acc: 0.9892\n",
      "Epoch 476/1000\n",
      " - 0s - loss: 0.0239 - acc: 0.9889\n",
      "Epoch 477/1000\n",
      " - 0s - loss: 0.0238 - acc: 0.9886\n",
      "Epoch 478/1000\n",
      " - 0s - loss: 0.0238 - acc: 0.9889\n",
      "Epoch 479/1000\n",
      " - 0s - loss: 0.0238 - acc: 0.9895\n",
      "Epoch 480/1000\n",
      " - 0s - loss: 0.0238 - acc: 0.9892\n",
      "Epoch 481/1000\n",
      " - 0s - loss: 0.0238 - acc: 0.9891\n",
      "Epoch 482/1000\n",
      " - 0s - loss: 0.0238 - acc: 0.9891\n",
      "Epoch 483/1000\n",
      " - 0s - loss: 0.0239 - acc: 0.9889\n",
      "Epoch 484/1000\n",
      " - 0s - loss: 0.0239 - acc: 0.9889\n",
      "Epoch 485/1000\n",
      " - 0s - loss: 0.0237 - acc: 0.9889\n",
      "Epoch 486/1000\n",
      " - 0s - loss: 0.0238 - acc: 0.9889\n",
      "Epoch 487/1000\n",
      " - 0s - loss: 0.0238 - acc: 0.9889\n",
      "Epoch 488/1000\n",
      " - 0s - loss: 0.0238 - acc: 0.9891\n",
      "Epoch 489/1000\n",
      " - 0s - loss: 0.0237 - acc: 0.9891\n",
      "Epoch 490/1000\n",
      " - 0s - loss: 0.0238 - acc: 0.9891\n",
      "Epoch 491/1000\n",
      " - 0s - loss: 0.0238 - acc: 0.9892\n",
      "Epoch 492/1000\n",
      " - 0s - loss: 0.0239 - acc: 0.9894\n",
      "Epoch 493/1000\n",
      " - 0s - loss: 0.0238 - acc: 0.9891\n",
      "Epoch 494/1000\n",
      " - 0s - loss: 0.0237 - acc: 0.9891\n",
      "Epoch 495/1000\n"
     ]
    },
    {
     "name": "stdout",
     "output_type": "stream",
     "text": [
      " - 0s - loss: 0.0237 - acc: 0.9892\n",
      "Epoch 496/1000\n",
      " - 0s - loss: 0.0238 - acc: 0.9894\n",
      "Epoch 497/1000\n",
      " - 0s - loss: 0.0237 - acc: 0.9892\n",
      "Epoch 498/1000\n",
      " - 0s - loss: 0.0238 - acc: 0.9895\n",
      "Epoch 499/1000\n",
      " - 0s - loss: 0.0236 - acc: 0.9889\n",
      "Epoch 500/1000\n",
      " - 0s - loss: 0.0237 - acc: 0.9889\n",
      "Epoch 501/1000\n",
      " - 0s - loss: 0.0237 - acc: 0.9891\n",
      "Epoch 502/1000\n",
      " - 0s - loss: 0.0237 - acc: 0.9894\n",
      "Epoch 503/1000\n",
      " - 0s - loss: 0.0237 - acc: 0.9897\n",
      "Epoch 504/1000\n",
      " - 0s - loss: 0.0237 - acc: 0.9891\n",
      "Epoch 505/1000\n",
      " - 0s - loss: 0.0238 - acc: 0.9891\n",
      "Epoch 506/1000\n",
      " - 0s - loss: 0.0237 - acc: 0.9891\n",
      "Epoch 507/1000\n",
      " - 0s - loss: 0.0237 - acc: 0.9894\n",
      "Epoch 508/1000\n",
      " - 0s - loss: 0.0237 - acc: 0.9894\n",
      "Epoch 509/1000\n",
      " - 0s - loss: 0.0237 - acc: 0.9891\n",
      "Epoch 510/1000\n",
      " - 0s - loss: 0.0238 - acc: 0.9892\n",
      "Epoch 511/1000\n",
      " - 0s - loss: 0.0238 - acc: 0.9894\n",
      "Epoch 512/1000\n",
      " - 0s - loss: 0.0238 - acc: 0.9894\n",
      "Epoch 513/1000\n",
      " - 0s - loss: 0.0238 - acc: 0.9892\n",
      "Epoch 514/1000\n",
      " - 0s - loss: 0.0238 - acc: 0.9891\n",
      "Epoch 515/1000\n",
      " - 0s - loss: 0.0237 - acc: 0.9892\n",
      "Epoch 516/1000\n",
      " - 0s - loss: 0.0238 - acc: 0.9892\n",
      "Epoch 517/1000\n",
      " - 0s - loss: 0.0237 - acc: 0.9892\n",
      "Epoch 518/1000\n",
      " - 0s - loss: 0.0237 - acc: 0.9892\n",
      "Epoch 519/1000\n",
      " - 0s - loss: 0.0237 - acc: 0.9889\n",
      "Epoch 520/1000\n",
      " - 0s - loss: 0.0237 - acc: 0.9891\n",
      "Epoch 521/1000\n",
      " - 0s - loss: 0.0237 - acc: 0.9892\n",
      "Epoch 522/1000\n",
      " - 0s - loss: 0.0237 - acc: 0.9887\n",
      "Epoch 523/1000\n",
      " - 0s - loss: 0.0237 - acc: 0.9891\n",
      "Epoch 524/1000\n",
      " - 0s - loss: 0.0237 - acc: 0.9894\n",
      "Epoch 525/1000\n",
      " - 0s - loss: 0.0237 - acc: 0.9889\n",
      "Epoch 526/1000\n",
      " - 0s - loss: 0.0237 - acc: 0.9891\n",
      "Epoch 527/1000\n",
      " - 0s - loss: 0.0237 - acc: 0.9891\n",
      "Epoch 528/1000\n",
      " - 0s - loss: 0.0237 - acc: 0.9889\n",
      "Epoch 529/1000\n",
      " - 0s - loss: 0.0237 - acc: 0.9891\n",
      "Epoch 530/1000\n",
      " - 0s - loss: 0.0237 - acc: 0.9891\n",
      "Epoch 531/1000\n",
      " - 0s - loss: 0.0237 - acc: 0.9892\n",
      "Epoch 532/1000\n",
      " - 0s - loss: 0.0237 - acc: 0.9895\n",
      "Epoch 533/1000\n",
      " - 0s - loss: 0.0237 - acc: 0.9889\n",
      "Epoch 534/1000\n",
      " - 0s - loss: 0.0237 - acc: 0.9889\n",
      "Epoch 535/1000\n",
      " - 0s - loss: 0.0238 - acc: 0.9894\n",
      "Epoch 536/1000\n",
      " - 0s - loss: 0.0237 - acc: 0.9892\n",
      "Epoch 537/1000\n",
      " - 0s - loss: 0.0237 - acc: 0.9891\n",
      "Epoch 538/1000\n",
      " - 0s - loss: 0.0238 - acc: 0.9894\n",
      "Epoch 539/1000\n",
      " - 0s - loss: 0.0236 - acc: 0.9895\n",
      "Epoch 540/1000\n",
      " - 0s - loss: 0.0237 - acc: 0.9891\n",
      "Epoch 541/1000\n",
      " - 0s - loss: 0.0237 - acc: 0.9891\n",
      "Epoch 542/1000\n",
      " - 0s - loss: 0.0237 - acc: 0.9889\n",
      "Epoch 543/1000\n",
      " - 0s - loss: 0.0238 - acc: 0.9892\n",
      "Epoch 544/1000\n",
      " - 0s - loss: 0.0237 - acc: 0.9891\n",
      "Epoch 545/1000\n",
      " - 0s - loss: 0.0237 - acc: 0.9895\n",
      "Epoch 546/1000\n",
      " - 0s - loss: 0.0237 - acc: 0.9891\n",
      "Epoch 547/1000\n",
      " - 0s - loss: 0.0237 - acc: 0.9891\n",
      "Epoch 548/1000\n",
      " - 0s - loss: 0.0237 - acc: 0.9892\n",
      "Epoch 549/1000\n",
      " - 0s - loss: 0.0236 - acc: 0.9889\n",
      "Epoch 550/1000\n",
      " - 0s - loss: 0.0238 - acc: 0.9892\n",
      "Epoch 551/1000\n",
      " - 0s - loss: 0.0237 - acc: 0.9891\n",
      "Epoch 552/1000\n",
      " - 0s - loss: 0.0237 - acc: 0.9891\n",
      "Epoch 553/1000\n",
      " - 0s - loss: 0.0237 - acc: 0.9891\n",
      "Epoch 554/1000\n",
      " - 0s - loss: 0.0237 - acc: 0.9891\n",
      "Epoch 555/1000\n",
      " - 0s - loss: 0.0237 - acc: 0.9892\n",
      "Epoch 556/1000\n",
      " - 0s - loss: 0.0237 - acc: 0.9891\n",
      "Epoch 557/1000\n",
      " - 0s - loss: 0.0236 - acc: 0.9894\n",
      "Epoch 558/1000\n",
      " - 0s - loss: 0.0237 - acc: 0.9891\n",
      "Epoch 559/1000\n",
      " - 0s - loss: 0.0237 - acc: 0.9894\n",
      "Epoch 560/1000\n",
      " - 0s - loss: 0.0237 - acc: 0.9891\n",
      "Epoch 561/1000\n",
      " - 0s - loss: 0.0236 - acc: 0.9891\n",
      "Epoch 562/1000\n",
      " - 0s - loss: 0.0236 - acc: 0.9891\n",
      "Epoch 563/1000\n",
      " - 0s - loss: 0.0237 - acc: 0.9889\n",
      "Epoch 564/1000\n",
      " - 0s - loss: 0.0237 - acc: 0.9891\n",
      "Epoch 565/1000\n",
      " - 0s - loss: 0.0237 - acc: 0.9894\n",
      "Epoch 566/1000\n",
      " - 0s - loss: 0.0237 - acc: 0.9892\n",
      "Epoch 567/1000\n",
      " - 0s - loss: 0.0237 - acc: 0.9891\n",
      "Epoch 568/1000\n",
      " - 0s - loss: 0.0237 - acc: 0.9891\n",
      "Epoch 569/1000\n",
      " - 0s - loss: 0.0237 - acc: 0.9891\n",
      "Epoch 570/1000\n",
      " - 0s - loss: 0.0236 - acc: 0.9894\n",
      "Epoch 571/1000\n",
      " - 0s - loss: 0.0237 - acc: 0.9891\n",
      "Epoch 572/1000\n",
      " - 0s - loss: 0.0236 - acc: 0.9887\n",
      "Epoch 573/1000\n",
      " - 0s - loss: 0.0237 - acc: 0.9894\n",
      "Epoch 574/1000\n",
      " - 0s - loss: 0.0237 - acc: 0.9884\n",
      "Epoch 575/1000\n",
      " - 0s - loss: 0.0237 - acc: 0.9891\n",
      "Epoch 576/1000\n",
      " - 0s - loss: 0.0236 - acc: 0.9892\n",
      "Epoch 577/1000\n",
      " - 0s - loss: 0.0236 - acc: 0.9892\n",
      "Epoch 578/1000\n",
      " - 0s - loss: 0.0236 - acc: 0.9889\n",
      "Epoch 579/1000\n",
      " - 0s - loss: 0.0237 - acc: 0.9892\n",
      "Epoch 580/1000\n",
      " - 0s - loss: 0.0237 - acc: 0.9891\n",
      "Epoch 581/1000\n",
      " - 0s - loss: 0.0236 - acc: 0.9891\n",
      "Epoch 582/1000\n",
      " - 0s - loss: 0.0236 - acc: 0.9891\n",
      "Epoch 583/1000\n",
      " - 0s - loss: 0.0236 - acc: 0.9892\n",
      "Epoch 584/1000\n",
      " - 0s - loss: 0.0237 - acc: 0.9889\n",
      "Epoch 585/1000\n",
      " - 0s - loss: 0.0237 - acc: 0.9889\n",
      "Epoch 586/1000\n",
      " - 0s - loss: 0.0237 - acc: 0.9895\n",
      "Epoch 587/1000\n",
      " - 0s - loss: 0.0237 - acc: 0.9897\n",
      "Epoch 588/1000\n",
      " - 0s - loss: 0.0236 - acc: 0.9891\n",
      "Epoch 589/1000\n",
      " - 0s - loss: 0.0237 - acc: 0.9889\n",
      "Epoch 590/1000\n",
      " - 0s - loss: 0.0237 - acc: 0.9891\n",
      "Epoch 591/1000\n",
      " - 0s - loss: 0.0236 - acc: 0.9892\n",
      "Epoch 592/1000\n",
      " - 0s - loss: 0.0237 - acc: 0.9892\n",
      "Epoch 593/1000\n",
      " - 0s - loss: 0.0236 - acc: 0.9891\n",
      "Epoch 594/1000\n",
      " - 0s - loss: 0.0237 - acc: 0.9892\n",
      "Epoch 595/1000\n",
      " - 0s - loss: 0.0236 - acc: 0.9895\n",
      "Epoch 596/1000\n",
      " - 0s - loss: 0.0236 - acc: 0.9892\n",
      "Epoch 597/1000\n",
      " - 0s - loss: 0.0237 - acc: 0.9891\n",
      "Epoch 598/1000\n",
      " - 0s - loss: 0.0236 - acc: 0.9891\n",
      "Epoch 599/1000\n",
      " - 0s - loss: 0.0237 - acc: 0.9891\n",
      "Epoch 600/1000\n",
      " - 0s - loss: 0.0236 - acc: 0.9889\n",
      "Epoch 601/1000\n",
      " - 0s - loss: 0.0237 - acc: 0.9894\n",
      "Epoch 602/1000\n",
      " - 0s - loss: 0.0237 - acc: 0.9887\n",
      "Epoch 603/1000\n",
      " - 0s - loss: 0.0236 - acc: 0.9891\n",
      "Epoch 604/1000\n",
      " - 0s - loss: 0.0237 - acc: 0.9889\n",
      "Epoch 605/1000\n",
      " - 0s - loss: 0.0237 - acc: 0.9894\n",
      "Epoch 606/1000\n",
      " - 0s - loss: 0.0236 - acc: 0.9887\n",
      "Epoch 607/1000\n",
      " - 0s - loss: 0.0237 - acc: 0.9891\n",
      "Epoch 608/1000\n",
      " - 0s - loss: 0.0236 - acc: 0.9891\n",
      "Epoch 609/1000\n",
      " - 0s - loss: 0.0237 - acc: 0.9892\n",
      "Epoch 610/1000\n",
      " - 0s - loss: 0.0236 - acc: 0.9892\n",
      "Epoch 611/1000\n",
      " - 0s - loss: 0.0236 - acc: 0.9889\n",
      "Epoch 612/1000\n",
      " - 0s - loss: 0.0236 - acc: 0.9892\n",
      "Epoch 613/1000\n",
      " - 0s - loss: 0.0236 - acc: 0.9889\n",
      "Epoch 614/1000\n",
      " - 0s - loss: 0.0237 - acc: 0.9891\n",
      "Epoch 615/1000\n",
      " - 0s - loss: 0.0236 - acc: 0.9892\n",
      "Epoch 616/1000\n",
      " - 0s - loss: 0.0236 - acc: 0.9892\n",
      "Epoch 617/1000\n",
      " - 0s - loss: 0.0236 - acc: 0.9891\n",
      "Epoch 618/1000\n",
      " - 0s - loss: 0.0236 - acc: 0.9889\n",
      "Epoch 619/1000\n",
      " - 0s - loss: 0.0237 - acc: 0.9892\n",
      "Epoch 620/1000\n",
      " - 0s - loss: 0.0237 - acc: 0.9894\n",
      "Epoch 621/1000\n",
      " - 0s - loss: 0.0236 - acc: 0.9891\n",
      "Epoch 622/1000\n",
      " - 0s - loss: 0.0236 - acc: 0.9894\n",
      "Epoch 623/1000\n",
      " - 0s - loss: 0.0236 - acc: 0.9889\n",
      "Epoch 624/1000\n",
      " - 0s - loss: 0.0236 - acc: 0.9895\n",
      "Epoch 625/1000\n",
      " - 0s - loss: 0.0236 - acc: 0.9895\n",
      "Epoch 626/1000\n",
      " - 0s - loss: 0.0237 - acc: 0.9894\n",
      "Epoch 627/1000\n",
      " - 0s - loss: 0.0236 - acc: 0.9892\n",
      "Epoch 628/1000\n",
      " - 0s - loss: 0.0236 - acc: 0.9892\n",
      "Epoch 629/1000\n",
      " - 0s - loss: 0.0236 - acc: 0.9887\n",
      "Epoch 630/1000\n",
      " - 0s - loss: 0.0236 - acc: 0.9889\n",
      "Epoch 631/1000\n",
      " - 0s - loss: 0.0236 - acc: 0.9891\n",
      "Epoch 632/1000\n",
      " - 0s - loss: 0.0237 - acc: 0.9891\n",
      "Epoch 633/1000\n",
      " - 0s - loss: 0.0236 - acc: 0.9891\n",
      "Epoch 634/1000\n",
      " - 0s - loss: 0.0236 - acc: 0.9889\n",
      "Epoch 635/1000\n",
      " - 0s - loss: 0.0236 - acc: 0.9889\n",
      "Epoch 636/1000\n",
      " - 0s - loss: 0.0236 - acc: 0.9895\n",
      "Epoch 637/1000\n",
      " - 0s - loss: 0.0236 - acc: 0.9889\n",
      "Epoch 638/1000\n",
      " - 0s - loss: 0.0237 - acc: 0.9895\n",
      "Epoch 639/1000\n",
      " - 0s - loss: 0.0237 - acc: 0.9891\n",
      "Epoch 640/1000\n",
      " - 0s - loss: 0.0236 - acc: 0.9891\n",
      "Epoch 641/1000\n",
      " - 0s - loss: 0.0236 - acc: 0.9894\n",
      "Epoch 642/1000\n",
      " - 0s - loss: 0.0236 - acc: 0.9894\n",
      "Epoch 643/1000\n",
      " - 0s - loss: 0.0236 - acc: 0.9891\n",
      "Epoch 644/1000\n",
      " - 0s - loss: 0.0236 - acc: 0.9895\n",
      "Epoch 645/1000\n",
      " - 0s - loss: 0.0236 - acc: 0.9894\n",
      "Epoch 646/1000\n",
      " - 0s - loss: 0.0236 - acc: 0.9892\n",
      "Epoch 647/1000\n",
      " - 0s - loss: 0.0236 - acc: 0.9895\n",
      "Epoch 648/1000\n",
      " - 0s - loss: 0.0236 - acc: 0.9895\n",
      "Epoch 649/1000\n",
      " - 0s - loss: 0.0237 - acc: 0.9889\n",
      "Epoch 650/1000\n",
      " - 0s - loss: 0.0236 - acc: 0.9894\n",
      "Epoch 651/1000\n",
      " - 0s - loss: 0.0236 - acc: 0.9892\n",
      "Epoch 652/1000\n",
      " - 0s - loss: 0.0237 - acc: 0.9891\n",
      "Epoch 653/1000\n",
      " - 0s - loss: 0.0236 - acc: 0.9891\n",
      "Epoch 654/1000\n",
      " - 0s - loss: 0.0236 - acc: 0.9889\n",
      "Epoch 655/1000\n",
      " - 0s - loss: 0.0236 - acc: 0.9891\n",
      "Epoch 656/1000\n",
      " - 0s - loss: 0.0236 - acc: 0.9897\n",
      "Epoch 657/1000\n",
      " - 0s - loss: 0.0236 - acc: 0.9895\n",
      "Epoch 658/1000\n",
      " - 0s - loss: 0.0236 - acc: 0.9892\n",
      "Epoch 659/1000\n"
     ]
    },
    {
     "name": "stdout",
     "output_type": "stream",
     "text": [
      " - 0s - loss: 0.0236 - acc: 0.9891\n",
      "Epoch 660/1000\n",
      " - 0s - loss: 0.0236 - acc: 0.9892\n",
      "Epoch 661/1000\n",
      " - 0s - loss: 0.0236 - acc: 0.9891\n",
      "Epoch 662/1000\n",
      " - 0s - loss: 0.0236 - acc: 0.9899\n",
      "Epoch 663/1000\n",
      " - 0s - loss: 0.0236 - acc: 0.9891\n",
      "Epoch 664/1000\n",
      " - 0s - loss: 0.0236 - acc: 0.9894\n",
      "Epoch 665/1000\n",
      " - 0s - loss: 0.0237 - acc: 0.9891\n",
      "Epoch 666/1000\n",
      " - 0s - loss: 0.0236 - acc: 0.9891\n",
      "Epoch 667/1000\n",
      " - 0s - loss: 0.0236 - acc: 0.9894\n",
      "Epoch 668/1000\n",
      " - 0s - loss: 0.0235 - acc: 0.9891\n",
      "Epoch 669/1000\n",
      " - 0s - loss: 0.0236 - acc: 0.9894\n",
      "Epoch 670/1000\n",
      " - 0s - loss: 0.0236 - acc: 0.9889\n",
      "Epoch 671/1000\n",
      " - 0s - loss: 0.0238 - acc: 0.9889\n",
      "Epoch 672/1000\n",
      " - 0s - loss: 0.0235 - acc: 0.9891\n",
      "Epoch 673/1000\n",
      " - 0s - loss: 0.0236 - acc: 0.9887\n",
      "Epoch 674/1000\n",
      " - 0s - loss: 0.0235 - acc: 0.9889\n",
      "Epoch 675/1000\n",
      " - 0s - loss: 0.0236 - acc: 0.9887\n",
      "Epoch 676/1000\n",
      " - 0s - loss: 0.0236 - acc: 0.9891\n",
      "Epoch 677/1000\n",
      " - 0s - loss: 0.0236 - acc: 0.9889\n",
      "Epoch 678/1000\n",
      " - 0s - loss: 0.0236 - acc: 0.9894\n",
      "Epoch 679/1000\n",
      " - 0s - loss: 0.0236 - acc: 0.9892\n",
      "Epoch 680/1000\n",
      " - 0s - loss: 0.0236 - acc: 0.9891\n",
      "Epoch 681/1000\n",
      " - 0s - loss: 0.0235 - acc: 0.9892\n",
      "Epoch 682/1000\n",
      " - 0s - loss: 0.0236 - acc: 0.9894\n",
      "Epoch 683/1000\n",
      " - 0s - loss: 0.0236 - acc: 0.9892\n",
      "Epoch 684/1000\n",
      " - 0s - loss: 0.0236 - acc: 0.9889\n",
      "Epoch 685/1000\n",
      " - 0s - loss: 0.0236 - acc: 0.9894\n",
      "Epoch 686/1000\n",
      " - 0s - loss: 0.0236 - acc: 0.9892\n",
      "Epoch 687/1000\n",
      " - 0s - loss: 0.0235 - acc: 0.9891\n",
      "Epoch 688/1000\n",
      " - 0s - loss: 0.0236 - acc: 0.9889\n",
      "Epoch 689/1000\n",
      " - 0s - loss: 0.0236 - acc: 0.9891\n",
      "Epoch 690/1000\n",
      " - 0s - loss: 0.0236 - acc: 0.9894\n",
      "Epoch 691/1000\n",
      " - 0s - loss: 0.0236 - acc: 0.9891\n",
      "Epoch 692/1000\n",
      " - 0s - loss: 0.0235 - acc: 0.9894\n",
      "Epoch 693/1000\n",
      " - 0s - loss: 0.0236 - acc: 0.9891\n",
      "Epoch 694/1000\n",
      " - 0s - loss: 0.0236 - acc: 0.9891\n",
      "Epoch 695/1000\n",
      " - 0s - loss: 0.0236 - acc: 0.9891\n",
      "Epoch 696/1000\n",
      " - 0s - loss: 0.0236 - acc: 0.9894\n",
      "Epoch 697/1000\n",
      " - 0s - loss: 0.0236 - acc: 0.9894\n",
      "Epoch 698/1000\n",
      " - 0s - loss: 0.0236 - acc: 0.9891\n",
      "Epoch 699/1000\n",
      " - 0s - loss: 0.0235 - acc: 0.9894\n",
      "Epoch 700/1000\n",
      " - 0s - loss: 0.0236 - acc: 0.9891\n",
      "Epoch 701/1000\n",
      " - 0s - loss: 0.0235 - acc: 0.9891\n",
      "Epoch 702/1000\n",
      " - 0s - loss: 0.0235 - acc: 0.9892\n",
      "Epoch 703/1000\n",
      " - 0s - loss: 0.0235 - acc: 0.9894\n",
      "Epoch 704/1000\n",
      " - 0s - loss: 0.0235 - acc: 0.9894\n",
      "Epoch 705/1000\n",
      " - 0s - loss: 0.0235 - acc: 0.9894\n",
      "Epoch 706/1000\n",
      " - 0s - loss: 0.0235 - acc: 0.9889\n",
      "Epoch 707/1000\n",
      " - 0s - loss: 0.0236 - acc: 0.9894\n",
      "Epoch 708/1000\n",
      " - 0s - loss: 0.0236 - acc: 0.9891\n",
      "Epoch 709/1000\n",
      " - 0s - loss: 0.0235 - acc: 0.9891\n",
      "Epoch 710/1000\n",
      " - 0s - loss: 0.0236 - acc: 0.9887\n",
      "Epoch 711/1000\n",
      " - 0s - loss: 0.0235 - acc: 0.9892\n",
      "Epoch 712/1000\n",
      " - 0s - loss: 0.0236 - acc: 0.9891\n",
      "Epoch 713/1000\n",
      " - 0s - loss: 0.0236 - acc: 0.9894\n",
      "Epoch 714/1000\n",
      " - 0s - loss: 0.0236 - acc: 0.9892\n",
      "Epoch 715/1000\n",
      " - 0s - loss: 0.0236 - acc: 0.9891\n",
      "Epoch 716/1000\n",
      " - 0s - loss: 0.0235 - acc: 0.9889\n",
      "Epoch 717/1000\n",
      " - 0s - loss: 0.0235 - acc: 0.9894\n",
      "Epoch 718/1000\n",
      " - 0s - loss: 0.0236 - acc: 0.9891\n",
      "Epoch 719/1000\n",
      " - 0s - loss: 0.0235 - acc: 0.9891\n",
      "Epoch 720/1000\n",
      " - 0s - loss: 0.0236 - acc: 0.9889\n",
      "Epoch 721/1000\n",
      " - 0s - loss: 0.0235 - acc: 0.9897\n",
      "Epoch 722/1000\n",
      " - 0s - loss: 0.0235 - acc: 0.9892\n",
      "Epoch 723/1000\n",
      " - 0s - loss: 0.0236 - acc: 0.9895\n",
      "Epoch 724/1000\n",
      " - 0s - loss: 0.0235 - acc: 0.9889\n",
      "Epoch 725/1000\n",
      " - 0s - loss: 0.0236 - acc: 0.9892\n",
      "Epoch 726/1000\n",
      " - 0s - loss: 0.0235 - acc: 0.9889\n",
      "Epoch 727/1000\n",
      " - 0s - loss: 0.0235 - acc: 0.9891\n",
      "Epoch 728/1000\n",
      " - 0s - loss: 0.0236 - acc: 0.9894\n",
      "Epoch 729/1000\n",
      " - 0s - loss: 0.0236 - acc: 0.9891\n",
      "Epoch 730/1000\n",
      " - 0s - loss: 0.0235 - acc: 0.9892\n",
      "Epoch 731/1000\n",
      " - 0s - loss: 0.0235 - acc: 0.9891\n",
      "Epoch 732/1000\n",
      " - 0s - loss: 0.0235 - acc: 0.9895\n",
      "Epoch 733/1000\n",
      " - 0s - loss: 0.0235 - acc: 0.9887\n",
      "Epoch 734/1000\n",
      " - 0s - loss: 0.0235 - acc: 0.9891\n",
      "Epoch 735/1000\n",
      " - 0s - loss: 0.0236 - acc: 0.9894\n",
      "Epoch 736/1000\n",
      " - 0s - loss: 0.0236 - acc: 0.9891\n",
      "Epoch 737/1000\n",
      " - 0s - loss: 0.0235 - acc: 0.9891\n",
      "Epoch 738/1000\n",
      " - 0s - loss: 0.0235 - acc: 0.9894\n",
      "Epoch 739/1000\n",
      " - 0s - loss: 0.0235 - acc: 0.9891\n",
      "Epoch 740/1000\n",
      " - 0s - loss: 0.0235 - acc: 0.9892\n",
      "Epoch 741/1000\n",
      " - 0s - loss: 0.0236 - acc: 0.9889\n",
      "Epoch 742/1000\n",
      " - 0s - loss: 0.0235 - acc: 0.9892\n",
      "Epoch 743/1000\n",
      " - 0s - loss: 0.0235 - acc: 0.9891\n",
      "Epoch 744/1000\n",
      " - 0s - loss: 0.0235 - acc: 0.9892\n",
      "Epoch 745/1000\n",
      " - 0s - loss: 0.0235 - acc: 0.9891\n",
      "Epoch 746/1000\n",
      " - 0s - loss: 0.0236 - acc: 0.9892\n",
      "Epoch 747/1000\n",
      " - 0s - loss: 0.0236 - acc: 0.9889\n",
      "Epoch 748/1000\n",
      " - 0s - loss: 0.0235 - acc: 0.9891\n",
      "Epoch 749/1000\n",
      " - 0s - loss: 0.0235 - acc: 0.9889\n",
      "Epoch 750/1000\n",
      " - 0s - loss: 0.0235 - acc: 0.9892\n",
      "Epoch 751/1000\n",
      " - 0s - loss: 0.0235 - acc: 0.9891\n",
      "Epoch 752/1000\n",
      " - 0s - loss: 0.0235 - acc: 0.9894\n",
      "Epoch 753/1000\n",
      " - 0s - loss: 0.0235 - acc: 0.9891\n",
      "Epoch 754/1000\n",
      " - 0s - loss: 0.0235 - acc: 0.9894\n",
      "Epoch 755/1000\n",
      " - 0s - loss: 0.0238 - acc: 0.9900\n",
      "Epoch 756/1000\n",
      " - 0s - loss: 0.0235 - acc: 0.9892\n",
      "Epoch 757/1000\n",
      " - 0s - loss: 0.0236 - acc: 0.9889\n",
      "Epoch 758/1000\n",
      " - 0s - loss: 0.0235 - acc: 0.9892\n",
      "Epoch 759/1000\n",
      " - 0s - loss: 0.0236 - acc: 0.9895\n",
      "Epoch 760/1000\n",
      " - 0s - loss: 0.0236 - acc: 0.9895\n",
      "Epoch 761/1000\n",
      " - 0s - loss: 0.0235 - acc: 0.9895\n",
      "Epoch 762/1000\n",
      " - 0s - loss: 0.0235 - acc: 0.9891\n",
      "Epoch 763/1000\n",
      " - 0s - loss: 0.0235 - acc: 0.9894\n",
      "Epoch 764/1000\n",
      " - 0s - loss: 0.0235 - acc: 0.9891\n",
      "Epoch 765/1000\n",
      " - 0s - loss: 0.0235 - acc: 0.9891\n",
      "Epoch 766/1000\n",
      " - 0s - loss: 0.0235 - acc: 0.9894\n",
      "Epoch 767/1000\n",
      " - 0s - loss: 0.0235 - acc: 0.9892\n",
      "Epoch 768/1000\n",
      " - 0s - loss: 0.0235 - acc: 0.9895\n",
      "Epoch 769/1000\n",
      " - 0s - loss: 0.0235 - acc: 0.9892\n",
      "Epoch 770/1000\n",
      " - 0s - loss: 0.0236 - acc: 0.9891\n",
      "Epoch 771/1000\n",
      " - 0s - loss: 0.0235 - acc: 0.9892\n",
      "Epoch 772/1000\n",
      " - 0s - loss: 0.0235 - acc: 0.9892\n",
      "Epoch 773/1000\n",
      " - 0s - loss: 0.0235 - acc: 0.9891\n",
      "Epoch 774/1000\n",
      " - 0s - loss: 0.0236 - acc: 0.9892\n",
      "Epoch 775/1000\n",
      " - 0s - loss: 0.0235 - acc: 0.9891\n",
      "Epoch 776/1000\n",
      " - 0s - loss: 0.0236 - acc: 0.9894\n",
      "Epoch 777/1000\n",
      " - 0s - loss: 0.0235 - acc: 0.9891\n",
      "Epoch 778/1000\n",
      " - 0s - loss: 0.0235 - acc: 0.9891\n",
      "Epoch 779/1000\n",
      " - 0s - loss: 0.0235 - acc: 0.9889\n",
      "Epoch 780/1000\n",
      " - 0s - loss: 0.0235 - acc: 0.9894\n",
      "Epoch 781/1000\n",
      " - 0s - loss: 0.0235 - acc: 0.9894\n",
      "Epoch 782/1000\n",
      " - 0s - loss: 0.0235 - acc: 0.9891\n",
      "Epoch 783/1000\n",
      " - 0s - loss: 0.0235 - acc: 0.9892\n",
      "Epoch 784/1000\n",
      " - 0s - loss: 0.0235 - acc: 0.9891\n",
      "Epoch 785/1000\n",
      " - 0s - loss: 0.0235 - acc: 0.9891\n",
      "Epoch 786/1000\n",
      " - 0s - loss: 0.0236 - acc: 0.9895\n",
      "Epoch 787/1000\n",
      " - 0s - loss: 0.0235 - acc: 0.9891\n",
      "Epoch 788/1000\n",
      " - 0s - loss: 0.0235 - acc: 0.9892\n",
      "Epoch 789/1000\n",
      " - 0s - loss: 0.0235 - acc: 0.9891\n",
      "Epoch 790/1000\n",
      " - 0s - loss: 0.0235 - acc: 0.9894\n",
      "Epoch 791/1000\n",
      " - 0s - loss: 0.0235 - acc: 0.9892\n",
      "Epoch 792/1000\n",
      " - 0s - loss: 0.0235 - acc: 0.9894\n",
      "Epoch 793/1000\n",
      " - 0s - loss: 0.0235 - acc: 0.9891\n",
      "Epoch 794/1000\n",
      " - 0s - loss: 0.0235 - acc: 0.9891\n",
      "Epoch 795/1000\n",
      " - 0s - loss: 0.0235 - acc: 0.9895\n",
      "Epoch 796/1000\n",
      " - 0s - loss: 0.0235 - acc: 0.9895\n",
      "Epoch 797/1000\n",
      " - 0s - loss: 0.0235 - acc: 0.9892\n",
      "Epoch 798/1000\n",
      " - 0s - loss: 0.0235 - acc: 0.9892\n",
      "Epoch 799/1000\n",
      " - 0s - loss: 0.0235 - acc: 0.9891\n",
      "Epoch 800/1000\n",
      " - 0s - loss: 0.0235 - acc: 0.9892\n",
      "Epoch 801/1000\n",
      " - 0s - loss: 0.0236 - acc: 0.9894\n",
      "Epoch 802/1000\n",
      " - 0s - loss: 0.0234 - acc: 0.9895\n",
      "Epoch 803/1000\n",
      " - 0s - loss: 0.0235 - acc: 0.9895\n",
      "Epoch 804/1000\n",
      " - 0s - loss: 0.0235 - acc: 0.9889\n",
      "Epoch 805/1000\n",
      " - 0s - loss: 0.0235 - acc: 0.9889\n",
      "Epoch 806/1000\n",
      " - 0s - loss: 0.0234 - acc: 0.9891\n",
      "Epoch 807/1000\n",
      " - 0s - loss: 0.0235 - acc: 0.9897\n",
      "Epoch 808/1000\n",
      " - 0s - loss: 0.0234 - acc: 0.9895\n",
      "Epoch 809/1000\n",
      " - 0s - loss: 0.0235 - acc: 0.9894\n",
      "Epoch 810/1000\n",
      " - 0s - loss: 0.0235 - acc: 0.9897\n",
      "Epoch 811/1000\n",
      " - 0s - loss: 0.0235 - acc: 0.9891\n",
      "Epoch 812/1000\n",
      " - 0s - loss: 0.0235 - acc: 0.9889\n",
      "Epoch 813/1000\n",
      " - 0s - loss: 0.0234 - acc: 0.9891\n",
      "Epoch 814/1000\n",
      " - 0s - loss: 0.0234 - acc: 0.9892\n",
      "Epoch 815/1000\n",
      " - 0s - loss: 0.0235 - acc: 0.9897\n",
      "Epoch 816/1000\n",
      " - 0s - loss: 0.0234 - acc: 0.9892\n",
      "Epoch 817/1000\n",
      " - 0s - loss: 0.0238 - acc: 0.9900\n",
      "Epoch 818/1000\n",
      " - 0s - loss: 0.0235 - acc: 0.9891\n",
      "Epoch 819/1000\n",
      " - 0s - loss: 0.0235 - acc: 0.9892\n",
      "Epoch 820/1000\n",
      " - 0s - loss: 0.0234 - acc: 0.9891\n",
      "Epoch 821/1000\n",
      " - 0s - loss: 0.0235 - acc: 0.9892\n",
      "Epoch 822/1000\n",
      " - 0s - loss: 0.0235 - acc: 0.9892\n",
      "Epoch 823/1000\n"
     ]
    },
    {
     "name": "stdout",
     "output_type": "stream",
     "text": [
      " - 0s - loss: 0.0235 - acc: 0.9894\n",
      "Epoch 824/1000\n",
      " - 0s - loss: 0.0235 - acc: 0.9894\n",
      "Epoch 825/1000\n",
      " - 0s - loss: 0.0235 - acc: 0.9887\n",
      "Epoch 826/1000\n",
      " - 0s - loss: 0.0235 - acc: 0.9891\n",
      "Epoch 827/1000\n",
      " - 0s - loss: 0.0235 - acc: 0.9892\n",
      "Epoch 828/1000\n",
      " - 0s - loss: 0.0235 - acc: 0.9894\n",
      "Epoch 829/1000\n",
      " - 0s - loss: 0.0235 - acc: 0.9899\n",
      "Epoch 830/1000\n",
      " - 0s - loss: 0.0235 - acc: 0.9889\n",
      "Epoch 831/1000\n",
      " - 0s - loss: 0.0235 - acc: 0.9891\n",
      "Epoch 832/1000\n",
      " - 0s - loss: 0.0234 - acc: 0.9892\n",
      "Epoch 833/1000\n",
      " - 0s - loss: 0.0235 - acc: 0.9892\n",
      "Epoch 834/1000\n",
      " - 0s - loss: 0.0235 - acc: 0.9889\n",
      "Epoch 835/1000\n",
      " - 0s - loss: 0.0235 - acc: 0.9887\n",
      "Epoch 836/1000\n",
      " - 0s - loss: 0.0235 - acc: 0.9894\n",
      "Epoch 837/1000\n",
      " - 0s - loss: 0.0234 - acc: 0.9889\n",
      "Epoch 838/1000\n",
      " - 0s - loss: 0.0234 - acc: 0.9891\n",
      "Epoch 839/1000\n",
      " - 0s - loss: 0.0234 - acc: 0.9895\n",
      "Epoch 840/1000\n",
      " - 0s - loss: 0.0234 - acc: 0.9892\n",
      "Epoch 841/1000\n",
      " - 0s - loss: 0.0234 - acc: 0.9891\n",
      "Epoch 842/1000\n",
      " - 0s - loss: 0.0235 - acc: 0.9889\n",
      "Epoch 843/1000\n",
      " - 0s - loss: 0.0234 - acc: 0.9887\n",
      "Epoch 844/1000\n",
      " - 0s - loss: 0.0236 - acc: 0.9899\n",
      "Epoch 845/1000\n",
      " - 0s - loss: 0.0234 - acc: 0.9894\n",
      "Epoch 846/1000\n",
      " - 0s - loss: 0.0235 - acc: 0.9891\n",
      "Epoch 847/1000\n",
      " - 0s - loss: 0.0236 - acc: 0.9889\n",
      "Epoch 848/1000\n",
      " - 0s - loss: 0.0235 - acc: 0.9892\n",
      "Epoch 849/1000\n",
      " - 0s - loss: 0.0234 - acc: 0.9891\n",
      "Epoch 850/1000\n",
      " - 0s - loss: 0.0235 - acc: 0.9891\n",
      "Epoch 851/1000\n",
      " - 0s - loss: 0.0234 - acc: 0.9894\n",
      "Epoch 852/1000\n",
      " - 0s - loss: 0.0235 - acc: 0.9891\n",
      "Epoch 853/1000\n",
      " - 0s - loss: 0.0234 - acc: 0.9889\n",
      "Epoch 854/1000\n",
      " - 0s - loss: 0.0234 - acc: 0.9891\n",
      "Epoch 855/1000\n",
      " - 0s - loss: 0.0234 - acc: 0.9897\n",
      "Epoch 856/1000\n",
      " - 0s - loss: 0.0235 - acc: 0.9892\n",
      "Epoch 857/1000\n",
      " - 0s - loss: 0.0235 - acc: 0.9895\n",
      "Epoch 858/1000\n",
      " - 0s - loss: 0.0235 - acc: 0.9889\n",
      "Epoch 859/1000\n",
      " - 0s - loss: 0.0234 - acc: 0.9891\n",
      "Epoch 860/1000\n",
      " - 0s - loss: 0.0235 - acc: 0.9889\n",
      "Epoch 861/1000\n",
      " - 0s - loss: 0.0234 - acc: 0.9894\n",
      "Epoch 862/1000\n",
      " - 0s - loss: 0.0235 - acc: 0.9891\n",
      "Epoch 863/1000\n",
      " - 0s - loss: 0.0234 - acc: 0.9895\n",
      "Epoch 864/1000\n",
      " - 0s - loss: 0.0235 - acc: 0.9892\n",
      "Epoch 865/1000\n",
      " - 0s - loss: 0.0235 - acc: 0.9892\n",
      "Epoch 866/1000\n",
      " - 0s - loss: 0.0235 - acc: 0.9892\n",
      "Epoch 867/1000\n",
      " - 0s - loss: 0.0235 - acc: 0.9889\n",
      "Epoch 868/1000\n",
      " - 0s - loss: 0.0235 - acc: 0.9891\n",
      "Epoch 869/1000\n",
      " - 0s - loss: 0.0234 - acc: 0.9894\n",
      "Epoch 870/1000\n",
      " - 0s - loss: 0.0234 - acc: 0.9895\n",
      "Epoch 871/1000\n",
      " - 0s - loss: 0.0234 - acc: 0.9892\n",
      "Epoch 872/1000\n",
      " - 0s - loss: 0.0234 - acc: 0.9889\n",
      "Epoch 873/1000\n",
      " - 0s - loss: 0.0234 - acc: 0.9889\n",
      "Epoch 874/1000\n",
      " - 0s - loss: 0.0235 - acc: 0.9892\n",
      "Epoch 875/1000\n",
      " - 0s - loss: 0.0235 - acc: 0.9892\n",
      "Epoch 876/1000\n",
      " - 0s - loss: 0.0235 - acc: 0.9891\n",
      "Epoch 877/1000\n",
      " - 0s - loss: 0.0235 - acc: 0.9891\n",
      "Epoch 878/1000\n",
      " - 0s - loss: 0.0234 - acc: 0.9887\n",
      "Epoch 879/1000\n",
      " - 0s - loss: 0.0234 - acc: 0.9892\n",
      "Epoch 880/1000\n",
      " - 0s - loss: 0.0235 - acc: 0.9891\n",
      "Epoch 881/1000\n",
      " - 0s - loss: 0.0234 - acc: 0.9887\n",
      "Epoch 882/1000\n",
      " - 0s - loss: 0.0234 - acc: 0.9892\n",
      "Epoch 883/1000\n",
      " - 0s - loss: 0.0235 - acc: 0.9892\n",
      "Epoch 884/1000\n",
      " - 0s - loss: 0.0235 - acc: 0.9895\n",
      "Epoch 885/1000\n",
      " - 0s - loss: 0.0235 - acc: 0.9892\n",
      "Epoch 886/1000\n",
      " - 0s - loss: 0.0236 - acc: 0.9886\n",
      "Epoch 887/1000\n",
      " - 0s - loss: 0.0234 - acc: 0.9889\n",
      "Epoch 888/1000\n",
      " - 0s - loss: 0.0234 - acc: 0.9894\n",
      "Epoch 889/1000\n",
      " - 0s - loss: 0.0234 - acc: 0.9889\n",
      "Epoch 890/1000\n",
      " - 0s - loss: 0.0236 - acc: 0.9895\n",
      "Epoch 891/1000\n",
      " - 0s - loss: 0.0235 - acc: 0.9889\n",
      "Epoch 892/1000\n",
      " - 0s - loss: 0.0234 - acc: 0.9892\n",
      "Epoch 893/1000\n",
      " - 0s - loss: 0.0234 - acc: 0.9894\n",
      "Epoch 894/1000\n",
      " - 0s - loss: 0.0235 - acc: 0.9892\n",
      "Epoch 895/1000\n",
      " - 0s - loss: 0.0235 - acc: 0.9891\n",
      "Epoch 896/1000\n",
      " - 0s - loss: 0.0234 - acc: 0.9891\n",
      "Epoch 897/1000\n",
      " - 0s - loss: 0.0235 - acc: 0.9889\n",
      "Epoch 898/1000\n",
      " - 0s - loss: 0.0234 - acc: 0.9894\n",
      "Epoch 899/1000\n",
      " - 0s - loss: 0.0234 - acc: 0.9894\n",
      "Epoch 900/1000\n",
      " - 0s - loss: 0.0235 - acc: 0.9889\n",
      "Epoch 901/1000\n",
      " - 0s - loss: 0.0235 - acc: 0.9891\n",
      "Epoch 902/1000\n",
      " - 0s - loss: 0.0234 - acc: 0.9892\n",
      "Epoch 903/1000\n",
      " - 0s - loss: 0.0234 - acc: 0.9892\n",
      "Epoch 904/1000\n",
      " - 0s - loss: 0.0234 - acc: 0.9894\n",
      "Epoch 905/1000\n",
      " - 0s - loss: 0.0234 - acc: 0.9891\n",
      "Epoch 906/1000\n",
      " - 0s - loss: 0.0234 - acc: 0.9892\n",
      "Epoch 907/1000\n",
      " - 0s - loss: 0.0234 - acc: 0.9889\n",
      "Epoch 908/1000\n",
      " - 0s - loss: 0.0234 - acc: 0.9894\n",
      "Epoch 909/1000\n",
      " - 0s - loss: 0.0234 - acc: 0.9892\n",
      "Epoch 910/1000\n",
      " - 0s - loss: 0.0234 - acc: 0.9891\n",
      "Epoch 911/1000\n",
      " - 0s - loss: 0.0234 - acc: 0.9892\n",
      "Epoch 912/1000\n",
      " - 0s - loss: 0.0234 - acc: 0.9899\n",
      "Epoch 913/1000\n",
      " - 0s - loss: 0.0234 - acc: 0.9895\n",
      "Epoch 914/1000\n",
      " - 0s - loss: 0.0235 - acc: 0.9887\n",
      "Epoch 915/1000\n",
      " - 0s - loss: 0.0234 - acc: 0.9892\n",
      "Epoch 916/1000\n",
      " - 0s - loss: 0.0234 - acc: 0.9894\n",
      "Epoch 917/1000\n",
      " - 0s - loss: 0.0235 - acc: 0.9891\n",
      "Epoch 918/1000\n",
      " - 0s - loss: 0.0234 - acc: 0.9892\n",
      "Epoch 919/1000\n",
      " - 0s - loss: 0.0236 - acc: 0.9892\n",
      "Epoch 920/1000\n",
      " - 0s - loss: 0.0234 - acc: 0.9889\n",
      "Epoch 921/1000\n",
      " - 0s - loss: 0.0235 - acc: 0.9894\n",
      "Epoch 922/1000\n",
      " - 0s - loss: 0.0235 - acc: 0.9891\n",
      "Epoch 923/1000\n",
      " - 0s - loss: 0.0234 - acc: 0.9889\n",
      "Epoch 924/1000\n",
      " - 0s - loss: 0.0234 - acc: 0.9892\n",
      "Epoch 925/1000\n",
      " - 0s - loss: 0.0234 - acc: 0.9891\n",
      "Epoch 926/1000\n",
      " - 0s - loss: 0.0234 - acc: 0.9891\n",
      "Epoch 927/1000\n",
      " - 0s - loss: 0.0234 - acc: 0.9892\n",
      "Epoch 928/1000\n",
      " - 0s - loss: 0.0234 - acc: 0.9892\n",
      "Epoch 929/1000\n",
      " - 0s - loss: 0.0234 - acc: 0.9891\n",
      "Epoch 930/1000\n",
      " - 0s - loss: 0.0234 - acc: 0.9889\n",
      "Epoch 931/1000\n",
      " - 0s - loss: 0.0234 - acc: 0.9894\n",
      "Epoch 932/1000\n",
      " - 0s - loss: 0.0234 - acc: 0.9891\n",
      "Epoch 933/1000\n",
      " - 0s - loss: 0.0234 - acc: 0.9891\n",
      "Epoch 934/1000\n",
      " - 0s - loss: 0.0235 - acc: 0.9889\n",
      "Epoch 935/1000\n",
      " - 0s - loss: 0.0234 - acc: 0.9891\n",
      "Epoch 936/1000\n",
      " - 0s - loss: 0.0234 - acc: 0.9895\n",
      "Epoch 937/1000\n",
      " - 0s - loss: 0.0234 - acc: 0.9892\n",
      "Epoch 938/1000\n",
      " - 0s - loss: 0.0234 - acc: 0.9889\n",
      "Epoch 939/1000\n",
      " - 0s - loss: 0.0234 - acc: 0.9891\n",
      "Epoch 940/1000\n",
      " - 0s - loss: 0.0234 - acc: 0.9892\n",
      "Epoch 941/1000\n",
      " - 0s - loss: 0.0234 - acc: 0.9895\n",
      "Epoch 942/1000\n",
      " - 0s - loss: 0.0234 - acc: 0.9891\n",
      "Epoch 943/1000\n",
      " - 0s - loss: 0.0234 - acc: 0.9891\n",
      "Epoch 944/1000\n",
      " - 0s - loss: 0.0234 - acc: 0.9889\n",
      "Epoch 945/1000\n",
      " - 0s - loss: 0.0234 - acc: 0.9892\n",
      "Epoch 946/1000\n",
      " - 0s - loss: 0.0235 - acc: 0.9892\n",
      "Epoch 947/1000\n",
      " - 0s - loss: 0.0234 - acc: 0.9892\n",
      "Epoch 948/1000\n",
      " - 0s - loss: 0.0234 - acc: 0.9892\n",
      "Epoch 949/1000\n",
      " - 0s - loss: 0.0234 - acc: 0.9891\n",
      "Epoch 950/1000\n",
      " - 0s - loss: 0.0235 - acc: 0.9892\n",
      "Epoch 951/1000\n",
      " - 0s - loss: 0.0234 - acc: 0.9892\n",
      "Epoch 952/1000\n",
      " - 0s - loss: 0.0234 - acc: 0.9891\n",
      "Epoch 953/1000\n",
      " - 0s - loss: 0.0234 - acc: 0.9892\n",
      "Epoch 954/1000\n",
      " - 0s - loss: 0.0235 - acc: 0.9894\n",
      "Epoch 955/1000\n",
      " - 0s - loss: 0.0234 - acc: 0.9894\n",
      "Epoch 956/1000\n",
      " - 0s - loss: 0.0235 - acc: 0.9894\n",
      "Epoch 957/1000\n",
      " - 0s - loss: 0.0234 - acc: 0.9891\n",
      "Epoch 958/1000\n",
      " - 0s - loss: 0.0235 - acc: 0.9892\n",
      "Epoch 959/1000\n",
      " - 0s - loss: 0.0234 - acc: 0.9892\n",
      "Epoch 960/1000\n",
      " - 0s - loss: 0.0235 - acc: 0.9894\n",
      "Epoch 961/1000\n",
      " - 0s - loss: 0.0234 - acc: 0.9892\n",
      "Epoch 962/1000\n",
      " - 0s - loss: 0.0234 - acc: 0.9889\n",
      "Epoch 963/1000\n",
      " - 0s - loss: 0.0234 - acc: 0.9889\n",
      "Epoch 964/1000\n",
      " - 0s - loss: 0.0235 - acc: 0.9892\n",
      "Epoch 965/1000\n",
      " - 0s - loss: 0.0234 - acc: 0.9891\n",
      "Epoch 966/1000\n",
      " - 0s - loss: 0.0233 - acc: 0.9895\n",
      "Epoch 967/1000\n",
      " - 0s - loss: 0.0234 - acc: 0.9892\n",
      "Epoch 968/1000\n",
      " - 0s - loss: 0.0234 - acc: 0.9889\n",
      "Epoch 969/1000\n",
      " - 0s - loss: 0.0235 - acc: 0.9891\n",
      "Epoch 970/1000\n",
      " - 0s - loss: 0.0234 - acc: 0.9889\n",
      "Epoch 971/1000\n",
      " - 0s - loss: 0.0234 - acc: 0.9891\n",
      "Epoch 972/1000\n",
      " - 0s - loss: 0.0234 - acc: 0.9894\n",
      "Epoch 973/1000\n",
      " - 0s - loss: 0.0234 - acc: 0.9891\n",
      "Epoch 974/1000\n",
      " - 0s - loss: 0.0235 - acc: 0.9891\n",
      "Epoch 975/1000\n",
      " - 0s - loss: 0.0234 - acc: 0.9891\n",
      "Epoch 976/1000\n",
      " - 0s - loss: 0.0234 - acc: 0.9891\n",
      "Epoch 977/1000\n",
      " - 0s - loss: 0.0233 - acc: 0.9892\n",
      "Epoch 978/1000\n",
      " - 0s - loss: 0.0234 - acc: 0.9894\n",
      "Epoch 979/1000\n",
      " - 0s - loss: 0.0234 - acc: 0.9889\n",
      "Epoch 980/1000\n",
      " - 0s - loss: 0.0233 - acc: 0.9891\n",
      "Epoch 981/1000\n",
      " - 0s - loss: 0.0234 - acc: 0.9894\n",
      "Epoch 982/1000\n",
      " - 0s - loss: 0.0235 - acc: 0.9892\n",
      "Epoch 983/1000\n",
      " - 0s - loss: 0.0234 - acc: 0.9891\n",
      "Epoch 984/1000\n",
      " - 0s - loss: 0.0234 - acc: 0.9891\n",
      "Epoch 985/1000\n",
      " - 0s - loss: 0.0234 - acc: 0.9894\n",
      "Epoch 986/1000\n",
      " - 0s - loss: 0.0234 - acc: 0.9891\n",
      "Epoch 987/1000\n"
     ]
    },
    {
     "name": "stdout",
     "output_type": "stream",
     "text": [
      " - 0s - loss: 0.0234 - acc: 0.9892\n",
      "Epoch 988/1000\n",
      " - 0s - loss: 0.0234 - acc: 0.9892\n",
      "Epoch 989/1000\n",
      " - 0s - loss: 0.0235 - acc: 0.9891\n",
      "Epoch 990/1000\n",
      " - 0s - loss: 0.0234 - acc: 0.9894\n",
      "Epoch 991/1000\n",
      " - 0s - loss: 0.0234 - acc: 0.9895\n",
      "Epoch 992/1000\n",
      " - 0s - loss: 0.0234 - acc: 0.9887\n",
      "Epoch 993/1000\n",
      " - 0s - loss: 0.0235 - acc: 0.9889\n",
      "Epoch 994/1000\n",
      " - 0s - loss: 0.0234 - acc: 0.9895\n",
      "Epoch 995/1000\n",
      " - 0s - loss: 0.0233 - acc: 0.9897\n",
      "Epoch 996/1000\n",
      " - 0s - loss: 0.0234 - acc: 0.9891\n",
      "Epoch 997/1000\n",
      " - 0s - loss: 0.0233 - acc: 0.9892\n",
      "Epoch 998/1000\n",
      " - 0s - loss: 0.0234 - acc: 0.9891\n",
      "Epoch 999/1000\n",
      " - 0s - loss: 0.0234 - acc: 0.9887\n",
      "Epoch 1000/1000\n",
      " - 0s - loss: 0.0234 - acc: 0.9899\n"
     ]
    },
    {
     "data": {
      "text/plain": [
       "<keras.callbacks.History at 0x219a4ba6208>"
      ]
     },
     "execution_count": 9,
     "metadata": {},
     "output_type": "execute_result"
    }
   ],
   "source": [
    "# Fit (train) the model\n",
    "model.fit(\n",
    "    X_train_scaled,\n",
    "    y_train_categorical,\n",
    "    epochs=1000,\n",
    "    shuffle=True,\n",
    "    verbose=2\n",
    ")"
   ]
  },
  {
   "cell_type": "code",
   "execution_count": 10,
   "metadata": {},
   "outputs": [
    {
     "name": "stdout",
     "output_type": "stream",
     "text": [
      "Loss: 0.022648344679190448, Accuracy: 0.9895387542740934\n"
     ]
    }
   ],
   "source": [
    "# Evaluate the model using the testing data\n",
    "model_loss, model_accuracy = model.evaluate(\n",
    "    X_test_scaled, y_test_categorical, verbose=2)\n",
    "print(f\"Loss: {model_loss}, Accuracy: {model_accuracy}\")"
   ]
  },
  {
   "cell_type": "code",
   "execution_count": 12,
   "metadata": {},
   "outputs": [
    {
     "data": {
      "text/html": [
       "<div>\n",
       "<style scoped>\n",
       "    .dataframe tbody tr th:only-of-type {\n",
       "        vertical-align: middle;\n",
       "    }\n",
       "\n",
       "    .dataframe tbody tr th {\n",
       "        vertical-align: top;\n",
       "    }\n",
       "\n",
       "    .dataframe thead th {\n",
       "        text-align: right;\n",
       "    }\n",
       "</style>\n",
       "<table border=\"1\" class=\"dataframe\">\n",
       "  <thead>\n",
       "    <tr style=\"text-align: right;\">\n",
       "      <th></th>\n",
       "      <th>Prediction</th>\n",
       "      <th>Actual</th>\n",
       "      <th>Variance</th>\n",
       "    </tr>\n",
       "  </thead>\n",
       "  <tbody>\n",
       "    <tr>\n",
       "      <th>0</th>\n",
       "      <td>1</td>\n",
       "      <td>0</td>\n",
       "      <td>1</td>\n",
       "    </tr>\n",
       "    <tr>\n",
       "      <th>1</th>\n",
       "      <td>1</td>\n",
       "      <td>0</td>\n",
       "      <td>1</td>\n",
       "    </tr>\n",
       "    <tr>\n",
       "      <th>2</th>\n",
       "      <td>1</td>\n",
       "      <td>1</td>\n",
       "      <td>0</td>\n",
       "    </tr>\n",
       "    <tr>\n",
       "      <th>3</th>\n",
       "      <td>1</td>\n",
       "      <td>1</td>\n",
       "      <td>0</td>\n",
       "    </tr>\n",
       "    <tr>\n",
       "      <th>4</th>\n",
       "      <td>1</td>\n",
       "      <td>1</td>\n",
       "      <td>0</td>\n",
       "    </tr>\n",
       "  </tbody>\n",
       "</table>\n",
       "</div>"
      ],
      "text/plain": [
       "   Prediction  Actual  Variance\n",
       "0           1       0         1\n",
       "1           1       0         1\n",
       "2           1       1         0\n",
       "3           1       1         0\n",
       "4           1       1         0"
      ]
     },
     "execution_count": 12,
     "metadata": {},
     "output_type": "execute_result"
    }
   ],
   "source": [
    "newX = month2[[\"Distance\", \"Amount\"]]\n",
    "newY = month2[\"FRAUD_INDICATOR\"].values.reshape(-1,1)\n",
    "nnprediction = model.predict_classes(newX)\n",
    "# pd.DataFrame({\"PredictedX\": predicted_Xattribute, \"ActualX\": newX, \"Error\": predicted_Xattribute - newX})[[\"Predicted\", \"Actual\", \"Error\"]]\n",
    "nn = pd.DataFrame({\"Prediction\": nnprediction, \"Actual\": newY.ravel(),\"Variance\": nnprediction-newY.ravel()})\n",
    "nn.head()"
   ]
  },
  {
   "cell_type": "code",
   "execution_count": 13,
   "metadata": {},
   "outputs": [
    {
     "name": "stdout",
     "output_type": "stream",
     "text": [
      "Error Rate: Prediction    0.851046\n",
      "Actual        0.851046\n",
      "Variance      0.851046\n",
      "dtype: float64\n"
     ]
    }
   ],
   "source": [
    "total_pop = nn.count()\n",
    "# print(total_pop)\n",
    "errors = nn[nn[\"Variance\"]==1].count()\n",
    "# print(errors)\n",
    "print(f\"Error Rate: {errors / total_pop}\")"
   ]
  },
  {
   "cell_type": "markdown",
   "metadata": {
    "nbpresent": {
     "id": "f1c699bc-6717-4eb9-8e6d-66d433ba4618"
    },
    "slideshow": {
     "slide_type": "slide"
    }
   },
   "source": [
    "## Deep Learning \n"
   ]
  },
  {
   "cell_type": "code",
   "execution_count": null,
   "metadata": {},
   "outputs": [],
   "source": [
    "# deep learning\n",
    "from sklearn.preprocessing import StandardScaler\n",
    "from keras.utils import to_categorical\n",
    "from keras.models import Sequential\n",
    "from keras.layers import Dense\n",
    "\n",
    "model = Sequential()\n",
    "model.add(Dense(units=100, activation='relu', input_dim=20))\n",
    "model.add(Dense(units=100, activation='relu'))\n",
    "model.add(Dense(units=2, activation='softmax'))\n",
    "\n",
    "model.compile(optimizer='adam',\n",
    "              loss='categorical_crossentropy',\n",
    "              metrics=['accuracy'])\n",
    "model.fit(\n",
    "    X_train_scaled,\n",
    "    y_train_categorical,\n",
    "    epochs=60,\n",
    "    shuffle=True,\n",
    "    verbose=0\n",
    ")\n",
    "\n",
    "model_loss, model_accuracy = model.evaluate(\n",
    "    X_test_scaled, y_test_categorical, verbose=2)\n",
    "print(\n",
    "    f\"Normal Neural Network - Loss: {model_loss}, Accuracy: {model_accuracy}\")"
   ]
  },
  {
   "cell_type": "markdown",
   "metadata": {
    "nbpresent": {
     "id": "f1c699bc-6717-4eb9-8e6d-66d433ba4618"
    },
    "slideshow": {
     "slide_type": "slide"
    }
   },
   "source": [
    "## Kmeans\n",
    "\n"
   ]
  },
  {
   "cell_type": "code",
   "execution_count": 10,
   "metadata": {},
   "outputs": [
    {
     "data": {
      "text/plain": [
       "<matplotlib.collections.PathCollection at 0x1a518d6c550>"
      ]
     },
     "execution_count": 10,
     "metadata": {},
     "output_type": "execute_result"
    },
    {
     "data": {
      "image/png": "[encoded data removed]",
      "text/plain": [
       "<Figure size 432x288 with 1 Axes>"
      ]
     },
     "metadata": {
      "needs_background": "light"
     },
     "output_type": "display_data"
    }
   ],
   "source": [
    "X = month1[\"Distance\"].values.reshape(-1,1)\n",
    "y = month1[\"Amount\"].values.reshape(-1,1)\n",
    "\n",
    "# Plot the data\n",
    "plt.scatter(X[:, 0], y[:, 0])"
   ]
  },
  {
   "cell_type": "code",
   "execution_count": 11,
   "metadata": {},
   "outputs": [
    {
     "data": {
      "text/plain": [
       "KMeans(algorithm='auto', copy_x=True, init='k-means++', max_iter=300,\n",
       "    n_clusters=4, n_init=10, n_jobs=1, precompute_distances='auto',\n",
       "    random_state=None, tol=0.0001, verbose=0)"
      ]
     },
     "execution_count": 11,
     "metadata": {},
     "output_type": "execute_result"
    }
   ],
   "source": [
    "# Use n_clusters=4 as the k value\n",
    "# We can see from the plot above that there are 4 clusters\n",
    "from sklearn.cluster import KMeans\n",
    "kmeans = KMeans(n_clusters=4)\n",
    "\n",
    "# Fit the model to the data\n",
    "kmeans.fit(X,y)"
   ]
  },
  {
   "cell_type": "code",
   "execution_count": 12,
   "metadata": {},
   "outputs": [],
   "source": [
    "# broke the prediction into predict X and predict y instead of predict X,y"
   ]
  },
  {
   "cell_type": "code",
   "execution_count": 13,
   "metadata": {},
   "outputs": [
    {
     "data": {
      "text/plain": [
       "<matplotlib.collections.PathCollection at 0x1a519b56278>"
      ]
     },
     "execution_count": 13,
     "metadata": {},
     "output_type": "execute_result"
    },
    {
     "data": {
      "image/png": "[encoded data removed]",
      "text/plain": [
       "<Figure size 432x288 with 1 Axes>"
      ]
     },
     "metadata": {
      "needs_background": "light"
     },
     "output_type": "display_data"
    }
   ],
   "source": [
    "# Predict X\n",
    "predicted_clusters = kmeans.predict(X)\n",
    "\n",
    "# Plot the predicted clusters to see if the model predicted the correct clusters\n",
    "# This is visual validation that the model was trained correctly.\n",
    "plt.scatter(X[:, 0], y[:, 0], c=predicted_clusters, s=50, cmap='viridis')"
   ]
  },
  {
   "cell_type": "code",
   "execution_count": 14,
   "metadata": {},
   "outputs": [
    {
     "data": {
      "text/plain": [
       "<matplotlib.collections.PathCollection at 0x1a519bacf28>"
      ]
     },
     "execution_count": 14,
     "metadata": {},
     "output_type": "execute_result"
    },
    {
     "data": {
      "image/png": "[encoded data removed]",
      "text/plain": [
       "<Figure size 432x288 with 1 Axes>"
      ]
     },
     "metadata": {
      "needs_background": "light"
     },
     "output_type": "display_data"
    }
   ],
   "source": [
    "# Predict y\n",
    "predicted_clusters = kmeans.predict(y)\n",
    "\n",
    "# Plot the predicted clusters to see if the model predicted the correct clusters\n",
    "# This is visual validation that the model was trained correctly.\n",
    "plt.scatter(X[:, 0], y[:, 0], c=predicted_clusters, s=50, cmap='viridis')"
   ]
  }
 ],
 "metadata": {
  "anaconda-cloud": {},
  "celltoolbar": "Slideshow",
  "kernelspec": {
   "display_name": "Python [conda env:pythondata]",
   "language": "python",
   "name": "conda-env-pythondata-py"
  },
  "language_info": {
   "codemirror_mode": {
    "name": "ipython",
    "version": 3
   },
   "file_extension": ".py",
   "mimetype": "text/x-python",
   "name": "python",
   "nbconvert_exporter": "python",
   "pygments_lexer": "ipython3",
   "version": "3.6.6"
  },
  "nbpresent": {
   "slides": {
    "03210a56-863e-4749-b7ba-ed75bfceceee": {
     "id": "03210a56-863e-4749-b7ba-ed75bfceceee",
     "prev": "86b3b05f-6e9a-49dc-8a83-97f72c348c5f",
     "regions": {
      "2be9481c-cff7-4f32-b835-90f2a2cb989a": {
       "attrs": {
        "height": 0.8,
        "width": 0.8,
        "x": 0.1,
        "y": 0.1
       },
       "content": {
        "cell": "46550b81-7dd8-4efc-b710-0f10002c9f2b",
        "part": "whole"
       },
       "id": "2be9481c-cff7-4f32-b835-90f2a2cb989a"
      },
      "3f484569-30ec-4529-8d3c-ac88b8c6dbfb": {
       "attrs": {
        "height": 0.4,
        "width": 0.8,
        "x": 0.1,
        "y": 0.5
       },
       "content": {
        "cell": "2b83c32a-d7e2-4db6-b45f-afbbf028fe90",
        "part": "whole"
       },
       "id": "3f484569-30ec-4529-8d3c-ac88b8c6dbfb"
      }
     }
    },
    "22531930-3fc8-45ff-a4f1-32e94c1d1455": {
     "id": "22531930-3fc8-45ff-a4f1-32e94c1d1455",
     "prev": "8eb735f6-11af-4f77-a4ed-b637fb18ac08",
     "regions": {
      "1407c818-c9fd-470e-8260-6b6904d888de": {
       "attrs": {
        "height": 0.8,
        "width": 0.8,
        "x": 0.1,
        "y": 0.1
       },
       "content": {
        "cell": "664c64ef-5517-4725-95cb-874bbc7711c7",
        "part": "whole"
       },
       "id": "1407c818-c9fd-470e-8260-6b6904d888de"
      }
     }
    },
    "29c55765-6994-4dbf-b82f-117b4f1e0cee": {
     "id": "29c55765-6994-4dbf-b82f-117b4f1e0cee",
     "prev": "b7c25bc1-4dd7-421b-9951-0c0c403c176d",
     "regions": {
      "44583f15-ec4f-4aec-8e7c-f01652e954fc": {
       "attrs": {
        "height": 0.8,
        "width": 0.8,
        "x": 0.1,
        "y": 0.1
       },
       "content": {
        "cell": "7c23961d-86fe-4d07-bc58-6d61f03c3731",
        "part": "whole"
       },
       "id": "44583f15-ec4f-4aec-8e7c-f01652e954fc"
      }
     }
    },
    "39c5764b-ab2c-4aae-8500-dc39319e4d38": {
     "id": "39c5764b-ab2c-4aae-8500-dc39319e4d38",
     "prev": "22531930-3fc8-45ff-a4f1-32e94c1d1455",
     "regions": {
      "d0237596-8095-44dc-81c6-6d9c6b204684": {
       "attrs": {
        "height": 0.8,
        "width": 0.8,
        "x": 0.1,
        "y": 0.1
       },
       "content": {
        "cell": "348e164e-a000-4def-92c0-db93f9a617a1",
        "part": "whole"
       },
       "id": "d0237596-8095-44dc-81c6-6d9c6b204684"
      }
     }
    },
    "39e950f1-f2c4-422a-8f45-835c5c61e7e0": {
     "id": "39e950f1-f2c4-422a-8f45-835c5c61e7e0",
     "prev": "4b5f1824-db4a-4ef3-9515-a88d3f2276c1",
     "regions": {
      "0a72cc48-c38f-4e8c-94d3-3198eccde68a": {
       "attrs": {
        "height": 0.8,
        "width": 0.8,
        "x": 0.1,
        "y": 0.1
       },
       "content": {
        "cell": "c3820b22-bf55-4dca-ba8b-f08060567b6e",
        "part": "whole"
       },
       "id": "0a72cc48-c38f-4e8c-94d3-3198eccde68a"
      },
      "b49c6eca-318f-41b8-a7a5-a620d18f639c": {
       "attrs": {
        "height": 0.4,
        "width": 0.8,
        "x": 0.1,
        "y": 0.5
       },
       "content": {
        "cell": "aeeeb44d-7825-4050-b7ba-70813bd3396b",
        "part": "whole"
       },
       "id": "b49c6eca-318f-41b8-a7a5-a620d18f639c"
      }
     }
    },
    "4792c0cc-ccd4-48bf-9b0e-a3c1f0f3008d": {
     "id": "4792c0cc-ccd4-48bf-9b0e-a3c1f0f3008d",
     "prev": "39c5764b-ab2c-4aae-8500-dc39319e4d38",
     "regions": {
      "d4adae26-ff2f-4a81-ad91-fd3a9bfd965c": {
       "attrs": {
        "height": 0.4,
        "width": 0.8,
        "x": 0.1,
        "y": 0.5
       },
       "content": {
        "cell": "4d6b8af6-438e-4034-bda1-1f977cf12441",
        "part": "whole"
       },
       "id": "d4adae26-ff2f-4a81-ad91-fd3a9bfd965c"
      },
      "d75a8261-ee89-4f4d-b388-2f429e112f44": {
       "attrs": {
        "height": 0.8,
        "width": 0.8,
        "x": 0.1,
        "y": 0.1
       },
       "content": {
        "cell": "a3b6e99c-2c85-47da-b29b-3b53c3c309b8",
        "part": "whole"
       },
       "id": "d75a8261-ee89-4f4d-b388-2f429e112f44"
      }
     }
    },
    "4b5f1824-db4a-4ef3-9515-a88d3f2276c1": {
     "id": "4b5f1824-db4a-4ef3-9515-a88d3f2276c1",
     "prev": "e92a9020-6631-400a-aa50-46c1fa0a5f0c",
     "regions": {
      "2bd81133-11e3-48df-bf12-2d0a57949bca": {
       "attrs": {
        "height": 0.8,
        "width": 0.8,
        "x": 0.1,
        "y": 0.1
       },
       "content": {
        "cell": "69fab88f-0864-47cc-933b-eaffb638cbf3",
        "part": "whole"
       },
       "id": "2bd81133-11e3-48df-bf12-2d0a57949bca"
      },
      "d3322861-28ab-4f1e-8a1f-3a7f4d3da8c1": {
       "attrs": {
        "height": 0.4,
        "width": 0.8,
        "x": 0.1,
        "y": 0.5
       },
       "content": {
        "cell": "3810c2af-fdbe-4f01-bc9f-2bb1a8ae70c6",
        "part": "whole"
       },
       "id": "d3322861-28ab-4f1e-8a1f-3a7f4d3da8c1"
      }
     }
    },
    "57992fb9-2f74-4e8e-8772-7b9f04606a56": {
     "id": "57992fb9-2f74-4e8e-8772-7b9f04606a56",
     "prev": "595093b4-3f86-406c-abb5-aea78e1241b3",
     "regions": {
      "3b3c8191-9f7e-4ab2-afac-b2b47008484a": {
       "attrs": {
        "height": 0.8,
        "width": 0.8,
        "x": 0.1,
        "y": 0.1
       },
       "content": {
        "cell": "a6d0bdff-9bba-472e-b354-da47b8761dbe",
        "part": "whole"
       },
       "id": "3b3c8191-9f7e-4ab2-afac-b2b47008484a"
      }
     }
    },
    "5907f515-df93-4e86-82c6-b8721b6e6346": {
     "id": "5907f515-df93-4e86-82c6-b8721b6e6346",
     "prev": "39e950f1-f2c4-422a-8f45-835c5c61e7e0",
     "regions": {
      "22f9005a-ed7a-4399-b501-497565ada2da": {
       "attrs": {
        "height": 0.8,
        "width": 0.8,
        "x": 0.1,
        "y": 0.1
       },
       "content": {
        "cell": "2e255efc-6ae1-4554-b32f-9400b47007c9",
        "part": "whole"
       },
       "id": "22f9005a-ed7a-4399-b501-497565ada2da"
      },
      "82d64cef-48f7-413c-ad01-e7fa2921f7c0": {
       "attrs": {
        "height": 0.4,
        "width": 0.8,
        "x": 0.1,
        "y": 0.5
       },
       "content": {
        "cell": "711a40c8-c479-448b-a3bc-5c7ff8369838",
        "part": "whole"
       },
       "id": "82d64cef-48f7-413c-ad01-e7fa2921f7c0"
      },
      "d943d3ea-6cd3-4d4a-8914-7fea0231efda": {
       "attrs": {
        "height": 0.4,
        "width": 0.8,
        "x": 0.1,
        "y": 0.5
       },
       "content": {
        "cell": "9bfbb27b-cae0-4feb-809a-77718bb2e6a3",
        "part": "whole"
       },
       "id": "d943d3ea-6cd3-4d4a-8914-7fea0231efda"
      }
     }
    },
    "595093b4-3f86-406c-abb5-aea78e1241b3": {
     "id": "595093b4-3f86-406c-abb5-aea78e1241b3",
     "prev": "5907f515-df93-4e86-82c6-b8721b6e6346",
     "regions": {
      "3366a1dc-6c33-45f0-a97f-a2744ed0587f": {
       "attrs": {
        "height": 0.8,
        "width": 0.8,
        "x": 0.1,
        "y": 0.1
       },
       "content": {
        "cell": "e54b79a1-316d-4fd1-ad5f-6cd580b51f99",
        "part": "whole"
       },
       "id": "3366a1dc-6c33-45f0-a97f-a2744ed0587f"
      },
      "40b6dba8-5994-4fd0-9ce5-9d36f3bb9f93": {
       "attrs": {
        "height": 0.4,
        "width": 0.8,
        "x": 0.1,
        "y": 0.5
       },
       "content": {
        "cell": "3d860568-b048-40f2-a64d-f585211d6c1c",
        "part": "whole"
       },
       "id": "40b6dba8-5994-4fd0-9ce5-9d36f3bb9f93"
      }
     }
    },
    "76838eab-c2c3-4ff3-b09f-854a7c74c6d4": {
     "id": "76838eab-c2c3-4ff3-b09f-854a7c74c6d4",
     "prev": null,
     "regions": {
      "b0032c00-1d89-4c94-a7a0-488f243c381e": {
       "attrs": {
        "height": 0.8,
        "width": 0.8,
        "x": 0.1,
        "y": 0.1
       },
       "content": {
        "cell": "0dc0cdcb-d8df-4a29-a0d2-a3cf6cc889ce",
        "part": "whole"
       },
       "id": "b0032c00-1d89-4c94-a7a0-488f243c381e"
      }
     }
    },
    "7a25817a-e5bc-4021-9c6b-61bc74dbdb92": {
     "id": "7a25817a-e5bc-4021-9c6b-61bc74dbdb92",
     "prev": "b04719fc-934a-404b-a642-dc732a3d1589",
     "regions": {
      "38d56409-500a-45cf-8e79-722d68d8fc38": {
       "attrs": {
        "height": 0.8,
        "width": 0.8,
        "x": 0.1,
        "y": 0.1
       },
       "content": {
        "cell": "335f050d-99af-43b3-a5ec-69fe896e48e2",
        "part": "whole"
       },
       "id": "38d56409-500a-45cf-8e79-722d68d8fc38"
      },
      "c838cb6d-409c-4c17-a1eb-3d7dc6aab32b": {
       "attrs": {
        "height": 0.4,
        "width": 0.8,
        "x": 0.1,
        "y": 0.5
       },
       "content": {
        "cell": "19ca6a7e-4b5d-4b0f-88c5-e68634abb65d",
        "part": "whole"
       },
       "id": "c838cb6d-409c-4c17-a1eb-3d7dc6aab32b"
      }
     }
    },
    "86b3b05f-6e9a-49dc-8a83-97f72c348c5f": {
     "id": "86b3b05f-6e9a-49dc-8a83-97f72c348c5f",
     "prev": "57992fb9-2f74-4e8e-8772-7b9f04606a56",
     "regions": {
      "49a41ef6-224d-46c1-bb81-254b8a4cee88": {
       "attrs": {
        "height": 0.8,
        "width": 0.8,
        "x": 0.1,
        "y": 0.1
       },
       "content": {
        "cell": "d7df6fa0-ce96-4073-b95d-ce78b3f4fdf1",
        "part": "whole"
       },
       "id": "49a41ef6-224d-46c1-bb81-254b8a4cee88"
      },
      "7ce316ab-4799-4e15-b095-374da21bc1aa": {
       "attrs": {
        "height": 0.4,
        "width": 0.8,
        "x": 0.1,
        "y": 0.5
       },
       "content": {
        "cell": "4a5226b5-d431-4cbe-86a6-291952a45a37",
        "part": "whole"
       },
       "id": "7ce316ab-4799-4e15-b095-374da21bc1aa"
      },
      "a7d701c6-61e3-48e3-8e0d-a4b318aef7d8": {
       "attrs": {
        "height": 0.4,
        "width": 0.8,
        "x": 0.1,
        "y": 0.5
       },
       "content": {
        "cell": "5e425283-82de-4c48-b2ae-31a1d6983849",
        "part": "whole"
       },
       "id": "a7d701c6-61e3-48e3-8e0d-a4b318aef7d8"
      },
      "e180cf23-71a7-46a8-8598-86a079bd7d78": {
       "attrs": {
        "height": 0.4,
        "width": 0.8,
        "x": 0.1,
        "y": 0.5
       },
       "content": {
        "cell": "28aaab45-1e14-4db5-9d2c-63b239cafe13",
        "part": "whole"
       },
       "id": "e180cf23-71a7-46a8-8598-86a079bd7d78"
      }
     }
    },
    "8eb735f6-11af-4f77-a4ed-b637fb18ac08": {
     "id": "8eb735f6-11af-4f77-a4ed-b637fb18ac08",
     "prev": "7a25817a-e5bc-4021-9c6b-61bc74dbdb92",
     "regions": {
      "ca38ef02-01f9-42cb-9e35-d67f8d665597": {
       "attrs": {
        "height": 0.4,
        "width": 0.8,
        "x": 0.1,
        "y": 0.5
       },
       "content": {
        "cell": "69b638ed-ed32-4824-bb81-df958c215a33",
        "part": "whole"
       },
       "id": "ca38ef02-01f9-42cb-9e35-d67f8d665597"
      },
      "fc52547b-a8f8-40e2-9397-5b18ca2b71b3": {
       "attrs": {
        "height": 0.8,
        "width": 0.8,
        "x": 0.1,
        "y": 0.1
       },
       "content": {
        "cell": "7317e4f2-150e-4336-ac48-d82641441aa8",
        "part": "whole"
       },
       "id": "fc52547b-a8f8-40e2-9397-5b18ca2b71b3"
      }
     }
    },
    "af2f5933-b31d-4d30-b08a-e4c09432b9bb": {
     "id": "af2f5933-b31d-4d30-b08a-e4c09432b9bb",
     "prev": "29c55765-6994-4dbf-b82f-117b4f1e0cee",
     "regions": {
      "479b436f-50bb-4c3a-9a4e-748e85eacde6": {
       "attrs": {
        "height": 0.8,
        "width": 0.8,
        "x": 0.1,
        "y": 0.1
       },
       "content": {
        "cell": "6d53481c-69ff-41a0-937e-4e8a39e2b2b5",
        "part": "whole"
       },
       "id": "479b436f-50bb-4c3a-9a4e-748e85eacde6"
      },
      "a02a5bdc-cab5-4ddc-aa9d-8ee5e0db6bd4": {
       "attrs": {
        "height": 0.4,
        "width": 0.8,
        "x": 0.1,
        "y": 0.5
       },
       "content": {
        "cell": "b0f8400f-71e1-4892-9012-88e54c053a36",
        "part": "whole"
       },
       "id": "a02a5bdc-cab5-4ddc-aa9d-8ee5e0db6bd4"
      }
     }
    },
    "b04719fc-934a-404b-a642-dc732a3d1589": {
     "id": "b04719fc-934a-404b-a642-dc732a3d1589",
     "prev": "af2f5933-b31d-4d30-b08a-e4c09432b9bb",
     "regions": {
      "701cdc94-3399-40dc-8e45-10d6edbf0959": {
       "attrs": {
        "height": 0.4,
        "width": 0.8,
        "x": 0.1,
        "y": 0.5
       },
       "content": {
        "cell": "fa78fa75-54cf-40d3-b52c-4b51c5070d9a",
        "part": "whole"
       },
       "id": "701cdc94-3399-40dc-8e45-10d6edbf0959"
      },
      "81f01069-a0c6-4ab1-98d1-d465e96aac6d": {
       "attrs": {
        "height": 0.8,
        "width": 0.8,
        "x": 0.1,
        "y": 0.1
       },
       "content": {
        "cell": "fb58a52c-71e9-402d-af86-eab194cf8050",
        "part": "whole"
       },
       "id": "81f01069-a0c6-4ab1-98d1-d465e96aac6d"
      },
      "ae73fc9b-89cf-4405-ab54-34e6c8b73a19": {
       "attrs": {
        "height": 0.4,
        "width": 0.8,
        "x": 0.1,
        "y": 0.5
       },
       "content": {
        "cell": "241f356d-567a-421d-b27c-7ce2d146d1bb",
        "part": "whole"
       },
       "id": "ae73fc9b-89cf-4405-ab54-34e6c8b73a19"
      }
     }
    },
    "b7c25bc1-4dd7-421b-9951-0c0c403c176d": {
     "id": "b7c25bc1-4dd7-421b-9951-0c0c403c176d",
     "prev": "76838eab-c2c3-4ff3-b09f-854a7c74c6d4",
     "regions": {
      "47f524f5-68f8-49df-9a61-61eab6cab03c": {
       "attrs": {
        "height": 0.4,
        "width": 0.8,
        "x": 0.1,
        "y": 0.5
       },
       "content": {
        "cell": "966e050d-5739-4ef9-a2ae-9a4957e14f3e",
        "part": "whole"
       },
       "id": "47f524f5-68f8-49df-9a61-61eab6cab03c"
      },
      "4b3ba01a-29e7-4e67-ac78-988162f7dde9": {
       "attrs": {
        "height": 0.8,
        "width": 0.8,
        "x": 0.1,
        "y": 0.1
       },
       "content": {
        "cell": "91401f60-44eb-42b2-86ea-c82b5e955ace",
        "part": "whole"
       },
       "id": "4b3ba01a-29e7-4e67-ac78-988162f7dde9"
      },
      "a47d9662-0a49-4b84-aae0-908067552ebd": {
       "attrs": {
        "height": 0.4,
        "width": 0.8,
        "x": 0.1,
        "y": 0.5
       },
       "content": {
        "cell": "6de4dae8-c949-4927-89a3-9741aba83e8d",
        "part": "whole"
       },
       "id": "a47d9662-0a49-4b84-aae0-908067552ebd"
      },
      "e64668fe-aafe-4e24-a46d-6a6266eeee77": {
       "attrs": {
        "height": 0.4,
        "width": 0.8,
        "x": 0.1,
        "y": 0.5
       },
       "content": {
        "cell": "7068c96d-f8f0-42bb-bdfd-dcbf9335323c",
        "part": "whole"
       },
       "id": "e64668fe-aafe-4e24-a46d-6a6266eeee77"
      }
     }
    },
    "d3ecec0a-67fe-4558-a268-50695fd7fe1c": {
     "id": "d3ecec0a-67fe-4558-a268-50695fd7fe1c",
     "prev": "fcda7de6-cb93-4b63-9dea-d5f23fecd968",
     "regions": {
      "b268bb57-2543-4b91-b9c0-84aa3cf09d5c": {
       "attrs": {
        "height": 0.8,
        "width": 0.8,
        "x": 0.1,
        "y": 0.1
       },
       "content": {
        "cell": "67aab8fa-45cd-4ede-8285-e3dad22d8b16",
        "part": "whole"
       },
       "id": "b268bb57-2543-4b91-b9c0-84aa3cf09d5c"
      }
     }
    },
    "e92a9020-6631-400a-aa50-46c1fa0a5f0c": {
     "id": "e92a9020-6631-400a-aa50-46c1fa0a5f0c",
     "prev": "ee94ae9b-9e13-414c-a017-db1d8913aaa8",
     "regions": {
      "bb15b4ea-132f-4146-ab77-93a4969c2904": {
       "attrs": {
        "height": 0.8,
        "width": 0.8,
        "x": 0.1,
        "y": 0.1
       },
       "content": {
        "cell": "7d5d2002-5cae-4d5f-8e2e-d5eaf5cd17da",
        "part": "whole"
       },
       "id": "bb15b4ea-132f-4146-ab77-93a4969c2904"
      }
     }
    },
    "ee94ae9b-9e13-414c-a017-db1d8913aaa8": {
     "id": "ee94ae9b-9e13-414c-a017-db1d8913aaa8",
     "prev": "f8fce519-927e-4fd0-88d8-23ece4403794",
     "regions": {
      "0b578bb1-2cd1-480b-8d65-dde0861851cb": {
       "attrs": {
        "height": 0.8,
        "width": 0.8,
        "x": 0.1,
        "y": 0.1
       },
       "content": {
        "cell": "f1c699bc-6717-4eb9-8e6d-66d433ba4618",
        "part": "whole"
       },
       "id": "0b578bb1-2cd1-480b-8d65-dde0861851cb"
      }
     }
    },
    "f8fce519-927e-4fd0-88d8-23ece4403794": {
     "id": "f8fce519-927e-4fd0-88d8-23ece4403794",
     "prev": "4792c0cc-ccd4-48bf-9b0e-a3c1f0f3008d",
     "regions": {
      "7510ae01-fe22-48b0-92cb-29b880cc85fc": {
       "attrs": {
        "height": 0.8,
        "width": 0.8,
        "x": 0.1,
        "y": 0.1
       },
       "content": {
        "cell": "e61ba538-5828-4a5a-a2c5-4fcceac35889",
        "part": "whole"
       },
       "id": "7510ae01-fe22-48b0-92cb-29b880cc85fc"
      }
     }
    },
    "fcda7de6-cb93-4b63-9dea-d5f23fecd968": {
     "id": "fcda7de6-cb93-4b63-9dea-d5f23fecd968",
     "prev": "03210a56-863e-4749-b7ba-ed75bfceceee",
     "regions": {
      "43f5b3bd-9e0c-4a98-a18c-1b9f7beaa3b8": {
       "attrs": {
        "height": 0.8,
        "width": 0.8,
        "x": 0.1,
        "y": 0.1
       },
       "content": {
        "cell": "318099ba-93dd-4c2c-a3ee-fc6622c472c8",
        "part": "whole"
       },
       "id": "43f5b3bd-9e0c-4a98-a18c-1b9f7beaa3b8"
      },
      "dbab9920-f08a-457a-949d-2c8289707798": {
       "attrs": {
        "height": 0.4,
        "width": 0.8,
        "x": 0.1,
        "y": 0.5
       },
       "content": {
        "cell": "8bb35ef7-00cc-4ad9-9dd4-6fac480df38e",
        "part": "whole"
       },
       "id": "dbab9920-f08a-457a-949d-2c8289707798"
      }
     }
    }
   },
   "themes": {}
  },
  "varInspector": {
   "cols": {
    "lenName": 16,
    "lenType": 16,
    "lenVar": 40
   },
   "kernels_config": {
    "python": {
     "delete_cmd_postfix": "",
     "delete_cmd_prefix": "del ",
     "library": "var_list.py",
     "varRefreshCmd": "print(var_dic_list())"
    },
    "r": {
     "delete_cmd_postfix": ") ",
     "delete_cmd_prefix": "rm(",
     "library": "var_list.r",
     "varRefreshCmd": "cat(var_dic_list()) "
    }
   },
   "types_to_exclude": [
    "module",
    "function",
    "builtin_function_or_method",
    "instance",
    "_Feature"
   ],
   "window_display": false
  }
 },
 "nbformat": 4,
 "nbformat_minor": 2
}
